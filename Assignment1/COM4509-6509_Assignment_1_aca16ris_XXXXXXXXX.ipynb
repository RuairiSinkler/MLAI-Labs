{
 "metadata": {
  "language_info": {
   "codemirror_mode": {
    "name": "ipython",
    "version": 3
   },
   "file_extension": ".py",
   "mimetype": "text/x-python",
   "name": "python",
   "nbconvert_exporter": "python",
   "pygments_lexer": "ipython3",
   "version": "3.8.5-final"
  },
  "orig_nbformat": 2,
  "kernelspec": {
   "name": "Python 3.8.5 64-bit ('machine-learning': conda)",
   "display_name": "Python 3.8.5 64-bit ('machine-learning': conda)",
   "metadata": {
    "interpreter": {
     "hash": "d3299179da003e2596aee68c82203b6b6082ef4cae9c056237f72b7bfa3d4355"
    }
   }
  }
 },
 "nbformat": 4,
 "nbformat_minor": 2,
 "cells": [
  {
   "source": [
    "First of all we unzip the data zip"
   ],
   "cell_type": "markdown",
   "metadata": {}
  },
  {
   "cell_type": "code",
   "execution_count": 67,
   "metadata": {},
   "outputs": [],
   "source": [
    "import zipfile\n",
    "zip = zipfile.ZipFile('./data.zip', 'r')\n",
    "for name in zip.namelist():\n",
    "    zip.extract(name, './data')"
   ]
  },
  {
   "source": [
    "Take the unzipped csv and read into a pandas dataframe"
   ],
   "cell_type": "markdown",
   "metadata": {}
  },
  {
   "cell_type": "code",
   "execution_count": 68,
   "metadata": {},
   "outputs": [
    {
     "output_type": "execute_result",
     "data": {
      "text/plain": [
       "        Row_ID  Household_ID  Vehicle  Calendar_Year  Model_Year Blind_Make  \\\n",
       "21495  6639571       4272308        1           2005        2002         AJ   \n",
       "26665  8874573       5914614        2           2005        2003          X   \n",
       "22911  1924547       1084639        2           2007        2007         AO   \n",
       "7763    576777        476410        1           2005        1993         BF   \n",
       "9351   5210170       3630174        1           2006        1999         BZ   \n",
       "\n",
       "      Blind_Model Blind_Submodel Cat1 Cat2 Cat3 Cat4 Cat5 Cat6 Cat7 Cat8 Cat9  \\\n",
       "21495       AJ.76        AJ.76.2    D    A    A    ?    ?    E    ?    A    B   \n",
       "26665        X.38         X.38.5    C    C    A    C    A    B    ?    A    B   \n",
       "22911       AO.13        AO.13.1    B    C    B    A    A    C    C    B    B   \n",
       "7763        BF.42        BF.42.0    B    ?    E    A    A    C    C    A    B   \n",
       "9351         BZ.9         BZ.9.0    B    A    A    A    A    F    C    B    B   \n",
       "\n",
       "      Cat10 Cat11 Cat12 OrdCat      Var1      Var2      Var3      Var4  \\\n",
       "21495     A     B     D      5  2.395429  0.826507  1.814591  1.162057   \n",
       "26665     A     E     B      5 -0.858737  1.258785  0.241049  1.162057   \n",
       "22911     A     ?   NaN      2 -0.456988 -1.334886 -0.707705 -1.374998   \n",
       "7763      B     D     D      2 -0.681967 -1.507798 -0.915968 -1.544135   \n",
       "9351      A     A     B      2 -1.156031 -1.161975 -1.378775 -1.205861   \n",
       "\n",
       "           Var5      Var6      Var7      Var8 NVCat   NVVar1    NVVar2  \\\n",
       "21495  2.394597  1.915010  1.706488  0.307615     E -0.23153 -0.266117   \n",
       "26665 -0.471927 -0.609225 -1.181101 -0.276548     M -0.23153 -0.266117   \n",
       "22911 -0.858491 -0.832639 -0.763322  0.031943     C -0.23153 -0.266117   \n",
       "7763  -0.590869 -0.947271 -0.886198 -1.199174     O -0.23153 -0.266117   \n",
       "9351  -1.476994 -1.590612 -1.082800 -0.905124     M -0.23153 -0.266117   \n",
       "\n",
       "         NVVar3    NVVar4  Claim_Amount  \n",
       "21495 -0.272337 -0.251419      8.469502  \n",
       "26665 -0.272337 -0.251419      0.000000  \n",
       "22911  5.703317 -0.251419     45.950060  \n",
       "7763  -0.272337 -0.251419      0.000000  \n",
       "9351  -0.272337 -0.251419      0.000000  "
      ],
      "text/html": "<div>\n<style scoped>\n    .dataframe tbody tr th:only-of-type {\n        vertical-align: middle;\n    }\n\n    .dataframe tbody tr th {\n        vertical-align: top;\n    }\n\n    .dataframe thead th {\n        text-align: right;\n    }\n</style>\n<table border=\"1\" class=\"dataframe\">\n  <thead>\n    <tr style=\"text-align: right;\">\n      <th></th>\n      <th>Row_ID</th>\n      <th>Household_ID</th>\n      <th>Vehicle</th>\n      <th>Calendar_Year</th>\n      <th>Model_Year</th>\n      <th>Blind_Make</th>\n      <th>Blind_Model</th>\n      <th>Blind_Submodel</th>\n      <th>Cat1</th>\n      <th>Cat2</th>\n      <th>Cat3</th>\n      <th>Cat4</th>\n      <th>Cat5</th>\n      <th>Cat6</th>\n      <th>Cat7</th>\n      <th>Cat8</th>\n      <th>Cat9</th>\n      <th>Cat10</th>\n      <th>Cat11</th>\n      <th>Cat12</th>\n      <th>OrdCat</th>\n      <th>Var1</th>\n      <th>Var2</th>\n      <th>Var3</th>\n      <th>Var4</th>\n      <th>Var5</th>\n      <th>Var6</th>\n      <th>Var7</th>\n      <th>Var8</th>\n      <th>NVCat</th>\n      <th>NVVar1</th>\n      <th>NVVar2</th>\n      <th>NVVar3</th>\n      <th>NVVar4</th>\n      <th>Claim_Amount</th>\n    </tr>\n  </thead>\n  <tbody>\n    <tr>\n      <th>21495</th>\n      <td>6639571</td>\n      <td>4272308</td>\n      <td>1</td>\n      <td>2005</td>\n      <td>2002</td>\n      <td>AJ</td>\n      <td>AJ.76</td>\n      <td>AJ.76.2</td>\n      <td>D</td>\n      <td>A</td>\n      <td>A</td>\n      <td>?</td>\n      <td>?</td>\n      <td>E</td>\n      <td>?</td>\n      <td>A</td>\n      <td>B</td>\n      <td>A</td>\n      <td>B</td>\n      <td>D</td>\n      <td>5</td>\n      <td>2.395429</td>\n      <td>0.826507</td>\n      <td>1.814591</td>\n      <td>1.162057</td>\n      <td>2.394597</td>\n      <td>1.915010</td>\n      <td>1.706488</td>\n      <td>0.307615</td>\n      <td>E</td>\n      <td>-0.23153</td>\n      <td>-0.266117</td>\n      <td>-0.272337</td>\n      <td>-0.251419</td>\n      <td>8.469502</td>\n    </tr>\n    <tr>\n      <th>26665</th>\n      <td>8874573</td>\n      <td>5914614</td>\n      <td>2</td>\n      <td>2005</td>\n      <td>2003</td>\n      <td>X</td>\n      <td>X.38</td>\n      <td>X.38.5</td>\n      <td>C</td>\n      <td>C</td>\n      <td>A</td>\n      <td>C</td>\n      <td>A</td>\n      <td>B</td>\n      <td>?</td>\n      <td>A</td>\n      <td>B</td>\n      <td>A</td>\n      <td>E</td>\n      <td>B</td>\n      <td>5</td>\n      <td>-0.858737</td>\n      <td>1.258785</td>\n      <td>0.241049</td>\n      <td>1.162057</td>\n      <td>-0.471927</td>\n      <td>-0.609225</td>\n      <td>-1.181101</td>\n      <td>-0.276548</td>\n      <td>M</td>\n      <td>-0.23153</td>\n      <td>-0.266117</td>\n      <td>-0.272337</td>\n      <td>-0.251419</td>\n      <td>0.000000</td>\n    </tr>\n    <tr>\n      <th>22911</th>\n      <td>1924547</td>\n      <td>1084639</td>\n      <td>2</td>\n      <td>2007</td>\n      <td>2007</td>\n      <td>AO</td>\n      <td>AO.13</td>\n      <td>AO.13.1</td>\n      <td>B</td>\n      <td>C</td>\n      <td>B</td>\n      <td>A</td>\n      <td>A</td>\n      <td>C</td>\n      <td>C</td>\n      <td>B</td>\n      <td>B</td>\n      <td>A</td>\n      <td>?</td>\n      <td>NaN</td>\n      <td>2</td>\n      <td>-0.456988</td>\n      <td>-1.334886</td>\n      <td>-0.707705</td>\n      <td>-1.374998</td>\n      <td>-0.858491</td>\n      <td>-0.832639</td>\n      <td>-0.763322</td>\n      <td>0.031943</td>\n      <td>C</td>\n      <td>-0.23153</td>\n      <td>-0.266117</td>\n      <td>5.703317</td>\n      <td>-0.251419</td>\n      <td>45.950060</td>\n    </tr>\n    <tr>\n      <th>7763</th>\n      <td>576777</td>\n      <td>476410</td>\n      <td>1</td>\n      <td>2005</td>\n      <td>1993</td>\n      <td>BF</td>\n      <td>BF.42</td>\n      <td>BF.42.0</td>\n      <td>B</td>\n      <td>?</td>\n      <td>E</td>\n      <td>A</td>\n      <td>A</td>\n      <td>C</td>\n      <td>C</td>\n      <td>A</td>\n      <td>B</td>\n      <td>B</td>\n      <td>D</td>\n      <td>D</td>\n      <td>2</td>\n      <td>-0.681967</td>\n      <td>-1.507798</td>\n      <td>-0.915968</td>\n      <td>-1.544135</td>\n      <td>-0.590869</td>\n      <td>-0.947271</td>\n      <td>-0.886198</td>\n      <td>-1.199174</td>\n      <td>O</td>\n      <td>-0.23153</td>\n      <td>-0.266117</td>\n      <td>-0.272337</td>\n      <td>-0.251419</td>\n      <td>0.000000</td>\n    </tr>\n    <tr>\n      <th>9351</th>\n      <td>5210170</td>\n      <td>3630174</td>\n      <td>1</td>\n      <td>2006</td>\n      <td>1999</td>\n      <td>BZ</td>\n      <td>BZ.9</td>\n      <td>BZ.9.0</td>\n      <td>B</td>\n      <td>A</td>\n      <td>A</td>\n      <td>A</td>\n      <td>A</td>\n      <td>F</td>\n      <td>C</td>\n      <td>B</td>\n      <td>B</td>\n      <td>A</td>\n      <td>A</td>\n      <td>B</td>\n      <td>2</td>\n      <td>-1.156031</td>\n      <td>-1.161975</td>\n      <td>-1.378775</td>\n      <td>-1.205861</td>\n      <td>-1.476994</td>\n      <td>-1.590612</td>\n      <td>-1.082800</td>\n      <td>-0.905124</td>\n      <td>M</td>\n      <td>-0.23153</td>\n      <td>-0.266117</td>\n      <td>-0.272337</td>\n      <td>-0.251419</td>\n      <td>0.000000</td>\n    </tr>\n  </tbody>\n</table>\n</div>"
     },
     "metadata": {},
     "execution_count": 68
    }
   ],
   "source": [
    "import pandas as pd \n",
    "insurance_data = pd.read_csv('./data/train.csv', encoding= 'unicode_escape')\n",
    "insurance_data.sample(5)"
   ]
  },
  {
   "source": [
    "Lets take a look at what this all actually means"
   ],
   "cell_type": "markdown",
   "metadata": {}
  },
  {
   "cell_type": "code",
   "execution_count": 69,
   "metadata": {},
   "outputs": [
    {
     "output_type": "display_data",
     "data": {
      "text/plain": "<IPython.core.display.HTML object>",
      "text/html": "<iframe allowtransparency='true' style='background: #FFFFFF;' src='./data/data_dictionary.html' width=1000 height=600></iframe>"
     },
     "metadata": {}
    }
   ],
   "source": [
    "from IPython.display import IFrame, HTML\n",
    "\n",
    "iframe = \"<iframe allowtransparency='true' style='background: #FFFFFF;' src='./data/data_dictionary.html' width=1000 height=600></iframe>\"\n",
    "display(HTML(iframe))"
   ]
  },
  {
   "source": [
    "# Data Preprocessing\n",
    "\n",
    "## Separate the data into training, validation and test sets"
   ],
   "cell_type": "markdown",
   "metadata": {}
  },
  {
   "cell_type": "code",
   "execution_count": 70,
   "metadata": {},
   "outputs": [],
   "source": [
    "from sklearn.model_selection import train_test_split\n",
    "\n",
    "exploration_data, test_data = train_test_split(insurance_data, test_size=0.15, random_state=42)\n",
    "training_data, val_data = train_test_split(exploration_data, test_size=0.15, random_state=42)"
   ]
  },
  {
   "cell_type": "code",
   "execution_count": 71,
   "metadata": {},
   "outputs": [
    {
     "output_type": "stream",
     "name": "stdout",
     "text": [
      "<class 'pandas.core.frame.DataFrame'>\nInt64Index: 25500 entries, 17443 to 23654\nData columns (total 35 columns):\n #   Column          Non-Null Count  Dtype  \n---  ------          --------------  -----  \n 0   Row_ID          25500 non-null  int64  \n 1   Household_ID    25500 non-null  int64  \n 2   Vehicle         25500 non-null  int64  \n 3   Calendar_Year   25500 non-null  int64  \n 4   Model_Year      25500 non-null  int64  \n 5   Blind_Make      25500 non-null  object \n 6   Blind_Model     25500 non-null  object \n 7   Blind_Submodel  25500 non-null  object \n 8   Cat1            25500 non-null  object \n 9   Cat2            25500 non-null  object \n 10  Cat3            25500 non-null  object \n 11  Cat4            25500 non-null  object \n 12  Cat5            25500 non-null  object \n 13  Cat6            25500 non-null  object \n 14  Cat7            25500 non-null  object \n 15  Cat8            25500 non-null  object \n 16  Cat9            25500 non-null  object \n 17  Cat10           25500 non-null  object \n 18  Cat11           25500 non-null  object \n 19  Cat12           25455 non-null  object \n 20  OrdCat          25500 non-null  object \n 21  Var1            25500 non-null  float64\n 22  Var2            25500 non-null  float64\n 23  Var3            25500 non-null  float64\n 24  Var4            25500 non-null  float64\n 25  Var5            25500 non-null  float64\n 26  Var6            25500 non-null  float64\n 27  Var7            25500 non-null  float64\n 28  Var8            25500 non-null  float64\n 29  NVCat           25500 non-null  object \n 30  NVVar1          25500 non-null  float64\n 31  NVVar2          25500 non-null  float64\n 32  NVVar3          25500 non-null  float64\n 33  NVVar4          25500 non-null  float64\n 34  Claim_Amount    25500 non-null  float64\ndtypes: float64(13), int64(5), object(17)\nmemory usage: 7.0+ MB\n"
     ]
    }
   ],
   "source": [
    "exploration_data.info()"
   ]
  },
  {
   "source": [
    "Change all int64 rows to float64, since the algorithm will expect float64's"
   ],
   "cell_type": "markdown",
   "metadata": {}
  },
  {
   "cell_type": "code",
   "execution_count": 72,
   "metadata": {},
   "outputs": [
    {
     "output_type": "stream",
     "name": "stdout",
     "text": [
      "<class 'pandas.core.frame.DataFrame'>\nInt64Index: 25500 entries, 17443 to 23654\nData columns (total 35 columns):\n #   Column          Non-Null Count  Dtype  \n---  ------          --------------  -----  \n 0   Row_ID          25500 non-null  float64\n 1   Household_ID    25500 non-null  float64\n 2   Vehicle         25500 non-null  float64\n 3   Calendar_Year   25500 non-null  float64\n 4   Model_Year      25500 non-null  float64\n 5   Blind_Make      25500 non-null  object \n 6   Blind_Model     25500 non-null  object \n 7   Blind_Submodel  25500 non-null  object \n 8   Cat1            25500 non-null  object \n 9   Cat2            25500 non-null  object \n 10  Cat3            25500 non-null  object \n 11  Cat4            25500 non-null  object \n 12  Cat5            25500 non-null  object \n 13  Cat6            25500 non-null  object \n 14  Cat7            25500 non-null  object \n 15  Cat8            25500 non-null  object \n 16  Cat9            25500 non-null  object \n 17  Cat10           25500 non-null  object \n 18  Cat11           25500 non-null  object \n 19  Cat12           25455 non-null  object \n 20  OrdCat          25500 non-null  object \n 21  Var1            25500 non-null  float64\n 22  Var2            25500 non-null  float64\n 23  Var3            25500 non-null  float64\n 24  Var4            25500 non-null  float64\n 25  Var5            25500 non-null  float64\n 26  Var6            25500 non-null  float64\n 27  Var7            25500 non-null  float64\n 28  Var8            25500 non-null  float64\n 29  NVCat           25500 non-null  object \n 30  NVVar1          25500 non-null  float64\n 31  NVVar2          25500 non-null  float64\n 32  NVVar3          25500 non-null  float64\n 33  NVVar4          25500 non-null  float64\n 34  Claim_Amount    25500 non-null  float64\ndtypes: float64(18), object(17)\nmemory usage: 7.0+ MB\n"
     ]
    }
   ],
   "source": [
    "int_cols = ['Row_ID', 'Household_ID', 'Vehicle', 'Calendar_Year', 'Model_Year']\n",
    "for col in int_cols:\n",
    "    exploration_data[col] = exploration_data[col].astype('float64')\n",
    "\n",
    "exploration_data.info()"
   ]
  },
  {
   "source": [
    "## Missing Data Values"
   ],
   "cell_type": "markdown",
   "metadata": {}
  },
  {
   "cell_type": "code",
   "execution_count": 73,
   "metadata": {},
   "outputs": [
    {
     "output_type": "stream",
     "name": "stdout",
     "text": [
      "(25500, 35)\n"
     ]
    },
    {
     "output_type": "execute_result",
     "data": {
      "text/plain": [
       "          Row_ID  Household_ID  Vehicle  Calendar_Year  Model_Year Blind_Make  \\\n",
       "17443  6233088.0     4131152.0      1.0         2006.0      1997.0         BF   \n",
       "2145   6181031.0     4115511.0      1.0         2006.0      2001.0         AN   \n",
       "16657  7629841.0     4871388.0      2.0         2005.0      1997.0          K   \n",
       "26299  4555000.0     2730655.0      2.0         2005.0      2001.0          P   \n",
       "25590  2234758.0     1661474.0      2.0         2007.0      2003.0         AH   \n",
       "...          ...           ...      ...            ...         ...        ...   \n",
       "29802  6032467.0     4067346.0      2.0         2005.0      2004.0          Z   \n",
       "5390   2058446.0     1230894.0      3.0         2007.0      2000.0         AJ   \n",
       "860    1901633.0     1046392.0      2.0         2006.0      2002.0          Y   \n",
       "15795  1020501.0      647018.0      1.0         2006.0      2003.0         AJ   \n",
       "23654  7574283.0     4853820.0      2.0         2005.0      1993.0          K   \n",
       "\n",
       "      Blind_Model Blind_Submodel Cat1 Cat2 Cat3 Cat4 Cat5 Cat6 Cat7 Cat8 Cat9  \\\n",
       "17443       BF.36        BF.36.3    B    ?    A    A    A    C    D    A    B   \n",
       "2145        AN.12        AN.12.0    I    A    A    ?    ?    C    ?    A    B   \n",
       "16657        K.81         K.81.0    D    ?    E    ?    ?    C    ?    A    B   \n",
       "26299        P.33         P.33.0    J    C    B    ?    ?    B    ?    B    A   \n",
       "25590      AH.168       AH.168.1    I    C    B    ?    ?    E    ?    B    A   \n",
       "...           ...            ...  ...  ...  ...  ...  ...  ...  ...  ...  ...   \n",
       "29802         Z.5          Z.5.0    I    C    F    ?    ?    D    ?    B    B   \n",
       "5390       AJ.123       AJ.123.3    D    C    A    ?    ?    C    ?    A    B   \n",
       "860           Y.9          Y.9.0    F    C    A    C    A    C    ?    B    B   \n",
       "15795       AJ.77        AJ.77.2    D    A    A    ?    ?    E    ?    A    B   \n",
       "23654        K.51         K.51.0    D    ?    C    ?    ?    C    ?    A    B   \n",
       "\n",
       "      Cat10 Cat11 Cat12 OrdCat      Var1      Var2      Var3      Var4  \\\n",
       "17443     A     A     B      2 -0.641792 -0.954481 -1.054810 -1.002897   \n",
       "2145      B     A     D      2 -0.714107 -0.660532  0.125347 -0.715364   \n",
       "16657     A     B     C      4  0.796469 -0.072633 -1.286213 -0.021902   \n",
       "26299     A     A     B      4 -0.722142  0.567140 -0.129197  0.485509   \n",
       "25590     C     F     F      5  1.447302  1.950431  1.560048  2.176878   \n",
       "...     ...   ...   ...    ...       ...       ...       ...       ...   \n",
       "29802     A     E     D      4  1.366952  1.518152  0.935259  1.415762   \n",
       "5390      B     E     D      4  1.117868 -0.764278 -0.406881 -0.698450   \n",
       "860       B     A     B      2 -0.633757 -1.248430 -0.777126 -1.290430   \n",
       "15795     B     D     B      6  2.395429  2.036887  1.814591  2.007742   \n",
       "23654     B     ?   NaN      2 -0.722142 -1.231139 -1.286213 -1.273516   \n",
       "\n",
       "           Var5      Var6      Var7      Var8 NVCat   NVVar1    NVVar2  \\\n",
       "17443 -1.149901 -1.249056 -1.217964 -1.302113     M -0.23153 -0.266117   \n",
       "2145  -0.828755 -0.108589  0.391714 -0.500367     M  3.19779 -0.266117   \n",
       "16657  0.467722 -0.282876  0.514590 -0.473128     O -0.23153 -0.266117   \n",
       "26299 -0.656288  0.149917  0.367138  1.263169     M -0.23153 -0.266117   \n",
       "25590  1.674992  2.316221  1.595900  1.946333     M -0.23153 -0.266117   \n",
       "...         ...       ...       ...       ...   ...      ...       ...   \n",
       "29802  0.979176  1.407356  1.571325  0.600134     N -0.23153 -0.266117   \n",
       "5390   0.628295  0.014231  0.588315 -0.331791     B -0.23153  2.783616   \n",
       "860   -0.608711 -1.134425 -1.193388 -0.844848     O  6.62711 -0.266117   \n",
       "15795  2.394597  2.708074  2.038254  0.670255     B -0.23153  2.783616   \n",
       "23654 -0.983381 -1.078278 -0.234955 -1.219740     O -0.23153 -0.266117   \n",
       "\n",
       "         NVVar3    NVVar4  Claim_Amount  \n",
       "17443 -0.272337  3.068692       0.00000  \n",
       "2145  -0.272337  3.068692       0.00000  \n",
       "16657 -0.272337 -0.251419       0.00000  \n",
       "26299 -0.272337 -0.251419       0.00000  \n",
       "25590 -0.272337 -0.251419       0.00000  \n",
       "...         ...       ...           ...  \n",
       "29802 -0.272337 -0.251419       0.00000  \n",
       "5390   2.715490 -0.251419       0.00000  \n",
       "860   -0.272337 -0.251419      51.22344  \n",
       "15795 -0.272337 -0.251419       0.00000  \n",
       "23654 -0.272337 -0.251419       0.00000  \n",
       "\n",
       "[18263 rows x 35 columns]"
      ],
      "text/html": "<div>\n<style scoped>\n    .dataframe tbody tr th:only-of-type {\n        vertical-align: middle;\n    }\n\n    .dataframe tbody tr th {\n        vertical-align: top;\n    }\n\n    .dataframe thead th {\n        text-align: right;\n    }\n</style>\n<table border=\"1\" class=\"dataframe\">\n  <thead>\n    <tr style=\"text-align: right;\">\n      <th></th>\n      <th>Row_ID</th>\n      <th>Household_ID</th>\n      <th>Vehicle</th>\n      <th>Calendar_Year</th>\n      <th>Model_Year</th>\n      <th>Blind_Make</th>\n      <th>Blind_Model</th>\n      <th>Blind_Submodel</th>\n      <th>Cat1</th>\n      <th>Cat2</th>\n      <th>Cat3</th>\n      <th>Cat4</th>\n      <th>Cat5</th>\n      <th>Cat6</th>\n      <th>Cat7</th>\n      <th>Cat8</th>\n      <th>Cat9</th>\n      <th>Cat10</th>\n      <th>Cat11</th>\n      <th>Cat12</th>\n      <th>OrdCat</th>\n      <th>Var1</th>\n      <th>Var2</th>\n      <th>Var3</th>\n      <th>Var4</th>\n      <th>Var5</th>\n      <th>Var6</th>\n      <th>Var7</th>\n      <th>Var8</th>\n      <th>NVCat</th>\n      <th>NVVar1</th>\n      <th>NVVar2</th>\n      <th>NVVar3</th>\n      <th>NVVar4</th>\n      <th>Claim_Amount</th>\n    </tr>\n  </thead>\n  <tbody>\n    <tr>\n      <th>17443</th>\n      <td>6233088.0</td>\n      <td>4131152.0</td>\n      <td>1.0</td>\n      <td>2006.0</td>\n      <td>1997.0</td>\n      <td>BF</td>\n      <td>BF.36</td>\n      <td>BF.36.3</td>\n      <td>B</td>\n      <td>?</td>\n      <td>A</td>\n      <td>A</td>\n      <td>A</td>\n      <td>C</td>\n      <td>D</td>\n      <td>A</td>\n      <td>B</td>\n      <td>A</td>\n      <td>A</td>\n      <td>B</td>\n      <td>2</td>\n      <td>-0.641792</td>\n      <td>-0.954481</td>\n      <td>-1.054810</td>\n      <td>-1.002897</td>\n      <td>-1.149901</td>\n      <td>-1.249056</td>\n      <td>-1.217964</td>\n      <td>-1.302113</td>\n      <td>M</td>\n      <td>-0.23153</td>\n      <td>-0.266117</td>\n      <td>-0.272337</td>\n      <td>3.068692</td>\n      <td>0.00000</td>\n    </tr>\n    <tr>\n      <th>2145</th>\n      <td>6181031.0</td>\n      <td>4115511.0</td>\n      <td>1.0</td>\n      <td>2006.0</td>\n      <td>2001.0</td>\n      <td>AN</td>\n      <td>AN.12</td>\n      <td>AN.12.0</td>\n      <td>I</td>\n      <td>A</td>\n      <td>A</td>\n      <td>?</td>\n      <td>?</td>\n      <td>C</td>\n      <td>?</td>\n      <td>A</td>\n      <td>B</td>\n      <td>B</td>\n      <td>A</td>\n      <td>D</td>\n      <td>2</td>\n      <td>-0.714107</td>\n      <td>-0.660532</td>\n      <td>0.125347</td>\n      <td>-0.715364</td>\n      <td>-0.828755</td>\n      <td>-0.108589</td>\n      <td>0.391714</td>\n      <td>-0.500367</td>\n      <td>M</td>\n      <td>3.19779</td>\n      <td>-0.266117</td>\n      <td>-0.272337</td>\n      <td>3.068692</td>\n      <td>0.00000</td>\n    </tr>\n    <tr>\n      <th>16657</th>\n      <td>7629841.0</td>\n      <td>4871388.0</td>\n      <td>2.0</td>\n      <td>2005.0</td>\n      <td>1997.0</td>\n      <td>K</td>\n      <td>K.81</td>\n      <td>K.81.0</td>\n      <td>D</td>\n      <td>?</td>\n      <td>E</td>\n      <td>?</td>\n      <td>?</td>\n      <td>C</td>\n      <td>?</td>\n      <td>A</td>\n      <td>B</td>\n      <td>A</td>\n      <td>B</td>\n      <td>C</td>\n      <td>4</td>\n      <td>0.796469</td>\n      <td>-0.072633</td>\n      <td>-1.286213</td>\n      <td>-0.021902</td>\n      <td>0.467722</td>\n      <td>-0.282876</td>\n      <td>0.514590</td>\n      <td>-0.473128</td>\n      <td>O</td>\n      <td>-0.23153</td>\n      <td>-0.266117</td>\n      <td>-0.272337</td>\n      <td>-0.251419</td>\n      <td>0.00000</td>\n    </tr>\n    <tr>\n      <th>26299</th>\n      <td>4555000.0</td>\n      <td>2730655.0</td>\n      <td>2.0</td>\n      <td>2005.0</td>\n      <td>2001.0</td>\n      <td>P</td>\n      <td>P.33</td>\n      <td>P.33.0</td>\n      <td>J</td>\n      <td>C</td>\n      <td>B</td>\n      <td>?</td>\n      <td>?</td>\n      <td>B</td>\n      <td>?</td>\n      <td>B</td>\n      <td>A</td>\n      <td>A</td>\n      <td>A</td>\n      <td>B</td>\n      <td>4</td>\n      <td>-0.722142</td>\n      <td>0.567140</td>\n      <td>-0.129197</td>\n      <td>0.485509</td>\n      <td>-0.656288</td>\n      <td>0.149917</td>\n      <td>0.367138</td>\n      <td>1.263169</td>\n      <td>M</td>\n      <td>-0.23153</td>\n      <td>-0.266117</td>\n      <td>-0.272337</td>\n      <td>-0.251419</td>\n      <td>0.00000</td>\n    </tr>\n    <tr>\n      <th>25590</th>\n      <td>2234758.0</td>\n      <td>1661474.0</td>\n      <td>2.0</td>\n      <td>2007.0</td>\n      <td>2003.0</td>\n      <td>AH</td>\n      <td>AH.168</td>\n      <td>AH.168.1</td>\n      <td>I</td>\n      <td>C</td>\n      <td>B</td>\n      <td>?</td>\n      <td>?</td>\n      <td>E</td>\n      <td>?</td>\n      <td>B</td>\n      <td>A</td>\n      <td>C</td>\n      <td>F</td>\n      <td>F</td>\n      <td>5</td>\n      <td>1.447302</td>\n      <td>1.950431</td>\n      <td>1.560048</td>\n      <td>2.176878</td>\n      <td>1.674992</td>\n      <td>2.316221</td>\n      <td>1.595900</td>\n      <td>1.946333</td>\n      <td>M</td>\n      <td>-0.23153</td>\n      <td>-0.266117</td>\n      <td>-0.272337</td>\n      <td>-0.251419</td>\n      <td>0.00000</td>\n    </tr>\n    <tr>\n      <th>...</th>\n      <td>...</td>\n      <td>...</td>\n      <td>...</td>\n      <td>...</td>\n      <td>...</td>\n      <td>...</td>\n      <td>...</td>\n      <td>...</td>\n      <td>...</td>\n      <td>...</td>\n      <td>...</td>\n      <td>...</td>\n      <td>...</td>\n      <td>...</td>\n      <td>...</td>\n      <td>...</td>\n      <td>...</td>\n      <td>...</td>\n      <td>...</td>\n      <td>...</td>\n      <td>...</td>\n      <td>...</td>\n      <td>...</td>\n      <td>...</td>\n      <td>...</td>\n      <td>...</td>\n      <td>...</td>\n      <td>...</td>\n      <td>...</td>\n      <td>...</td>\n      <td>...</td>\n      <td>...</td>\n      <td>...</td>\n      <td>...</td>\n      <td>...</td>\n    </tr>\n    <tr>\n      <th>29802</th>\n      <td>6032467.0</td>\n      <td>4067346.0</td>\n      <td>2.0</td>\n      <td>2005.0</td>\n      <td>2004.0</td>\n      <td>Z</td>\n      <td>Z.5</td>\n      <td>Z.5.0</td>\n      <td>I</td>\n      <td>C</td>\n      <td>F</td>\n      <td>?</td>\n      <td>?</td>\n      <td>D</td>\n      <td>?</td>\n      <td>B</td>\n      <td>B</td>\n      <td>A</td>\n      <td>E</td>\n      <td>D</td>\n      <td>4</td>\n      <td>1.366952</td>\n      <td>1.518152</td>\n      <td>0.935259</td>\n      <td>1.415762</td>\n      <td>0.979176</td>\n      <td>1.407356</td>\n      <td>1.571325</td>\n      <td>0.600134</td>\n      <td>N</td>\n      <td>-0.23153</td>\n      <td>-0.266117</td>\n      <td>-0.272337</td>\n      <td>-0.251419</td>\n      <td>0.00000</td>\n    </tr>\n    <tr>\n      <th>5390</th>\n      <td>2058446.0</td>\n      <td>1230894.0</td>\n      <td>3.0</td>\n      <td>2007.0</td>\n      <td>2000.0</td>\n      <td>AJ</td>\n      <td>AJ.123</td>\n      <td>AJ.123.3</td>\n      <td>D</td>\n      <td>C</td>\n      <td>A</td>\n      <td>?</td>\n      <td>?</td>\n      <td>C</td>\n      <td>?</td>\n      <td>A</td>\n      <td>B</td>\n      <td>B</td>\n      <td>E</td>\n      <td>D</td>\n      <td>4</td>\n      <td>1.117868</td>\n      <td>-0.764278</td>\n      <td>-0.406881</td>\n      <td>-0.698450</td>\n      <td>0.628295</td>\n      <td>0.014231</td>\n      <td>0.588315</td>\n      <td>-0.331791</td>\n      <td>B</td>\n      <td>-0.23153</td>\n      <td>2.783616</td>\n      <td>2.715490</td>\n      <td>-0.251419</td>\n      <td>0.00000</td>\n    </tr>\n    <tr>\n      <th>860</th>\n      <td>1901633.0</td>\n      <td>1046392.0</td>\n      <td>2.0</td>\n      <td>2006.0</td>\n      <td>2002.0</td>\n      <td>Y</td>\n      <td>Y.9</td>\n      <td>Y.9.0</td>\n      <td>F</td>\n      <td>C</td>\n      <td>A</td>\n      <td>C</td>\n      <td>A</td>\n      <td>C</td>\n      <td>?</td>\n      <td>B</td>\n      <td>B</td>\n      <td>B</td>\n      <td>A</td>\n      <td>B</td>\n      <td>2</td>\n      <td>-0.633757</td>\n      <td>-1.248430</td>\n      <td>-0.777126</td>\n      <td>-1.290430</td>\n      <td>-0.608711</td>\n      <td>-1.134425</td>\n      <td>-1.193388</td>\n      <td>-0.844848</td>\n      <td>O</td>\n      <td>6.62711</td>\n      <td>-0.266117</td>\n      <td>-0.272337</td>\n      <td>-0.251419</td>\n      <td>51.22344</td>\n    </tr>\n    <tr>\n      <th>15795</th>\n      <td>1020501.0</td>\n      <td>647018.0</td>\n      <td>1.0</td>\n      <td>2006.0</td>\n      <td>2003.0</td>\n      <td>AJ</td>\n      <td>AJ.77</td>\n      <td>AJ.77.2</td>\n      <td>D</td>\n      <td>A</td>\n      <td>A</td>\n      <td>?</td>\n      <td>?</td>\n      <td>E</td>\n      <td>?</td>\n      <td>A</td>\n      <td>B</td>\n      <td>B</td>\n      <td>D</td>\n      <td>B</td>\n      <td>6</td>\n      <td>2.395429</td>\n      <td>2.036887</td>\n      <td>1.814591</td>\n      <td>2.007742</td>\n      <td>2.394597</td>\n      <td>2.708074</td>\n      <td>2.038254</td>\n      <td>0.670255</td>\n      <td>B</td>\n      <td>-0.23153</td>\n      <td>2.783616</td>\n      <td>-0.272337</td>\n      <td>-0.251419</td>\n      <td>0.00000</td>\n    </tr>\n    <tr>\n      <th>23654</th>\n      <td>7574283.0</td>\n      <td>4853820.0</td>\n      <td>2.0</td>\n      <td>2005.0</td>\n      <td>1993.0</td>\n      <td>K</td>\n      <td>K.51</td>\n      <td>K.51.0</td>\n      <td>D</td>\n      <td>?</td>\n      <td>C</td>\n      <td>?</td>\n      <td>?</td>\n      <td>C</td>\n      <td>?</td>\n      <td>A</td>\n      <td>B</td>\n      <td>B</td>\n      <td>?</td>\n      <td>NaN</td>\n      <td>2</td>\n      <td>-0.722142</td>\n      <td>-1.231139</td>\n      <td>-1.286213</td>\n      <td>-1.273516</td>\n      <td>-0.983381</td>\n      <td>-1.078278</td>\n      <td>-0.234955</td>\n      <td>-1.219740</td>\n      <td>O</td>\n      <td>-0.23153</td>\n      <td>-0.266117</td>\n      <td>-0.272337</td>\n      <td>-0.251419</td>\n      <td>0.00000</td>\n    </tr>\n  </tbody>\n</table>\n<p>18263 rows × 35 columns</p>\n</div>"
     },
     "metadata": {},
     "execution_count": 73
    }
   ],
   "source": [
    "print(exploration_data.shape)\n",
    "pd.set_option('display.max_columns', None)\n",
    "exploration_data[(exploration_data == '?').any(axis=1) | (exploration_data.isnull().any(axis=1))]"
   ]
  },
  {
   "source": [
    "Roughly 72% of the data has at least 1 missing value. Lets look at how each column contributes to that:"
   ],
   "cell_type": "markdown",
   "metadata": {}
  },
  {
   "cell_type": "code",
   "execution_count": 87,
   "metadata": {},
   "outputs": [
    {
     "output_type": "stream",
     "name": "stdout",
     "text": [
      "Row_ID:\nnulls: 0,  '?'s: 0, total: 0, Percentage null or '?':0.000%\nHousehold_ID:\nnulls: 0,  '?'s: 0, total: 0, Percentage null or '?':0.000%\nVehicle:\nnulls: 0,  '?'s: 0, total: 0, Percentage null or '?':0.000%\nCalendar_Year:\nnulls: 0,  '?'s: 0, total: 0, Percentage null or '?':0.000%\nModel_Year:\nnulls: 0,  '?'s: 0, total: 0, Percentage null or '?':0.000%\nBlind_Make:\nnulls: 0,  '?'s: 13, total: 13, Percentage null or '?':0.051%\nBlind_Model:\nnulls: 0,  '?'s: 13, total: 13, Percentage null or '?':0.051%\nBlind_Submodel:\nnulls: 0,  '?'s: 13, total: 13, Percentage null or '?':0.051%\nCat1:\nnulls: 0,  '?'s: 40, total: 40, Percentage null or '?':0.157%\nCat2:\nnulls: 0,  '?'s: 9013, total: 9013, Percentage null or '?':35.345%\nCat3:\nnulls: 0,  '?'s: 8, total: 8, Percentage null or '?':0.031%\nCat4:\nnulls: 0,  '?'s: 11002, total: 11002, Percentage null or '?':43.145%\nCat5:\nnulls: 0,  '?'s: 11013, total: 11013, Percentage null or '?':43.188%\nCat6:\nnulls: 0,  '?'s: 40, total: 40, Percentage null or '?':0.157%\nCat7:\nnulls: 0,  '?'s: 13995, total: 13995, Percentage null or '?':54.882%\nCat8:\nnulls: 0,  '?'s: 1, total: 1, Percentage null or '?':0.004%\nCat9:\nnulls: 0,  '?'s: 0, total: 0, Percentage null or '?':0.000%\nCat10:\nnulls: 0,  '?'s: 8, total: 8, Percentage null or '?':0.031%\nCat11:\nnulls: 0,  '?'s: 50, total: 50, Percentage null or '?':0.196%\nCat12:\nnulls: 45,  '?'s: 0, total: 45, Percentage null or '?':0.176%\nOrdCat:\nnulls: 0,  '?'s: 18, total: 18, Percentage null or '?':0.071%\nVar1:\nnulls: 0,  '?'s: 0, total: 0, Percentage null or '?':0.000%\nVar2:\nnulls: 0,  '?'s: 0, total: 0, Percentage null or '?':0.000%\nVar3:\nnulls: 0,  '?'s: 0, total: 0, Percentage null or '?':0.000%\nVar4:\nnulls: 0,  '?'s: 0, total: 0, Percentage null or '?':0.000%\nVar5:\nnulls: 0,  '?'s: 0, total: 0, Percentage null or '?':0.000%\nVar6:\nnulls: 0,  '?'s: 0, total: 0, Percentage null or '?':0.000%\nVar7:\nnulls: 0,  '?'s: 0, total: 0, Percentage null or '?':0.000%\nVar8:\nnulls: 0,  '?'s: 0, total: 0, Percentage null or '?':0.000%\nNVCat:\nnulls: 0,  '?'s: 0, total: 0, Percentage null or '?':0.000%\nNVVar1:\nnulls: 0,  '?'s: 0, total: 0, Percentage null or '?':0.000%\nNVVar2:\nnulls: 0,  '?'s: 0, total: 0, Percentage null or '?':0.000%\nNVVar3:\nnulls: 0,  '?'s: 0, total: 0, Percentage null or '?':0.000%\nNVVar4:\nnulls: 0,  '?'s: 0, total: 0, Percentage null or '?':0.000%\nClaim_Amount:\nnulls: 0,  '?'s: 0, total: 0, Percentage null or '?':0.000%\n"
     ]
    }
   ],
   "source": [
    "for column in exploration_data.columns:\n",
    "    print(\"{}:\".format(column))\n",
    "    nulls = exploration_data[column].isnull().sum()\n",
    "    question_marks = (exploration_data[column] == '?').sum()\n",
    "    total = nulls + question_marks\n",
    "    percentage = total * 100 / exploration_data.shape[0]\n",
    "    print(\"nulls: {:},  '?'s: {:}, total: {:}, Percentage null or '?':{:.3f}%\".format(nulls, question_marks, total, percentage))"
   ]
  }
 ]
}