{
 "cells": [
  {
   "cell_type": "code",
   "execution_count": 9,
   "metadata": {},
   "outputs": [
    {
     "output_type": "execute_result",
     "data": {
      "text/plain": [
       "array([[ 1.04597781,  0.04597781,  2.23596353],\n",
       "       [-0.13989289, -0.0067296 , -0.41231342]])"
      ]
     },
     "metadata": {},
     "execution_count": 9
    }
   ],
   "source": [
    "# Lab Sheet\n",
    "\n",
    "import math\n",
    "import numpy as np\n",
    "\n",
    "def f1(x1, x2, x3):\n",
    "    return (x1 * x3) + (math.log(x2+x1) * math.exp(-x3))\n",
    "\n",
    "def f2(x1, x2, x3):\n",
    "    return math.exp(-x2) + math.cos(x1*x3)\n",
    "\n",
    "epsilon = 1*math.exp(-6)\n",
    "x1 = 3\n",
    "x2 = 5\n",
    "x3 = 1\n",
    "\n",
    "df1dx1 = (f1(x1+epsilon, x2, x3) - f1(x1, x2, x3))/epsilon\n",
    "df1dx2 = (f1(x1, x2+epsilon, x3) - f1(x1, x2, x3))/epsilon\n",
    "df1dx3 = (f1(x1, x2, x3+epsilon) - f1(x1, x2, x3))/epsilon\n",
    "\n",
    "df2dx1 = (f2(x1+epsilon, x2, x3) - f2(x1, x2, x3))/epsilon\n",
    "df2dx2 = (f2(x1, x2+epsilon, x3) - f2(x1, x2, x3))/epsilon\n",
    "df2dx3 = (f2(x1, x2, x3+epsilon) - f2(x1, x2, x3))/epsilon\n",
    "\n",
    "J = np.array([[df1dx1, df1dx2, df1dx3], [df2dx1, df2dx2, df2dx3]])\n",
    "J"
   ]
  },
  {
   "cell_type": "markdown",
   "metadata": {},
   "source": [
    "# Introduction to PyTorch\n",
    "\n",
    "### 28th October 2020 by Juan-José Giraldo (PhD candidate) and Mauricio A Álvarez\n",
    "\n",
    "In this Notebook, we look at the torch library in Python that allows automatic differentiation. PyTorch will be used to implement different neural network models later on.\n",
    "\n",
    "### Tensors"
   ]
  },
  {
   "cell_type": "markdown",
   "metadata": {},
   "source": [
    "A tensor generalises the concept of vectors and matrices to an arbitrary number of dimensions. Another name for the same concept is multidimensional arrays. The dimensionality of a tensor is the number of indexes used to refer to scalar values within the tensor. The cell below shows an example initialising a Tensor uniformly for 1D, 2D and 3D:"
   ]
  },
  {
   "cell_type": "code",
   "execution_count": 1,
   "metadata": {},
   "outputs": [
    {
     "output_type": "stream",
     "name": "stdout",
     "text": [
      "Tensor 1D presents one index with shape torch.Size([2]) :\n tensor([0.2766, 0.2029])\n\nTensor 2D presents two indexes with shape torch.Size([2, 3]) :\n tensor([[0.1782, 0.7161, 0.2837],\n        [0.2947, 0.7897, 0.1798]])\n\nTensor 3D presents three indexes with shape torch.Size([5, 2, 3]) :\n tensor([[[0.2508, 0.4352, 0.4626],\n         [0.4615, 0.0588, 0.9010]],\n\n        [[0.0595, 0.0122, 0.4857],\n         [0.4971, 0.7868, 0.2543]],\n\n        [[0.5093, 0.3166, 0.8907],\n         [0.2399, 0.8870, 0.5517]],\n\n        [[0.2490, 0.8871, 0.6682],\n         [0.6913, 0.3818, 0.0722]],\n\n        [[0.2362, 0.0665, 0.4264],\n         [0.3062, 0.4449, 0.5201]]])\n"
     ]
    }
   ],
   "source": [
    "# We first import the torch library that comes with the Anaconda distribution\n",
    "import torch \n",
    "# Tensor 1D presents 1 index\n",
    "y = torch.rand([2])\n",
    "print('Tensor 1D presents one index','with shape', y.shape,':\\n',y) #get specific size with .shape\n",
    "# Tensor 2D presents 2 indexes\n",
    "y = torch.rand([2,3])\n",
    "print('\\nTensor 2D presents two indexes','with shape',y.shape,':\\n',y)\n",
    "#Tensor 3D presents 3 indexes\n",
    "y = torch.rand([5,2,3])\n",
    "print('\\nTensor 3D presents three indexes','with shape',y.shape,':\\n',y)"
   ]
  },
  {
   "cell_type": "code",
   "execution_count": 2,
   "metadata": {},
   "outputs": [
    {
     "output_type": "stream",
     "name": "stdout",
     "text": [
      "tensor([ 8., 15.])\n"
     ]
    }
   ],
   "source": [
    "# Create a tensor with specific values\n",
    "x = torch.tensor([4.0,5.0],dtype=torch.float32)\n",
    "y = torch.tensor([2.0,3.0],dtype=torch.float32)\n",
    "\n",
    "# Tensor multiplication (point-wise multiplication)\n",
    "print(x*y)"
   ]
  },
  {
   "cell_type": "markdown",
   "metadata": {},
   "source": [
    "### Initialise a tensor with torch.zeros or torch.ones "
   ]
  },
  {
   "cell_type": "code",
   "execution_count": 3,
   "metadata": {},
   "outputs": [
    {
     "output_type": "stream",
     "name": "stdout",
     "text": [
      "x_zeros: tensor([[0., 0., 0., 0.],\n        [0., 0., 0., 0.],\n        [0., 0., 0., 0.]]) with shape torch.Size([3, 4]) \n\nx_ones: tensor([[1., 1., 1., 1., 1., 1.],\n        [1., 1., 1., 1., 1., 1.]]) with shape torch.Size([2, 6])\n"
     ]
    }
   ],
   "source": [
    "x_zeros = torch.zeros([3,4])\n",
    "print('x_zeros:',x_zeros,'with shape',x_zeros.shape,'\\n')\n",
    "x_ones = torch.ones([2,6])\n",
    "print('x_ones:',x_ones,'with shape',x_ones.shape)"
   ]
  },
  {
   "cell_type": "markdown",
   "metadata": {},
   "source": [
    "### Reshape a tensor using .view"
   ]
  },
  {
   "cell_type": "code",
   "execution_count": 4,
   "metadata": {},
   "outputs": [
    {
     "output_type": "stream",
     "name": "stdout",
     "text": [
      "tensor([[1.],\n        [1.],\n        [1.],\n        [1.],\n        [1.],\n        [1.]])\n"
     ]
    }
   ],
   "source": [
    "y = torch.ones([3,2])\n",
    "y_reshaped = y.view(6,1)  # in contrast to the common numpy library, we use .view instead of .reshape\n",
    "print(y_reshaped)"
   ]
  },
  {
   "cell_type": "markdown",
   "metadata": {},
   "source": [
    "### Numpy interoperability \n",
    "\n",
    "PyTorch tensors can be converted efficiently to NumPy arrays and vice versa. By doing so, you can leverage the huge swath of functionality in the wider Python ecosystem that has built up around the NumPy array type."
   ]
  },
  {
   "cell_type": "code",
   "execution_count": 5,
   "metadata": {},
   "outputs": [
    {
     "output_type": "stream",
     "name": "stdout",
     "text": [
      "Array in numpy form with shape (3, 4) :\n [[1. 1. 1. 1.]\n [1. 1. 1. 1.]\n [1. 1. 1. 1.]]\n\nArray from Numpy to Torch with shape torch.Size([5, 8]) :\n tensor([[ 2.2911,  0.8680,  1.1798,  1.0457, -0.3604,  0.8219,  1.2848,  0.0101],\n        [-0.6329,  0.5396,  0.1789, -0.2063,  1.1354,  0.3900,  0.7039, -1.1071],\n        [ 1.6060,  1.9166,  0.7236,  1.0365,  0.1789,  0.2733,  0.3141, -0.1599],\n        [ 1.4330,  0.4665, -1.7352,  1.9829,  1.7416, -0.1057,  1.2125,  0.3641],\n        [-1.0555, -1.5705, -0.2885,  0.2880, -0.3546, -0.1114, -0.1252, -0.5089]],\n       dtype=torch.float64)\n"
     ]
    }
   ],
   "source": [
    "# Tensor_torch to tensor Numpy\n",
    "Tensor_torch = torch.ones(3,4)\n",
    "Tensor_numpy = Tensor_torch.numpy() #Returns a NumPy multidim. array of the right size, shape and numerical type.\n",
    "print('Array in numpy form with shape', Tensor_numpy.shape,':\\n',Tensor_numpy)\n",
    "\n",
    "# Tensor Numpy to Tensor_torch\n",
    "import numpy as np\n",
    "Tensor_np = np.random.randn(5,8)    \n",
    "Tensor_numpy_to_torch = torch.from_numpy(Tensor_np)\n",
    "print('\\nArray from Numpy to Torch with shape', Tensor_numpy_to_torch.shape,':\\n',Tensor_numpy_to_torch)"
   ]
  },
  {
   "cell_type": "markdown",
   "metadata": {},
   "source": [
    "## Automatic Differentiation\n",
    "\n",
    "PyTorch allows to automatically obtain the gradients of a tensor with respect to a defined function. When creating the tensor, we have to indicate that it requires the gradient computation using the flag `requires_grad`  "
   ]
  },
  {
   "cell_type": "code",
   "execution_count": 6,
   "metadata": {},
   "outputs": [
    {
     "output_type": "stream",
     "name": "stdout",
     "text": [
      "tensor([0.6221, 0.5384, 0.3290], requires_grad=True)\n"
     ]
    }
   ],
   "source": [
    "x = torch.rand(3,requires_grad=True)\n",
    "print(x)"
   ]
  },
  {
   "cell_type": "markdown",
   "metadata": {},
   "source": [
    "Notice that now the Tensor shows the flag `requires_grad` as True. We can also activate such a flag in a Tensor already created as follows:"
   ]
  },
  {
   "cell_type": "code",
   "execution_count": 7,
   "metadata": {},
   "outputs": [
    {
     "output_type": "stream",
     "name": "stdout",
     "text": [
      "tensor([1., 2., 3.], requires_grad=True)\n"
     ]
    }
   ],
   "source": [
    "x = torch.tensor([1.0,2.0,3.0])\n",
    "x.requires_grad_(True)\n",
    "print(x)"
   ]
  },
  {
   "cell_type": "markdown",
   "metadata": {},
   "source": [
    "Let us define a function $y=x^2+5$. The function $y$ will not only carry the result of evaluating $x$, but also the gradient function $\\frac{\\partial y}{\\partial x}$ called `grad_fn` in the new tensor $y$"
   ]
  },
  {
   "cell_type": "code",
   "execution_count": 8,
   "metadata": {},
   "outputs": [
    {
     "output_type": "stream",
     "name": "stdout",
     "text": [
      "tensor([9.], grad_fn=<AddBackward0>)\n"
     ]
    }
   ],
   "source": [
    "x = torch.tensor([2.0])\n",
    "x.requires_grad_(True)  #indicate we will need the gradients with respecto to this variable\n",
    "y = x**2 + 5\n",
    "print(y)"
   ]
  },
  {
   "cell_type": "markdown",
   "metadata": {},
   "source": [
    "To evaluate the partial derivative $\\frac{\\partial y}{\\partial x}$, we use the `.backward()` function and the result of the gradient evaluation is stored in `x.grad` "
   ]
  },
  {
   "cell_type": "code",
   "execution_count": 9,
   "metadata": {},
   "outputs": [
    {
     "output_type": "stream",
     "name": "stdout",
     "text": [
      "PyTorch gradient: tensor([4.])\n",
      "Analitical gradient: tensor([4.])\n"
     ]
    }
   ],
   "source": [
    "y.backward()  #dy/dx\n",
    "print('PyTorch gradient:', x.grad)\n",
    "\n",
    "#L et us compare with the analitical gradient of y = x**2+5\n",
    "with torch.no_grad():    #this is to only use the tensor value without its gradient information\n",
    "    dy_dx = 2*x  #analitical gradient\n",
    "print('Analitical gradient:',dy_dx)"
   ]
  },
  {
   "cell_type": "markdown",
   "metadata": {},
   "source": [
    "If we evaluate a vector $\\mathbf{w}=[w_1, \\ldots, w_D]^{\\top}$, to compute another vector $\\mathbf{g}=[g_1, \\ldots, g_D]^{\\top}$ with elements $g_i=w_i^2+5$, then we obtain a vector $\\mathbf{g}$ that contains each evaluation of the function. If we want to obtain the gradient w.r.t $\\mathbf{w}$ by using \"g.backward()\", we have to bypass a vector of size equal to w.shape to the function, i.e., \"g.backward(vect)\". "
   ]
  },
  {
   "cell_type": "code",
   "execution_count": 10,
   "metadata": {},
   "outputs": [
    {
     "output_type": "stream",
     "name": "stdout",
     "text": [
      "tensor([2., 4., 6.])\n"
     ]
    }
   ],
   "source": [
    "w = torch.tensor([1.0,2.0,3.0])\n",
    "w.requires_grad_(True)\n",
    "\n",
    "g = w**2+5\n",
    "# Below, the values [1.0,1.0,1.0] are multiplied by the gradient g.backward(vect)\n",
    "# of course using the ones does not modify the value of the gradient\n",
    "vect = torch.tensor([1.0,1.0,1.0],dtype=torch.float32) \n",
    "g.backward(vect)\n",
    "print(w.grad)"
   ]
  },
  {
   "cell_type": "markdown",
   "metadata": {},
   "source": [
    "On the other hand, when accessing the gradients in a for loop, PyTorch acummulates the gradients at each\n",
    "iteration. In order to avoid this behaviour, we have to use the function .grad.zero_() also at each iteration. See in the example below what happens when commenting and uncommenting the line \"w.grad.zero_()\":"
   ]
  },
  {
   "cell_type": "code",
   "execution_count": 27,
   "metadata": {},
   "outputs": [
    {
     "output_type": "stream",
     "name": "stdout",
     "text": [
      "tensor([2., 4., 6.])\ntensor([2., 4., 6.])\ntensor([2., 4., 6.])\n"
     ]
    }
   ],
   "source": [
    "#Pytorch uses a cumulative process for the gradients\n",
    "w = torch.tensor([1.0,2.0,3.0])\n",
    "w.requires_grad_(True)\n",
    "\n",
    "for i in range(3):\n",
    "    g = w**2+5\n",
    "    g.backward(torch.ones_like(w))\n",
    "    print(w.grad)\n",
    "    w.grad.zero_()    #this line avoids the acummulation of the gradients uncomment it to see its effect"
   ]
  },
  {
   "cell_type": "markdown",
   "metadata": {},
   "source": [
    "###  Question 1\n",
    "\n",
    "Verify that the gradients provided by PyTorch coincide with the analitical gradients of the function $f = \\exp \\big(-x^2-2x- \\sin (x) \\big)$ w.r.t $x$."
   ]
  },
  {
   "cell_type": "code",
   "execution_count": 31,
   "metadata": {},
   "outputs": [
    {
     "output_type": "stream",
     "name": "stdout",
     "text": [
      "tensor([0.0001], grad_fn=<ExpBackward>)\nPyTorch gradient: tensor([-0.0008])\nAnalytical gradient: tensor([-0.0008])\n"
     ]
    }
   ],
   "source": [
    "# Provide your answer here\n",
    "\n",
    "x = torch.tensor([2.0])\n",
    "x.requires_grad_(True)  #indicate we will need the gradients with respecto to this variable\n",
    "y = torch.exp(-(x**2) - (2*x) - torch.sin(x))\n",
    "print(y)\n",
    "\n",
    "y.backward()  #dy/dx\n",
    "print('PyTorch gradient:', x.grad)\n",
    "\n",
    "# Let us compare with the analitical gradient of y = x**2+5\n",
    "with torch.no_grad():    #this is to only use the tensor value without its gradient information\n",
    "    dy_dx = math.exp(-(x**2) - (2*x) - math.sin(x)) * (-(2*x) - 2 - math.cos(x)) #Analytical gradient\n",
    "print('Analytical gradient:',dy_dx)"
   ]
  },
  {
   "cell_type": "markdown",
   "metadata": {},
   "source": [
    "## Linear Regression Basic Example\n",
    "\n",
    "We now provide a very simple example of linear regression with one input dimension, $y=wx+b$, and illustrate how we use PyTorch to optimise the parameters of the model"
   ]
  },
  {
   "cell_type": "code",
   "execution_count": 13,
   "metadata": {},
   "outputs": [],
   "source": [
    "Ndata = 100 \n",
    "x = torch.rand(Ndata)\n",
    "true_w = 1.5\n",
    "true_bias = 1.0\n",
    "# We generate the dataset from the actual model but adding some noise\n",
    "y = true_w*x + true_bias + 0.05*torch.randn(Ndata)\n",
    "# We make sure to set the requires_grad flag to True for both paratemers\n",
    "w = torch.tensor(0.0,dtype=torch.float32,requires_grad=True)\n",
    "bias = torch.tensor(0.0,dtype=torch.float32,requires_grad=True)"
   ]
  },
  {
   "cell_type": "markdown",
   "metadata": {},
   "source": [
    "We now define two useful functions, the prediction function and the objective function"
   ]
  },
  {
   "cell_type": "code",
   "execution_count": 14,
   "metadata": {},
   "outputs": [],
   "source": [
    "def model_prediction(x,w,bias):\n",
    "    return w*x + bias\n",
    "\n",
    "def loss_function(y,y_pred):\n",
    "    return ((y_pred-y)**2).mean()  #Mean Squared Error (MSE)"
   ]
  },
  {
   "cell_type": "markdown",
   "metadata": {},
   "source": [
    "And we use coordinate descent to estimate the parameters of the model\n",
    "\n",
    "\\begin{align*}\n",
    "    w_{k+1} = w_k - \\eta \\frac{dE}{dw}\\\\ \n",
    "    b_{k+1} = b_k - \\eta \\frac{dE}{db}\\\\ \n",
    "\\end{align*}\n",
    "\n",
    "We know that there is a closed form solution for $w$ and $b$ through the normal equation. The example is for illustrative purposes."
   ]
  },
  {
   "cell_type": "code",
   "execution_count": 15,
   "metadata": {},
   "outputs": [
    {
     "output_type": "stream",
     "name": "stdout",
     "text": [
      "Iteration = 1, Loss = 3.39956999, w = 0.215, bias = 0.358\n",
      "Iteration = 51, Loss = 0.01380291, w = 1.151, bias = 1.195\n",
      "Iteration = 101, Loss = 0.00515173, w = 1.327, bias = 1.096\n",
      "Iteration = 151, Loss = 0.00297497, w = 1.415, bias = 1.046\n",
      "Iteration = 201, Loss = 0.00242727, w = 1.459, bias = 1.021\n",
      "Iteration = 251, Loss = 0.00228946, w = 1.481, bias = 1.009\n",
      "Iteration = 301, Loss = 0.00225479, w = 1.492, bias = 1.002\n",
      "Iteration = 351, Loss = 0.00224606, w = 1.498, bias = 0.999\n",
      "Iteration = 401, Loss = 0.00224386, w = 1.501, bias = 0.998\n",
      "Iteration = 451, Loss = 0.00224331, w = 1.502, bias = 0.997\n",
      "Iteration = 500, Loss = 0.00224317, w = 1.503, bias = 0.996\n"
     ]
    }
   ],
   "source": [
    "Max_Niter = 500\n",
    "step_size = 0.1\n",
    "for Niter in range(Max_Niter):\n",
    "    # Evaluate the prediction and the loss\n",
    "    y_approx = model_prediction(x,w,bias)\n",
    "    my_loss = loss_function(y,y_approx)\n",
    "    \n",
    "    # The function .backward() has to be called in order to load the grads in w.grad\n",
    "    # Notice that here it is not necessary to bypass a vector since loss_function is a scalar function\n",
    "    my_loss.backward()  \n",
    "        \n",
    "    with torch.no_grad():        # this line avoids the gradient update while allowing to change the value of w\n",
    "        w -= step_size*w.grad    # it is necessary to avoid the grad update while modifying the variable\n",
    "        bias -= step_size*bias.grad\n",
    "    \n",
    "    # Make the zero gradient to avoid acummulation\n",
    "    w.grad.zero_()\n",
    "    bias.grad.zero_()\n",
    "    \n",
    "    # We print the loss, and the parameters values every 50 iterations\n",
    "    if Niter%50==0:\n",
    "        print(f'Iteration = {Niter+1}, Loss = {my_loss:.8f}, w = {w:.3f}, bias = {bias:.3f}')        \n",
    "\n",
    "print(f'Iteration = {Niter+1}, Loss = {my_loss:.8f}, w = {w:.3f}, bias = {bias:.3f}')    \n",
    "    "
   ]
  },
  {
   "cell_type": "markdown",
   "metadata": {},
   "source": [
    "We finally plot the result"
   ]
  },
  {
   "cell_type": "code",
   "execution_count": 16,
   "metadata": {},
   "outputs": [
    {
     "output_type": "execute_result",
     "data": {
      "text/plain": [
       "[<matplotlib.lines.Line2D at 0x17a61b510d0>]"
      ]
     },
     "metadata": {},
     "execution_count": 16
    },
    {
     "output_type": "display_data",
     "data": {
      "text/plain": "<Figure size 432x288 with 1 Axes>",
      "image/svg+xml": "<?xml version=\"1.0\" encoding=\"utf-8\" standalone=\"no\"?>\r\n<!DOCTYPE svg PUBLIC \"-//W3C//DTD SVG 1.1//EN\"\r\n  \"http://www.w3.org/Graphics/SVG/1.1/DTD/svg11.dtd\">\r\n<!-- Created with matplotlib (https://matplotlib.org/) -->\r\n<svg height=\"248.518125pt\" version=\"1.1\" viewBox=\"0 0 372.103125 248.518125\" width=\"372.103125pt\" xmlns=\"http://www.w3.org/2000/svg\" xmlns:xlink=\"http://www.w3.org/1999/xlink\">\r\n <metadata>\r\n  <rdf:RDF xmlns:cc=\"http://creativecommons.org/ns#\" xmlns:dc=\"http://purl.org/dc/elements/1.1/\" xmlns:rdf=\"http://www.w3.org/1999/02/22-rdf-syntax-ns#\">\r\n   <cc:Work>\r\n    <dc:type rdf:resource=\"http://purl.org/dc/dcmitype/StillImage\"/>\r\n    <dc:date>2020-11-02T15:32:48.908334</dc:date>\r\n    <dc:format>image/svg+xml</dc:format>\r\n    <dc:creator>\r\n     <cc:Agent>\r\n      <dc:title>Matplotlib v3.3.1, https://matplotlib.org/</dc:title>\r\n     </cc:Agent>\r\n    </dc:creator>\r\n   </cc:Work>\r\n  </rdf:RDF>\r\n </metadata>\r\n <defs>\r\n  <style type=\"text/css\">*{stroke-linecap:butt;stroke-linejoin:round;}</style>\r\n </defs>\r\n <g id=\"figure_1\">\r\n  <g id=\"patch_1\">\r\n   <path d=\"M 0 248.518125 \r\nL 372.103125 248.518125 \r\nL 372.103125 0 \r\nL 0 0 \r\nz\r\n\" style=\"fill:none;\"/>\r\n  </g>\r\n  <g id=\"axes_1\">\r\n   <g id=\"patch_2\">\r\n    <path d=\"M 30.103125 224.64 \r\nL 364.903125 224.64 \r\nL 364.903125 7.2 \r\nL 30.103125 7.2 \r\nz\r\n\" style=\"fill:#ffffff;\"/>\r\n   </g>\r\n   <g id=\"matplotlib.axis_1\">\r\n    <g id=\"xtick_1\">\r\n     <g id=\"line2d_1\">\r\n      <defs>\r\n       <path d=\"M 0 0 \r\nL 0 3.5 \r\n\" id=\"maea4aa69bd\" style=\"stroke:#000000;stroke-width:0.8;\"/>\r\n      </defs>\r\n      <g>\r\n       <use style=\"stroke:#000000;stroke-width:0.8;\" x=\"45.321307\" xlink:href=\"#maea4aa69bd\" y=\"224.64\"/>\r\n      </g>\r\n     </g>\r\n     <g id=\"text_1\">\r\n      <!-- 0.0 -->\r\n      <g transform=\"translate(37.369744 239.238437)scale(0.1 -0.1)\">\r\n       <defs>\r\n        <path d=\"M 31.78125 66.40625 \r\nQ 24.171875 66.40625 20.328125 58.90625 \r\nQ 16.5 51.421875 16.5 36.375 \r\nQ 16.5 21.390625 20.328125 13.890625 \r\nQ 24.171875 6.390625 31.78125 6.390625 \r\nQ 39.453125 6.390625 43.28125 13.890625 \r\nQ 47.125 21.390625 47.125 36.375 \r\nQ 47.125 51.421875 43.28125 58.90625 \r\nQ 39.453125 66.40625 31.78125 66.40625 \r\nz\r\nM 31.78125 74.21875 \r\nQ 44.046875 74.21875 50.515625 64.515625 \r\nQ 56.984375 54.828125 56.984375 36.375 \r\nQ 56.984375 17.96875 50.515625 8.265625 \r\nQ 44.046875 -1.421875 31.78125 -1.421875 \r\nQ 19.53125 -1.421875 13.0625 8.265625 \r\nQ 6.59375 17.96875 6.59375 36.375 \r\nQ 6.59375 54.828125 13.0625 64.515625 \r\nQ 19.53125 74.21875 31.78125 74.21875 \r\nz\r\n\" id=\"DejaVuSans-48\"/>\r\n        <path d=\"M 10.6875 12.40625 \r\nL 21 12.40625 \r\nL 21 0 \r\nL 10.6875 0 \r\nz\r\n\" id=\"DejaVuSans-46\"/>\r\n       </defs>\r\n       <use xlink:href=\"#DejaVuSans-48\"/>\r\n       <use x=\"63.623047\" xlink:href=\"#DejaVuSans-46\"/>\r\n       <use x=\"95.410156\" xlink:href=\"#DejaVuSans-48\"/>\r\n      </g>\r\n     </g>\r\n    </g>\r\n    <g id=\"xtick_2\">\r\n     <g id=\"line2d_2\">\r\n      <g>\r\n       <use style=\"stroke:#000000;stroke-width:0.8;\" x=\"106.194034\" xlink:href=\"#maea4aa69bd\" y=\"224.64\"/>\r\n      </g>\r\n     </g>\r\n     <g id=\"text_2\">\r\n      <!-- 0.2 -->\r\n      <g transform=\"translate(98.242472 239.238437)scale(0.1 -0.1)\">\r\n       <defs>\r\n        <path d=\"M 19.1875 8.296875 \r\nL 53.609375 8.296875 \r\nL 53.609375 0 \r\nL 7.328125 0 \r\nL 7.328125 8.296875 \r\nQ 12.9375 14.109375 22.625 23.890625 \r\nQ 32.328125 33.6875 34.8125 36.53125 \r\nQ 39.546875 41.84375 41.421875 45.53125 \r\nQ 43.3125 49.21875 43.3125 52.78125 \r\nQ 43.3125 58.59375 39.234375 62.25 \r\nQ 35.15625 65.921875 28.609375 65.921875 \r\nQ 23.96875 65.921875 18.8125 64.3125 \r\nQ 13.671875 62.703125 7.8125 59.421875 \r\nL 7.8125 69.390625 \r\nQ 13.765625 71.78125 18.9375 73 \r\nQ 24.125 74.21875 28.421875 74.21875 \r\nQ 39.75 74.21875 46.484375 68.546875 \r\nQ 53.21875 62.890625 53.21875 53.421875 \r\nQ 53.21875 48.921875 51.53125 44.890625 \r\nQ 49.859375 40.875 45.40625 35.40625 \r\nQ 44.1875 33.984375 37.640625 27.21875 \r\nQ 31.109375 20.453125 19.1875 8.296875 \r\nz\r\n\" id=\"DejaVuSans-50\"/>\r\n       </defs>\r\n       <use xlink:href=\"#DejaVuSans-48\"/>\r\n       <use x=\"63.623047\" xlink:href=\"#DejaVuSans-46\"/>\r\n       <use x=\"95.410156\" xlink:href=\"#DejaVuSans-50\"/>\r\n      </g>\r\n     </g>\r\n    </g>\r\n    <g id=\"xtick_3\">\r\n     <g id=\"line2d_3\">\r\n      <g>\r\n       <use style=\"stroke:#000000;stroke-width:0.8;\" x=\"167.066761\" xlink:href=\"#maea4aa69bd\" y=\"224.64\"/>\r\n      </g>\r\n     </g>\r\n     <g id=\"text_3\">\r\n      <!-- 0.4 -->\r\n      <g transform=\"translate(159.115199 239.238437)scale(0.1 -0.1)\">\r\n       <defs>\r\n        <path d=\"M 37.796875 64.3125 \r\nL 12.890625 25.390625 \r\nL 37.796875 25.390625 \r\nz\r\nM 35.203125 72.90625 \r\nL 47.609375 72.90625 \r\nL 47.609375 25.390625 \r\nL 58.015625 25.390625 \r\nL 58.015625 17.1875 \r\nL 47.609375 17.1875 \r\nL 47.609375 0 \r\nL 37.796875 0 \r\nL 37.796875 17.1875 \r\nL 4.890625 17.1875 \r\nL 4.890625 26.703125 \r\nz\r\n\" id=\"DejaVuSans-52\"/>\r\n       </defs>\r\n       <use xlink:href=\"#DejaVuSans-48\"/>\r\n       <use x=\"63.623047\" xlink:href=\"#DejaVuSans-46\"/>\r\n       <use x=\"95.410156\" xlink:href=\"#DejaVuSans-52\"/>\r\n      </g>\r\n     </g>\r\n    </g>\r\n    <g id=\"xtick_4\">\r\n     <g id=\"line2d_4\">\r\n      <g>\r\n       <use style=\"stroke:#000000;stroke-width:0.8;\" x=\"227.939489\" xlink:href=\"#maea4aa69bd\" y=\"224.64\"/>\r\n      </g>\r\n     </g>\r\n     <g id=\"text_4\">\r\n      <!-- 0.6 -->\r\n      <g transform=\"translate(219.987926 239.238437)scale(0.1 -0.1)\">\r\n       <defs>\r\n        <path d=\"M 33.015625 40.375 \r\nQ 26.375 40.375 22.484375 35.828125 \r\nQ 18.609375 31.296875 18.609375 23.390625 \r\nQ 18.609375 15.53125 22.484375 10.953125 \r\nQ 26.375 6.390625 33.015625 6.390625 \r\nQ 39.65625 6.390625 43.53125 10.953125 \r\nQ 47.40625 15.53125 47.40625 23.390625 \r\nQ 47.40625 31.296875 43.53125 35.828125 \r\nQ 39.65625 40.375 33.015625 40.375 \r\nz\r\nM 52.59375 71.296875 \r\nL 52.59375 62.3125 \r\nQ 48.875 64.0625 45.09375 64.984375 \r\nQ 41.3125 65.921875 37.59375 65.921875 \r\nQ 27.828125 65.921875 22.671875 59.328125 \r\nQ 17.53125 52.734375 16.796875 39.40625 \r\nQ 19.671875 43.65625 24.015625 45.921875 \r\nQ 28.375 48.1875 33.59375 48.1875 \r\nQ 44.578125 48.1875 50.953125 41.515625 \r\nQ 57.328125 34.859375 57.328125 23.390625 \r\nQ 57.328125 12.15625 50.6875 5.359375 \r\nQ 44.046875 -1.421875 33.015625 -1.421875 \r\nQ 20.359375 -1.421875 13.671875 8.265625 \r\nQ 6.984375 17.96875 6.984375 36.375 \r\nQ 6.984375 53.65625 15.1875 63.9375 \r\nQ 23.390625 74.21875 37.203125 74.21875 \r\nQ 40.921875 74.21875 44.703125 73.484375 \r\nQ 48.484375 72.75 52.59375 71.296875 \r\nz\r\n\" id=\"DejaVuSans-54\"/>\r\n       </defs>\r\n       <use xlink:href=\"#DejaVuSans-48\"/>\r\n       <use x=\"63.623047\" xlink:href=\"#DejaVuSans-46\"/>\r\n       <use x=\"95.410156\" xlink:href=\"#DejaVuSans-54\"/>\r\n      </g>\r\n     </g>\r\n    </g>\r\n    <g id=\"xtick_5\">\r\n     <g id=\"line2d_5\">\r\n      <g>\r\n       <use style=\"stroke:#000000;stroke-width:0.8;\" x=\"288.812216\" xlink:href=\"#maea4aa69bd\" y=\"224.64\"/>\r\n      </g>\r\n     </g>\r\n     <g id=\"text_5\">\r\n      <!-- 0.8 -->\r\n      <g transform=\"translate(280.860653 239.238437)scale(0.1 -0.1)\">\r\n       <defs>\r\n        <path d=\"M 31.78125 34.625 \r\nQ 24.75 34.625 20.71875 30.859375 \r\nQ 16.703125 27.09375 16.703125 20.515625 \r\nQ 16.703125 13.921875 20.71875 10.15625 \r\nQ 24.75 6.390625 31.78125 6.390625 \r\nQ 38.8125 6.390625 42.859375 10.171875 \r\nQ 46.921875 13.96875 46.921875 20.515625 \r\nQ 46.921875 27.09375 42.890625 30.859375 \r\nQ 38.875 34.625 31.78125 34.625 \r\nz\r\nM 21.921875 38.8125 \r\nQ 15.578125 40.375 12.03125 44.71875 \r\nQ 8.5 49.078125 8.5 55.328125 \r\nQ 8.5 64.0625 14.71875 69.140625 \r\nQ 20.953125 74.21875 31.78125 74.21875 \r\nQ 42.671875 74.21875 48.875 69.140625 \r\nQ 55.078125 64.0625 55.078125 55.328125 \r\nQ 55.078125 49.078125 51.53125 44.71875 \r\nQ 48 40.375 41.703125 38.8125 \r\nQ 48.828125 37.15625 52.796875 32.3125 \r\nQ 56.78125 27.484375 56.78125 20.515625 \r\nQ 56.78125 9.90625 50.3125 4.234375 \r\nQ 43.84375 -1.421875 31.78125 -1.421875 \r\nQ 19.734375 -1.421875 13.25 4.234375 \r\nQ 6.78125 9.90625 6.78125 20.515625 \r\nQ 6.78125 27.484375 10.78125 32.3125 \r\nQ 14.796875 37.15625 21.921875 38.8125 \r\nz\r\nM 18.3125 54.390625 \r\nQ 18.3125 48.734375 21.84375 45.5625 \r\nQ 25.390625 42.390625 31.78125 42.390625 \r\nQ 38.140625 42.390625 41.71875 45.5625 \r\nQ 45.3125 48.734375 45.3125 54.390625 \r\nQ 45.3125 60.0625 41.71875 63.234375 \r\nQ 38.140625 66.40625 31.78125 66.40625 \r\nQ 25.390625 66.40625 21.84375 63.234375 \r\nQ 18.3125 60.0625 18.3125 54.390625 \r\nz\r\n\" id=\"DejaVuSans-56\"/>\r\n       </defs>\r\n       <use xlink:href=\"#DejaVuSans-48\"/>\r\n       <use x=\"63.623047\" xlink:href=\"#DejaVuSans-46\"/>\r\n       <use x=\"95.410156\" xlink:href=\"#DejaVuSans-56\"/>\r\n      </g>\r\n     </g>\r\n    </g>\r\n    <g id=\"xtick_6\">\r\n     <g id=\"line2d_6\">\r\n      <g>\r\n       <use style=\"stroke:#000000;stroke-width:0.8;\" x=\"349.684943\" xlink:href=\"#maea4aa69bd\" y=\"224.64\"/>\r\n      </g>\r\n     </g>\r\n     <g id=\"text_6\">\r\n      <!-- 1.0 -->\r\n      <g transform=\"translate(341.733381 239.238437)scale(0.1 -0.1)\">\r\n       <defs>\r\n        <path d=\"M 12.40625 8.296875 \r\nL 28.515625 8.296875 \r\nL 28.515625 63.921875 \r\nL 10.984375 60.40625 \r\nL 10.984375 69.390625 \r\nL 28.421875 72.90625 \r\nL 38.28125 72.90625 \r\nL 38.28125 8.296875 \r\nL 54.390625 8.296875 \r\nL 54.390625 0 \r\nL 12.40625 0 \r\nz\r\n\" id=\"DejaVuSans-49\"/>\r\n       </defs>\r\n       <use xlink:href=\"#DejaVuSans-49\"/>\r\n       <use x=\"63.623047\" xlink:href=\"#DejaVuSans-46\"/>\r\n       <use x=\"95.410156\" xlink:href=\"#DejaVuSans-48\"/>\r\n      </g>\r\n     </g>\r\n    </g>\r\n   </g>\r\n   <g id=\"matplotlib.axis_2\">\r\n    <g id=\"ytick_1\">\r\n     <g id=\"line2d_7\">\r\n      <defs>\r\n       <path d=\"M 0 0 \r\nL -3.5 0 \r\n\" id=\"m937e6daa2a\" style=\"stroke:#000000;stroke-width:0.8;\"/>\r\n      </defs>\r\n      <g>\r\n       <use style=\"stroke:#000000;stroke-width:0.8;\" x=\"30.103125\" xlink:href=\"#m937e6daa2a\" y=\"205.516944\"/>\r\n      </g>\r\n     </g>\r\n     <g id=\"text_7\">\r\n      <!-- 1.0 -->\r\n      <g transform=\"translate(7.2 209.316163)scale(0.1 -0.1)\">\r\n       <use xlink:href=\"#DejaVuSans-49\"/>\r\n       <use x=\"63.623047\" xlink:href=\"#DejaVuSans-46\"/>\r\n       <use x=\"95.410156\" xlink:href=\"#DejaVuSans-48\"/>\r\n      </g>\r\n     </g>\r\n    </g>\r\n    <g id=\"ytick_2\">\r\n     <g id=\"line2d_8\">\r\n      <g>\r\n       <use style=\"stroke:#000000;stroke-width:0.8;\" x=\"30.103125\" xlink:href=\"#m937e6daa2a\" y=\"180.536507\"/>\r\n      </g>\r\n     </g>\r\n     <g id=\"text_8\">\r\n      <!-- 1.2 -->\r\n      <g transform=\"translate(7.2 184.335725)scale(0.1 -0.1)\">\r\n       <use xlink:href=\"#DejaVuSans-49\"/>\r\n       <use x=\"63.623047\" xlink:href=\"#DejaVuSans-46\"/>\r\n       <use x=\"95.410156\" xlink:href=\"#DejaVuSans-50\"/>\r\n      </g>\r\n     </g>\r\n    </g>\r\n    <g id=\"ytick_3\">\r\n     <g id=\"line2d_9\">\r\n      <g>\r\n       <use style=\"stroke:#000000;stroke-width:0.8;\" x=\"30.103125\" xlink:href=\"#m937e6daa2a\" y=\"155.556069\"/>\r\n      </g>\r\n     </g>\r\n     <g id=\"text_9\">\r\n      <!-- 1.4 -->\r\n      <g transform=\"translate(7.2 159.355288)scale(0.1 -0.1)\">\r\n       <use xlink:href=\"#DejaVuSans-49\"/>\r\n       <use x=\"63.623047\" xlink:href=\"#DejaVuSans-46\"/>\r\n       <use x=\"95.410156\" xlink:href=\"#DejaVuSans-52\"/>\r\n      </g>\r\n     </g>\r\n    </g>\r\n    <g id=\"ytick_4\">\r\n     <g id=\"line2d_10\">\r\n      <g>\r\n       <use style=\"stroke:#000000;stroke-width:0.8;\" x=\"30.103125\" xlink:href=\"#m937e6daa2a\" y=\"130.575631\"/>\r\n      </g>\r\n     </g>\r\n     <g id=\"text_10\">\r\n      <!-- 1.6 -->\r\n      <g transform=\"translate(7.2 134.37485)scale(0.1 -0.1)\">\r\n       <use xlink:href=\"#DejaVuSans-49\"/>\r\n       <use x=\"63.623047\" xlink:href=\"#DejaVuSans-46\"/>\r\n       <use x=\"95.410156\" xlink:href=\"#DejaVuSans-54\"/>\r\n      </g>\r\n     </g>\r\n    </g>\r\n    <g id=\"ytick_5\">\r\n     <g id=\"line2d_11\">\r\n      <g>\r\n       <use style=\"stroke:#000000;stroke-width:0.8;\" x=\"30.103125\" xlink:href=\"#m937e6daa2a\" y=\"105.595193\"/>\r\n      </g>\r\n     </g>\r\n     <g id=\"text_11\">\r\n      <!-- 1.8 -->\r\n      <g transform=\"translate(7.2 109.394412)scale(0.1 -0.1)\">\r\n       <use xlink:href=\"#DejaVuSans-49\"/>\r\n       <use x=\"63.623047\" xlink:href=\"#DejaVuSans-46\"/>\r\n       <use x=\"95.410156\" xlink:href=\"#DejaVuSans-56\"/>\r\n      </g>\r\n     </g>\r\n    </g>\r\n    <g id=\"ytick_6\">\r\n     <g id=\"line2d_12\">\r\n      <g>\r\n       <use style=\"stroke:#000000;stroke-width:0.8;\" x=\"30.103125\" xlink:href=\"#m937e6daa2a\" y=\"80.614756\"/>\r\n      </g>\r\n     </g>\r\n     <g id=\"text_12\">\r\n      <!-- 2.0 -->\r\n      <g transform=\"translate(7.2 84.413974)scale(0.1 -0.1)\">\r\n       <use xlink:href=\"#DejaVuSans-50\"/>\r\n       <use x=\"63.623047\" xlink:href=\"#DejaVuSans-46\"/>\r\n       <use x=\"95.410156\" xlink:href=\"#DejaVuSans-48\"/>\r\n      </g>\r\n     </g>\r\n    </g>\r\n    <g id=\"ytick_7\">\r\n     <g id=\"line2d_13\">\r\n      <g>\r\n       <use style=\"stroke:#000000;stroke-width:0.8;\" x=\"30.103125\" xlink:href=\"#m937e6daa2a\" y=\"55.634318\"/>\r\n      </g>\r\n     </g>\r\n     <g id=\"text_13\">\r\n      <!-- 2.2 -->\r\n      <g transform=\"translate(7.2 59.433537)scale(0.1 -0.1)\">\r\n       <use xlink:href=\"#DejaVuSans-50\"/>\r\n       <use x=\"63.623047\" xlink:href=\"#DejaVuSans-46\"/>\r\n       <use x=\"95.410156\" xlink:href=\"#DejaVuSans-50\"/>\r\n      </g>\r\n     </g>\r\n    </g>\r\n    <g id=\"ytick_8\">\r\n     <g id=\"line2d_14\">\r\n      <g>\r\n       <use style=\"stroke:#000000;stroke-width:0.8;\" x=\"30.103125\" xlink:href=\"#m937e6daa2a\" y=\"30.65388\"/>\r\n      </g>\r\n     </g>\r\n     <g id=\"text_14\">\r\n      <!-- 2.4 -->\r\n      <g transform=\"translate(7.2 34.453099)scale(0.1 -0.1)\">\r\n       <use xlink:href=\"#DejaVuSans-50\"/>\r\n       <use x=\"63.623047\" xlink:href=\"#DejaVuSans-46\"/>\r\n       <use x=\"95.410156\" xlink:href=\"#DejaVuSans-52\"/>\r\n      </g>\r\n     </g>\r\n    </g>\r\n   </g>\r\n   <g id=\"line2d_15\">\r\n    <defs>\r\n     <path d=\"M -3 3 \r\nL 3 -3 \r\nM -3 -3 \r\nL 3 3 \r\n\" id=\"m626415b171\" style=\"stroke:#1f77b4;\"/>\r\n    </defs>\r\n    <g clip-path=\"url(#p0bd2d0aed2)\">\r\n     <use style=\"fill:#1f77b4;stroke:#1f77b4;\" x=\"321.795927\" xlink:href=\"#m626415b171\" y=\"33.384752\"/>\r\n     <use style=\"fill:#1f77b4;stroke:#1f77b4;\" x=\"229.278211\" xlink:href=\"#m626415b171\" y=\"91.783892\"/>\r\n     <use style=\"fill:#1f77b4;stroke:#1f77b4;\" x=\"235.056873\" xlink:href=\"#m626415b171\" y=\"82.014398\"/>\r\n     <use style=\"fill:#1f77b4;stroke:#1f77b4;\" x=\"190.175615\" xlink:href=\"#m626415b171\" y=\"109.542272\"/>\r\n     <use style=\"fill:#1f77b4;stroke:#1f77b4;\" x=\"202.366477\" xlink:href=\"#m626415b171\" y=\"109.854148\"/>\r\n     <use style=\"fill:#1f77b4;stroke:#1f77b4;\" x=\"58.237682\" xlink:href=\"#m626415b171\" y=\"207.532387\"/>\r\n     <use style=\"fill:#1f77b4;stroke:#1f77b4;\" x=\"306.290653\" xlink:href=\"#m626415b171\" y=\"36.703889\"/>\r\n     <use style=\"fill:#1f77b4;stroke:#1f77b4;\" x=\"294.116355\" xlink:href=\"#m626415b171\" y=\"63.223044\"/>\r\n     <use style=\"fill:#1f77b4;stroke:#1f77b4;\" x=\"217.58546\" xlink:href=\"#m626415b171\" y=\"98.962641\"/>\r\n     <use style=\"fill:#1f77b4;stroke:#1f77b4;\" x=\"300.011721\" xlink:href=\"#m626415b171\" y=\"58.326304\"/>\r\n     <use style=\"fill:#1f77b4;stroke:#1f77b4;\" x=\"309.424322\" xlink:href=\"#m626415b171\" y=\"40.024427\"/>\r\n     <use style=\"fill:#1f77b4;stroke:#1f77b4;\" x=\"122.120042\" xlink:href=\"#m626415b171\" y=\"148.318687\"/>\r\n     <use style=\"fill:#1f77b4;stroke:#1f77b4;\" x=\"193.011112\" xlink:href=\"#m626415b171\" y=\"116.547038\"/>\r\n     <use style=\"fill:#1f77b4;stroke:#1f77b4;\" x=\"231.488479\" xlink:href=\"#m626415b171\" y=\"90.692804\"/>\r\n     <use style=\"fill:#1f77b4;stroke:#1f77b4;\" x=\"268.736107\" xlink:href=\"#m626415b171\" y=\"78.143009\"/>\r\n     <use style=\"fill:#1f77b4;stroke:#1f77b4;\" x=\"285.68704\" xlink:href=\"#m626415b171\" y=\"65.68678\"/>\r\n     <use style=\"fill:#1f77b4;stroke:#1f77b4;\" x=\"327.153888\" xlink:href=\"#m626415b171\" y=\"33.553956\"/>\r\n     <use style=\"fill:#1f77b4;stroke:#1f77b4;\" x=\"232.824363\" xlink:href=\"#m626415b171\" y=\"89.126011\"/>\r\n     <use style=\"fill:#1f77b4;stroke:#1f77b4;\" x=\"48.883424\" xlink:href=\"#m626415b171\" y=\"214.756364\"/>\r\n     <use style=\"fill:#1f77b4;stroke:#1f77b4;\" x=\"225.935841\" xlink:href=\"#m626415b171\" y=\"95.701781\"/>\r\n     <use style=\"fill:#1f77b4;stroke:#1f77b4;\" x=\"64.338356\" xlink:href=\"#m626415b171\" y=\"195.041451\"/>\r\n     <use style=\"fill:#1f77b4;stroke:#1f77b4;\" x=\"217.066632\" xlink:href=\"#m626415b171\" y=\"113.233692\"/>\r\n     <use style=\"fill:#1f77b4;stroke:#1f77b4;\" x=\"336.866223\" xlink:href=\"#m626415b171\" y=\"21.165027\"/>\r\n     <use style=\"fill:#1f77b4;stroke:#1f77b4;\" x=\"58.011549\" xlink:href=\"#m626415b171\" y=\"192.673052\"/>\r\n     <use style=\"fill:#1f77b4;stroke:#1f77b4;\" x=\"259.005612\" xlink:href=\"#m626415b171\" y=\"78.360753\"/>\r\n     <use style=\"fill:#1f77b4;stroke:#1f77b4;\" x=\"108.468937\" xlink:href=\"#m626415b171\" y=\"164.221925\"/>\r\n     <use style=\"fill:#1f77b4;stroke:#1f77b4;\" x=\"62.685993\" xlink:href=\"#m626415b171\" y=\"196.697074\"/>\r\n     <use style=\"fill:#1f77b4;stroke:#1f77b4;\" x=\"340.002904\" xlink:href=\"#m626415b171\" y=\"22.398652\"/>\r\n     <use style=\"fill:#1f77b4;stroke:#1f77b4;\" x=\"159.262087\" xlink:href=\"#m626415b171\" y=\"131.987495\"/>\r\n     <use style=\"fill:#1f77b4;stroke:#1f77b4;\" x=\"149.105231\" xlink:href=\"#m626415b171\" y=\"139.838878\"/>\r\n     <use style=\"fill:#1f77b4;stroke:#1f77b4;\" x=\"280.328916\" xlink:href=\"#m626415b171\" y=\"54.501697\"/>\r\n     <use style=\"fill:#1f77b4;stroke:#1f77b4;\" x=\"187.224014\" xlink:href=\"#m626415b171\" y=\"119.776362\"/>\r\n     <use style=\"fill:#1f77b4;stroke:#1f77b4;\" x=\"107.237402\" xlink:href=\"#m626415b171\" y=\"171.455974\"/>\r\n     <use style=\"fill:#1f77b4;stroke:#1f77b4;\" x=\"113.407231\" xlink:href=\"#m626415b171\" y=\"165.577093\"/>\r\n     <use style=\"fill:#1f77b4;stroke:#1f77b4;\" x=\"103.862541\" xlink:href=\"#m626415b171\" y=\"171.050995\"/>\r\n     <use style=\"fill:#1f77b4;stroke:#1f77b4;\" x=\"79.870679\" xlink:href=\"#m626415b171\" y=\"184.518117\"/>\r\n     <use style=\"fill:#1f77b4;stroke:#1f77b4;\" x=\"154.474585\" xlink:href=\"#m626415b171\" y=\"121.722078\"/>\r\n     <use style=\"fill:#1f77b4;stroke:#1f77b4;\" x=\"345.723405\" xlink:href=\"#m626415b171\" y=\"24.614955\"/>\r\n     <use style=\"fill:#1f77b4;stroke:#1f77b4;\" x=\"80.834881\" xlink:href=\"#m626415b171\" y=\"186.817726\"/>\r\n     <use style=\"fill:#1f77b4;stroke:#1f77b4;\" x=\"164.48074\" xlink:href=\"#m626415b171\" y=\"123.995273\"/>\r\n     <use style=\"fill:#1f77b4;stroke:#1f77b4;\" x=\"329.192937\" xlink:href=\"#m626415b171\" y=\"34.077233\"/>\r\n     <use style=\"fill:#1f77b4;stroke:#1f77b4;\" x=\"344.145168\" xlink:href=\"#m626415b171\" y=\"28.535539\"/>\r\n     <use style=\"fill:#1f77b4;stroke:#1f77b4;\" x=\"187.380629\" xlink:href=\"#m626415b171\" y=\"124.592595\"/>\r\n     <use style=\"fill:#1f77b4;stroke:#1f77b4;\" x=\"257.138799\" xlink:href=\"#m626415b171\" y=\"69.448672\"/>\r\n     <use style=\"fill:#1f77b4;stroke:#1f77b4;\" x=\"321.291685\" xlink:href=\"#m626415b171\" y=\"39.94849\"/>\r\n     <use style=\"fill:#1f77b4;stroke:#1f77b4;\" x=\"242.421663\" xlink:href=\"#m626415b171\" y=\"88.61883\"/>\r\n     <use style=\"fill:#1f77b4;stroke:#1f77b4;\" x=\"273.26756\" xlink:href=\"#m626415b171\" y=\"61.184641\"/>\r\n     <use style=\"fill:#1f77b4;stroke:#1f77b4;\" x=\"123.692818\" xlink:href=\"#m626415b171\" y=\"157.872104\"/>\r\n     <use style=\"fill:#1f77b4;stroke:#1f77b4;\" x=\"273.167455\" xlink:href=\"#m626415b171\" y=\"73.95093\"/>\r\n     <use style=\"fill:#1f77b4;stroke:#1f77b4;\" x=\"223.783118\" xlink:href=\"#m626415b171\" y=\"96.949819\"/>\r\n     <use style=\"fill:#1f77b4;stroke:#1f77b4;\" x=\"187.506295\" xlink:href=\"#m626415b171\" y=\"118.697097\"/>\r\n     <use style=\"fill:#1f77b4;stroke:#1f77b4;\" x=\"95.221007\" xlink:href=\"#m626415b171\" y=\"168.268966\"/>\r\n     <use style=\"fill:#1f77b4;stroke:#1f77b4;\" x=\"307.456697\" xlink:href=\"#m626415b171\" y=\"36.029633\"/>\r\n     <use style=\"fill:#1f77b4;stroke:#1f77b4;\" x=\"167.241058\" xlink:href=\"#m626415b171\" y=\"134.724573\"/>\r\n     <use style=\"fill:#1f77b4;stroke:#1f77b4;\" x=\"244.815142\" xlink:href=\"#m626415b171\" y=\"87.993382\"/>\r\n     <use style=\"fill:#1f77b4;stroke:#1f77b4;\" x=\"95.023501\" xlink:href=\"#m626415b171\" y=\"171.230324\"/>\r\n     <use style=\"fill:#1f77b4;stroke:#1f77b4;\" x=\"103.522697\" xlink:href=\"#m626415b171\" y=\"163.268059\"/>\r\n     <use style=\"fill:#1f77b4;stroke:#1f77b4;\" x=\"332.081624\" xlink:href=\"#m626415b171\" y=\"22.865736\"/>\r\n     <use style=\"fill:#1f77b4;stroke:#1f77b4;\" x=\"317.563609\" xlink:href=\"#m626415b171\" y=\"37.661046\"/>\r\n     <use style=\"fill:#1f77b4;stroke:#1f77b4;\" x=\"334.413748\" xlink:href=\"#m626415b171\" y=\"17.083636\"/>\r\n     <use style=\"fill:#1f77b4;stroke:#1f77b4;\" x=\"151.02636\" xlink:href=\"#m626415b171\" y=\"144.5608\"/>\r\n     <use style=\"fill:#1f77b4;stroke:#1f77b4;\" x=\"195.05807\" xlink:href=\"#m626415b171\" y=\"115.634341\"/>\r\n     <use style=\"fill:#1f77b4;stroke:#1f77b4;\" x=\"133.200971\" xlink:href=\"#m626415b171\" y=\"148.531012\"/>\r\n     <use style=\"fill:#1f77b4;stroke:#1f77b4;\" x=\"219.122951\" xlink:href=\"#m626415b171\" y=\"97.888334\"/>\r\n     <use style=\"fill:#1f77b4;stroke:#1f77b4;\" x=\"150.670279\" xlink:href=\"#m626415b171\" y=\"148.930824\"/>\r\n     <use style=\"fill:#1f77b4;stroke:#1f77b4;\" x=\"111.678964\" xlink:href=\"#m626415b171\" y=\"149.494318\"/>\r\n     <use style=\"fill:#1f77b4;stroke:#1f77b4;\" x=\"335.640077\" xlink:href=\"#m626415b171\" y=\"25.962931\"/>\r\n     <use style=\"fill:#1f77b4;stroke:#1f77b4;\" x=\"181.538018\" xlink:href=\"#m626415b171\" y=\"124.590868\"/>\r\n     <use style=\"fill:#1f77b4;stroke:#1f77b4;\" x=\"167.271717\" xlink:href=\"#m626415b171\" y=\"128.444613\"/>\r\n     <use style=\"fill:#1f77b4;stroke:#1f77b4;\" x=\"340.720255\" xlink:href=\"#m626415b171\" y=\"28.785117\"/>\r\n     <use style=\"fill:#1f77b4;stroke:#1f77b4;\" x=\"323.87906\" xlink:href=\"#m626415b171\" y=\"41.348699\"/>\r\n     <use style=\"fill:#1f77b4;stroke:#1f77b4;\" x=\"325.890624\" xlink:href=\"#m626415b171\" y=\"30.138185\"/>\r\n     <use style=\"fill:#1f77b4;stroke:#1f77b4;\" x=\"137.678\" xlink:href=\"#m626415b171\" y=\"148.318821\"/>\r\n     <use style=\"fill:#1f77b4;stroke:#1f77b4;\" x=\"258.861696\" xlink:href=\"#m626415b171\" y=\"58.173955\"/>\r\n     <use style=\"fill:#1f77b4;stroke:#1f77b4;\" x=\"225.759796\" xlink:href=\"#m626415b171\" y=\"98.495066\"/>\r\n     <use style=\"fill:#1f77b4;stroke:#1f77b4;\" x=\"121.258757\" xlink:href=\"#m626415b171\" y=\"168.264425\"/>\r\n     <use style=\"fill:#1f77b4;stroke:#1f77b4;\" x=\"55.869747\" xlink:href=\"#m626415b171\" y=\"198.37859\"/>\r\n     <use style=\"fill:#1f77b4;stroke:#1f77b4;\" x=\"140.502611\" xlink:href=\"#m626415b171\" y=\"153.438412\"/>\r\n     <use style=\"fill:#1f77b4;stroke:#1f77b4;\" x=\"284.971141\" xlink:href=\"#m626415b171\" y=\"58.782399\"/>\r\n     <use style=\"fill:#1f77b4;stroke:#1f77b4;\" x=\"47.46632\" xlink:href=\"#m626415b171\" y=\"209.238255\"/>\r\n     <use style=\"fill:#1f77b4;stroke:#1f77b4;\" x=\"81.347922\" xlink:href=\"#m626415b171\" y=\"178.991536\"/>\r\n     <use style=\"fill:#1f77b4;stroke:#1f77b4;\" x=\"325.851057\" xlink:href=\"#m626415b171\" y=\"33.884443\"/>\r\n     <use style=\"fill:#1f77b4;stroke:#1f77b4;\" x=\"141.800779\" xlink:href=\"#m626415b171\" y=\"151.378792\"/>\r\n     <use style=\"fill:#1f77b4;stroke:#1f77b4;\" x=\"249.072858\" xlink:href=\"#m626415b171\" y=\"74.152295\"/>\r\n     <use style=\"fill:#1f77b4;stroke:#1f77b4;\" x=\"260.995624\" xlink:href=\"#m626415b171\" y=\"74.838612\"/>\r\n     <use style=\"fill:#1f77b4;stroke:#1f77b4;\" x=\"341.846914\" xlink:href=\"#m626415b171\" y=\"22.331411\"/>\r\n     <use style=\"fill:#1f77b4;stroke:#1f77b4;\" x=\"238.457748\" xlink:href=\"#m626415b171\" y=\"86.435568\"/>\r\n     <use style=\"fill:#1f77b4;stroke:#1f77b4;\" x=\"135.726411\" xlink:href=\"#m626415b171\" y=\"155.129011\"/>\r\n     <use style=\"fill:#1f77b4;stroke:#1f77b4;\" x=\"70.103484\" xlink:href=\"#m626415b171\" y=\"186.09764\"/>\r\n     <use style=\"fill:#1f77b4;stroke:#1f77b4;\" x=\"127.754044\" xlink:href=\"#m626415b171\" y=\"152.679777\"/>\r\n     <use style=\"fill:#1f77b4;stroke:#1f77b4;\" x=\"58.005816\" xlink:href=\"#m626415b171\" y=\"202.538389\"/>\r\n     <use style=\"fill:#1f77b4;stroke:#1f77b4;\" x=\"170.301345\" xlink:href=\"#m626415b171\" y=\"128.113813\"/>\r\n     <use style=\"fill:#1f77b4;stroke:#1f77b4;\" x=\"171.210451\" xlink:href=\"#m626415b171\" y=\"121.42524\"/>\r\n     <use style=\"fill:#1f77b4;stroke:#1f77b4;\" x=\"229.877152\" xlink:href=\"#m626415b171\" y=\"88.885084\"/>\r\n     <use style=\"fill:#1f77b4;stroke:#1f77b4;\" x=\"46.169966\" xlink:href=\"#m626415b171\" y=\"210.94754\"/>\r\n     <use style=\"fill:#1f77b4;stroke:#1f77b4;\" x=\"200.364092\" xlink:href=\"#m626415b171\" y=\"117.799275\"/>\r\n     <use style=\"fill:#1f77b4;stroke:#1f77b4;\" x=\"292.677082\" xlink:href=\"#m626415b171\" y=\"56.155504\"/>\r\n     <use style=\"fill:#1f77b4;stroke:#1f77b4;\" x=\"218.913471\" xlink:href=\"#m626415b171\" y=\"103.589643\"/>\r\n     <use style=\"fill:#1f77b4;stroke:#1f77b4;\" x=\"340.885415\" xlink:href=\"#m626415b171\" y=\"20.792135\"/>\r\n     <use style=\"fill:#1f77b4;stroke:#1f77b4;\" x=\"216.098765\" xlink:href=\"#m626415b171\" y=\"91.588437\"/>\r\n    </g>\r\n   </g>\r\n   <g id=\"line2d_16\">\r\n    <path clip-path=\"url(#p0bd2d0aed2)\" d=\"M 45.321307 205.957681 \r\nL 79.139489 185.099686 \r\nL 112.957671 164.241684 \r\nL 146.775855 143.383681 \r\nL 180.594035 122.525694 \r\nL 214.412224 101.667706 \r\nL 248.230386 80.809719 \r\nL 282.048584 59.951701 \r\nL 315.866763 39.093714 \r\nL 349.684943 18.235726 \r\n\" style=\"fill:none;stroke:#ff7f0e;stroke-linecap:square;stroke-width:1.5;\"/>\r\n   </g>\r\n   <g id=\"patch_3\">\r\n    <path d=\"M 30.103125 224.64 \r\nL 30.103125 7.2 \r\n\" style=\"fill:none;stroke:#000000;stroke-linecap:square;stroke-linejoin:miter;stroke-width:0.8;\"/>\r\n   </g>\r\n   <g id=\"patch_4\">\r\n    <path d=\"M 364.903125 224.64 \r\nL 364.903125 7.2 \r\n\" style=\"fill:none;stroke:#000000;stroke-linecap:square;stroke-linejoin:miter;stroke-width:0.8;\"/>\r\n   </g>\r\n   <g id=\"patch_5\">\r\n    <path d=\"M 30.103125 224.64 \r\nL 364.903125 224.64 \r\n\" style=\"fill:none;stroke:#000000;stroke-linecap:square;stroke-linejoin:miter;stroke-width:0.8;\"/>\r\n   </g>\r\n   <g id=\"patch_6\">\r\n    <path d=\"M 30.103125 7.2 \r\nL 364.903125 7.2 \r\n\" style=\"fill:none;stroke:#000000;stroke-linecap:square;stroke-linejoin:miter;stroke-width:0.8;\"/>\r\n   </g>\r\n  </g>\r\n </g>\r\n <defs>\r\n  <clipPath id=\"p0bd2d0aed2\">\r\n   <rect height=\"217.44\" width=\"334.8\" x=\"30.103125\" y=\"7.2\"/>\r\n  </clipPath>\r\n </defs>\r\n</svg>\r\n",
      "image/png": "[encoded data removed]"
     },
     "metadata": {
      "needs_background": "light"
     }
    }
   ],
   "source": [
    "import matplotlib.pyplot as plt\n",
    "%matplotlib inline\n",
    "plt.plot(x,y,'x')\n",
    "xtest = torch.linspace(0,1,10)\n",
    "with torch.no_grad():\n",
    "    y_pred = model_prediction(xtest,w,bias)\n",
    "plt.plot(xtest,y_pred)"
   ]
  },
  {
   "cell_type": "markdown",
   "metadata": {},
   "source": [
    "### Loading a .csv dataset\n",
    "\n",
    "We can take advantage of the interoperability between Numpy and PyTorch by loading a .csv data as a numpy array and transforming it to a Torch Tensor using `torch.from_numpy(dataset_np)`. "
   ]
  },
  {
   "cell_type": "code",
   "execution_count": 17,
   "metadata": {},
   "outputs": [
    {
     "output_type": "execute_result",
     "data": {
      "text/plain": [
       "('./winequality-red.csv', <http.client.HTTPMessage at 0x17a61c1bc40>)"
      ]
     },
     "metadata": {},
     "execution_count": 17
    }
   ],
   "source": [
    "# This cell is simply to download the winequality-red.csv dataset from its root url\n",
    "import urllib.request\n",
    "urllib.request.urlretrieve('https://archive.ics.uci.edu/ml/machine-learning-databases/wine-quality/winequality-red.csv', './winequality-red.csv')"
   ]
  },
  {
   "cell_type": "code",
   "execution_count": 18,
   "metadata": {},
   "outputs": [
    {
     "output_type": "execute_result",
     "data": {
      "text/plain": [
       "tensor([[ 7.4000,  0.7000,  0.0000,  ...,  0.5600,  9.4000,  5.0000],\n",
       "        [ 7.8000,  0.8800,  0.0000,  ...,  0.6800,  9.8000,  5.0000],\n",
       "        [ 7.8000,  0.7600,  0.0400,  ...,  0.6500,  9.8000,  5.0000],\n",
       "        ...,\n",
       "        [ 6.3000,  0.5100,  0.1300,  ...,  0.7500, 11.0000,  6.0000],\n",
       "        [ 5.9000,  0.6450,  0.1200,  ...,  0.7100, 10.2000,  5.0000],\n",
       "        [ 6.0000,  0.3100,  0.4700,  ...,  0.6600, 11.0000,  6.0000]])"
      ]
     },
     "metadata": {},
     "execution_count": 18
    }
   ],
   "source": [
    "import numpy as np\n",
    "#In the line below we avoid the first row (skiprows=1) of .csv file that contains names\n",
    "#the delimeter of data for this dataset is \";\"\n",
    "wine_np = np.loadtxt(\"./winequality-red.csv\",dtype=np.float32,delimiter=\";\",skiprows=1)\n",
    "wine_torch = torch.from_numpy(wine_np)  #We take advantage of the interoperability with numpy\n",
    "wine_torch"
   ]
  },
  {
   "cell_type": "markdown",
   "metadata": {},
   "source": [
    "### Revisiting linear regression for the Rented Bike Dataset of lab notebook 2\n",
    "\n",
    "We will implement a linear regression for the Rented Bike dataset previously used in Lab. 2. We will use the same data preparation through `sklearn.preprocessing`: the OneHotEncoder() that allows to transform a categorical variable to a one-hot encoding representation, and StandardScaler() performs feature scaling by standardisation."
   ]
  },
  {
   "cell_type": "code",
   "execution_count": 19,
   "metadata": {},
   "outputs": [
    {
     "output_type": "execute_result",
     "data": {
      "text/plain": [
       "('./SeoulBikeData.csv', <http.client.HTTPMessage at 0x17a61c427c0>)"
      ]
     },
     "metadata": {},
     "execution_count": 19
    }
   ],
   "source": [
    "import urllib.request\n",
    "urllib.request.urlretrieve('https://archive.ics.uci.edu/ml/machine-learning-databases/00560/SeoulBikeData.csv', './SeoulBikeData.csv')"
   ]
  },
  {
   "cell_type": "markdown",
   "metadata": {},
   "source": [
    "The following code was borrowed from Lab Notebook 2. You can go back to that Notebook for details."
   ]
  },
  {
   "cell_type": "code",
   "execution_count": 20,
   "metadata": {},
   "outputs": [],
   "source": [
    "import pandas as pd \n",
    "\n",
    "bike_sharing_data = pd.read_csv('SeoulBikeData.csv', encoding= 'unicode_escape')\n",
    "bike_sharing_data = bike_sharing_data.drop('Date', axis=1)\n",
    "\n",
    "for col in ['Rented Bike Count', 'Hour', 'Humidity(%)', 'Visibility (10m)']:\n",
    "    bike_sharing_data[col] = bike_sharing_data[col].astype('float64')\n",
    "\n",
    "attributes_cat = ['Seasons', 'Holiday', 'Functioning Day']\n",
    "attributes_num = ['Hour', 'Temperature(°C)', 'Humidity(%)', 'Wind speed (m/s)', 'Visibility (10m)', \\\n",
    "                  'Dew point temperature(°C)', 'Solar Radiation (MJ/m2)', 'Rainfall(mm)', 'Snowfall (cm)']\n",
    "\n",
    "# We split our dataset for Training and Testing\n",
    "\n",
    "from sklearn.model_selection import train_test_split\n",
    "bs_train_set, bs_test_set = train_test_split(bike_sharing_data, test_size=0.15, random_state=42)\n",
    "from sklearn.preprocessing import OneHotEncoder\n",
    "from sklearn.preprocessing import StandardScaler\n",
    "from sklearn.compose import ColumnTransformer\n",
    "\n",
    "full_transform = ColumnTransformer([\n",
    "    (\"num\", StandardScaler(), attributes_num),\n",
    "    (\"cat\", OneHotEncoder(), attributes_cat),\n",
    "])\n",
    "\n",
    "# We separate the features from the labels\n",
    "\n",
    "bs_train_set_attributes = bs_train_set.drop('Rented Bike Count', axis=1)\n",
    "bs_test_set_attributes = bs_test_set.drop('Rented Bike Count', axis=1)\n",
    "bs_train_set_labels = bs_train_set['Rented Bike Count']\n",
    "bs_test_set_labels = bs_test_set['Rented Bike Count']"
   ]
  },
  {
   "cell_type": "markdown",
   "metadata": {},
   "source": [
    "We now use the function `torch.from_numpy()` to transform the data previously prepared, into a Torch Tensor. We make sure to add a column of ones to the attributes (remember that $x_0=1$) both in the train and test sets."
   ]
  },
  {
   "cell_type": "code",
   "execution_count": 21,
   "metadata": {},
   "outputs": [],
   "source": [
    "# We apply the preprocessing transformation over the features of the training data\n",
    "\n",
    "bs_train_set_attributes_prepared = full_transform.fit_transform(bs_train_set_attributes)\n",
    "bs_test_set_attributes_prepared = full_transform.transform(bs_test_set_attributes)\n",
    "\n",
    "Train_torch = torch.from_numpy(bs_train_set_attributes_prepared)\n",
    "\n",
    "# The line below adds a feature vector of ones in order to allow the bias weight\n",
    "# to be represented in a unique weight vector.\n",
    "\n",
    "Train_torch = torch.cat((torch.ones([Train_torch.shape[0],1],dtype=torch.float64),Train_torch), 1)  \n",
    "Test_torch = torch.from_numpy(bs_test_set_attributes_prepared)\n",
    "\n",
    "# The line below adds a feature vector of ones in order to allow the bias weight\n",
    "# to be represented in a unique weight vector.\n",
    "\n",
    "Test_torch = torch.cat((torch.ones([Test_torch.shape[0],1],dtype=torch.float64),Test_torch), 1)\n",
    "Train_Label_torch = torch.from_numpy(bs_train_set_labels.values)\n",
    "\n",
    "Test_Label_torch = torch.from_numpy(bs_test_set_labels.values)"
   ]
  },
  {
   "cell_type": "markdown",
   "metadata": {},
   "source": [
    "We create a vector of weights $\\mathbf{w}$ with the corresponding flag for the gradient and two functions, one for prediction and one for the loss function."
   ]
  },
  {
   "cell_type": "code",
   "execution_count": 22,
   "metadata": {},
   "outputs": [],
   "source": [
    "# We create the vector of weights to be optimised in the linear regression model\n",
    "dim = Train_torch.shape[1]\n",
    "w = torch.randn([dim,1],dtype=torch.float64)  # vector of weight w is a vector Dim x 1\n",
    "w.requires_grad_(True)\n",
    "\n",
    "# We create the model prediction which consists on an inner product X'w, where X is a design matrix of N x Dim\n",
    "def model_prediction_lr(x,w):\n",
    "    return torch.matmul(x,w)\n",
    "\n",
    "def loss_function_lr(y,y_pred):\n",
    "    return ((y_pred-y)**2).mean()  # Mean Squared Error (MSE)"
   ]
  },
  {
   "cell_type": "markdown",
   "metadata": {},
   "source": [
    "We finally use gradient descent to find the optimal value for $\\mathbf{w}$\n",
    "$$\n",
    "\\mathbf{w}_{k+1} = \\mathbf{w}_k - \\eta \\frac{dE(\\mathbf{w})}{d\\mathbf{w}}\n",
    "$$\n"
   ]
  },
  {
   "cell_type": "code",
   "execution_count": 23,
   "metadata": {
    "scrolled": false
   },
   "outputs": [
    {
     "output_type": "stream",
     "name": "stdout",
     "text": [
      "Iteration = 1, Loss = 910169.47091894\n",
      "Iteration = 21, Loss = 801826.84348266\n",
      "Iteration = 41, Loss = 717432.53513748\n",
      "Iteration = 50, Loss = 685811.40975858\n"
     ]
    }
   ],
   "source": [
    "# Training the model with Gradient Descent\n",
    "\n",
    "Max_Niter = 50 # If you have many iterations, this process can take some time\n",
    "step_size = 0.001\n",
    "for Niter in range(Max_Niter):\n",
    "    y_approx = model_prediction_lr(Train_torch,w)\n",
    "    my_loss = loss_function_lr(Train_Label_torch,y_approx)\n",
    "    \n",
    "    # The function .backward() has to be called in order to load the grads in w.grad\n",
    "    # Notice that here it is not necessary to bypass a vector since loss_function is a scalar function\n",
    "    \n",
    "    my_loss.backward()  \n",
    "        \n",
    "    with torch.no_grad():    # this line avoids the gradient update while allowing to change the value of w\n",
    "        w -= step_size*w.grad    # it is necessary to avoid the grad update while modifying the variable\n",
    "        \n",
    "    # print(w.grad)\n",
    "    # Make the zero gradient to avoid acummulation\n",
    "    w.grad.zero_()\n",
    "    \n",
    "    if Niter%20==0 or Niter == Max_Niter-1:\n",
    "        print(f'Iteration = {Niter+1}, Loss = {my_loss:.8f}')\n",
    "        #print('Weights vector:\\n', w)"
   ]
  },
  {
   "cell_type": "markdown",
   "metadata": {},
   "source": [
    "We finally provide the RMSE for the test set"
   ]
  },
  {
   "cell_type": "code",
   "execution_count": 24,
   "metadata": {},
   "outputs": [
    {
     "output_type": "stream",
     "name": "stdout",
     "text": [
      "The Root Mean Squared Error over the test set is: 818.5980038597364\n"
     ]
    }
   ],
   "source": [
    "# RMSE over the test set\n",
    "\n",
    "y_pred_test = model_prediction_lr(Test_torch,w)\n",
    "MSE_test = loss_function_lr(Test_Label_torch,y_pred_test)\n",
    "print('The Root Mean Squared Error over the test set is:', np.sqrt(MSE_test.detach().numpy()))"
   ]
  },
  {
   "cell_type": "markdown",
   "metadata": {},
   "source": [
    "### Question 2\n",
    "\n",
    "Implement the prediction using an exponential transformation for `model_prediction_lr`, i.e., $y_{\\text{approx}} = \\exp(\\mathbf{w}^{\\top}\\mathbf{x})$ Since the labels are positive values, this transformation guarrantees that the predictions are always positive. Hint: Be careful initialising w and updating it with big step_sizes."
   ]
  },
  {
   "cell_type": "code",
   "execution_count": 32,
   "metadata": {},
   "outputs": [
    {
     "output_type": "error",
     "ename": "RuntimeError",
     "evalue": "mat1 and mat2 shapes cannot be multiplied (1x18 and 7446x18)",
     "traceback": [
      "\u001b[1;31m---------------------------------------------------------------------------\u001b[0m",
      "\u001b[1;31mRuntimeError\u001b[0m                              Traceback (most recent call last)",
      "\u001b[1;32m<ipython-input-32-06516996f1d8>\u001b[0m in \u001b[0;36m<module>\u001b[1;34m\u001b[0m\n\u001b[0;32m     16\u001b[0m \u001b[0mstep_size\u001b[0m \u001b[1;33m=\u001b[0m \u001b[1;36m0.001\u001b[0m\u001b[1;33m\u001b[0m\u001b[1;33m\u001b[0m\u001b[0m\n\u001b[0;32m     17\u001b[0m \u001b[1;32mfor\u001b[0m \u001b[0mNiter\u001b[0m \u001b[1;32min\u001b[0m \u001b[0mrange\u001b[0m\u001b[1;33m(\u001b[0m\u001b[0mMax_Niter\u001b[0m\u001b[1;33m)\u001b[0m\u001b[1;33m:\u001b[0m\u001b[1;33m\u001b[0m\u001b[1;33m\u001b[0m\u001b[0m\n\u001b[1;32m---> 18\u001b[1;33m     \u001b[0my_approx\u001b[0m \u001b[1;33m=\u001b[0m \u001b[0mmodel_prediction_lr\u001b[0m\u001b[1;33m(\u001b[0m\u001b[0mTrain_torch\u001b[0m\u001b[1;33m,\u001b[0m\u001b[0mw\u001b[0m\u001b[1;33m)\u001b[0m\u001b[1;33m\u001b[0m\u001b[1;33m\u001b[0m\u001b[0m\n\u001b[0m\u001b[0;32m     19\u001b[0m     \u001b[0mmy_loss\u001b[0m \u001b[1;33m=\u001b[0m \u001b[0mloss_function_lr\u001b[0m\u001b[1;33m(\u001b[0m\u001b[0mTrain_Label_torch\u001b[0m\u001b[1;33m,\u001b[0m\u001b[0my_approx\u001b[0m\u001b[1;33m)\u001b[0m\u001b[1;33m\u001b[0m\u001b[1;33m\u001b[0m\u001b[0m\n\u001b[0;32m     20\u001b[0m \u001b[1;33m\u001b[0m\u001b[0m\n",
      "\u001b[1;32m<ipython-input-32-06516996f1d8>\u001b[0m in \u001b[0;36mmodel_prediction_lr\u001b[1;34m(x, w)\u001b[0m\n\u001b[0;32m      6\u001b[0m \u001b[1;31m# We create the model prediction which consists on an inner product X'w, where X is a design matrix of N x Dim\u001b[0m\u001b[1;33m\u001b[0m\u001b[1;33m\u001b[0m\u001b[1;33m\u001b[0m\u001b[0m\n\u001b[0;32m      7\u001b[0m \u001b[1;32mdef\u001b[0m \u001b[0mmodel_prediction_lr\u001b[0m\u001b[1;33m(\u001b[0m\u001b[0mx\u001b[0m\u001b[1;33m,\u001b[0m\u001b[0mw\u001b[0m\u001b[1;33m)\u001b[0m\u001b[1;33m:\u001b[0m\u001b[1;33m\u001b[0m\u001b[1;33m\u001b[0m\u001b[0m\n\u001b[1;32m----> 8\u001b[1;33m     \u001b[1;32mreturn\u001b[0m \u001b[0mtorch\u001b[0m\u001b[1;33m.\u001b[0m\u001b[0mexp\u001b[0m\u001b[1;33m(\u001b[0m\u001b[0mtorch\u001b[0m\u001b[1;33m.\u001b[0m\u001b[0mmatmul\u001b[0m\u001b[1;33m(\u001b[0m\u001b[0mw\u001b[0m\u001b[1;33m.\u001b[0m\u001b[0mT\u001b[0m\u001b[1;33m,\u001b[0m\u001b[0mx\u001b[0m\u001b[1;33m)\u001b[0m\u001b[1;33m)\u001b[0m\u001b[1;33m\u001b[0m\u001b[1;33m\u001b[0m\u001b[0m\n\u001b[0m\u001b[0;32m      9\u001b[0m \u001b[1;33m\u001b[0m\u001b[0m\n\u001b[0;32m     10\u001b[0m \u001b[1;32mdef\u001b[0m \u001b[0mloss_function_lr\u001b[0m\u001b[1;33m(\u001b[0m\u001b[0my\u001b[0m\u001b[1;33m,\u001b[0m\u001b[0my_pred\u001b[0m\u001b[1;33m)\u001b[0m\u001b[1;33m:\u001b[0m\u001b[1;33m\u001b[0m\u001b[1;33m\u001b[0m\u001b[0m\n",
      "\u001b[1;31mRuntimeError\u001b[0m: mat1 and mat2 shapes cannot be multiplied (1x18 and 7446x18)"
     ]
    }
   ],
   "source": [
    "# Provide your answer here\n",
    "\n",
    "w = torch.randn([dim,1],dtype=torch.float64)  # vector of weight w is a vector Dim x 1\n",
    "w.requires_grad_(True)\n",
    "\n",
    "# We create the model prediction which consists on an inner product X'w, where X is a design matrix of N x Dim\n",
    "def model_prediction_lr(x,w):\n",
    "    return torch.exp(torch.matmul(x,w))\n",
    "\n",
    "def loss_function_lr(y,y_pred):\n",
    "    return ((y_pred-y)**2).mean()  # Mean Squared Error (MSE)\n",
    "\n",
    "# Training the model with Gradient Descent\n",
    "\n",
    "Max_Niter = 50 # If you have many iterations, this process can take some time\n",
    "step_size = 0.001\n",
    "for Niter in range(Max_Niter):\n",
    "    y_approx = model_prediction_lr(Train_torch,w)\n",
    "    my_loss = loss_function_lr(Train_Label_torch,y_approx)\n",
    "    \n",
    "    # The function .backward() has to be called in order to load the grads in w.grad\n",
    "    # Notice that here it is not necessary to bypass a vector since loss_function is a scalar function\n",
    "    \n",
    "    my_loss.backward()  \n",
    "        \n",
    "    with torch.no_grad():    # this line avoids the gradient update while allowing to change the value of w\n",
    "        w -= step_size*w.grad    # it is necessary to avoid the grad update while modifying the variable\n",
    "        \n",
    "    # print(w.grad)\n",
    "    # Make the zero gradient to avoid acummulation\n",
    "    w.grad.zero_()\n",
    "    \n",
    "    if Niter%20==0 or Niter == Max_Niter-1:\n",
    "        print(f'Iteration = {Niter+1}, Loss = {my_loss:.8f}')\n",
    "        #print('Weights vector:\\n', w)\n",
    "\n",
    "# RMSE over the test set\n",
    "\n",
    "y_pred_test = model_prediction_lr(Test_torch,w)\n",
    "MSE_test = loss_function_lr(Test_Label_torch,y_pred_test)\n",
    "print('The Root Mean Squared Error over the test set is:', np.sqrt(MSE_test.detach().numpy()))"
   ]
  }
 ],
 "metadata": {
  "kernelspec": {
   "display_name": "Python 3",
   "language": "python",
   "name": "python3"
  },
  "language_info": {
   "codemirror_mode": {
    "name": "ipython",
    "version": 3
   },
   "file_extension": ".py",
   "mimetype": "text/x-python",
   "name": "python",
   "nbconvert_exporter": "python",
   "pygments_lexer": "ipython3",
   "version": "3.8.5-final"
  }
 },
 "nbformat": 4,
 "nbformat_minor": 4
}