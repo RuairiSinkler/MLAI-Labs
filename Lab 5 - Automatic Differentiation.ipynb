{
 "cells": [
  {
   "cell_type": "markdown",
   "metadata": {},
   "source": [
    "# Introduction to PyTorch\n",
    "\n",
    "### 28th October 2020 by Juan-José Giraldo (PhD candidate) and Mauricio A Álvarez\n",
    "\n",
    "In this Notebook, we look at the torch library in Python that allows automatic differentiation. PyTorch will be used to implement different neural network models later on.\n",
    "\n",
    "### Tensors"
   ]
  },
  {
   "cell_type": "markdown",
   "metadata": {},
   "source": [
    "A tensor generalises the concept of vectors and matrices to an arbitrary number of dimensions. Another name for the same concept is multidimensional arrays. The dimensionality of a tensor is the number of indexes used to refer to scalar values within the tensor. The cell below shows an example initialising a Tensor uniformly for 1D, 2D and 3D:"
   ]
  },
  {
   "cell_type": "code",
   "execution_count": 1,
   "metadata": {},
   "outputs": [
    {
     "name": "stdout",
     "output_type": "stream",
     "text": [
      "Tensor 1D presents one index with shape torch.Size([2]) :\n",
      " tensor([0.0308, 0.9170])\n",
      "\n",
      "Tensor 2D presents two indexes with shape torch.Size([2, 3]) :\n",
      " tensor([[0.7123, 0.0256, 0.9664],\n",
      "        [0.0196, 0.6485, 0.0937]])\n",
      "\n",
      "Tensor 3D presents three indexes with shape torch.Size([5, 2, 3]) :\n",
      " tensor([[[0.0194, 0.5528, 0.3406],\n",
      "         [0.0862, 0.0538, 0.2410]],\n",
      "\n",
      "        [[0.6245, 0.1670, 0.9026],\n",
      "         [0.1127, 0.8203, 0.1505]],\n",
      "\n",
      "        [[0.5683, 0.9590, 0.4215],\n",
      "         [0.4312, 0.4663, 0.3498]],\n",
      "\n",
      "        [[0.6428, 0.0995, 0.6408],\n",
      "         [0.7309, 0.9269, 0.9899]],\n",
      "\n",
      "        [[0.2112, 0.8130, 0.4695],\n",
      "         [0.8868, 0.0729, 0.4394]]])\n"
     ]
    }
   ],
   "source": [
    "# We first import the torch library that comes with the Anaconda distribution\n",
    "import torch \n",
    "# Tensor 1D presents 1 index\n",
    "y = torch.rand([2])\n",
    "print('Tensor 1D presents one index','with shape', y.shape,':\\n',y) #get specific size with .shape\n",
    "# Tensor 2D presents 2 indexes\n",
    "y = torch.rand([2,3])\n",
    "print('\\nTensor 2D presents two indexes','with shape',y.shape,':\\n',y)\n",
    "#Tensor 3D presents 3 indexes\n",
    "y = torch.rand([5,2,3])\n",
    "print('\\nTensor 3D presents three indexes','with shape',y.shape,':\\n',y)"
   ]
  },
  {
   "cell_type": "code",
   "execution_count": 2,
   "metadata": {},
   "outputs": [
    {
     "name": "stdout",
     "output_type": "stream",
     "text": [
      "tensor([ 8., 15.])\n"
     ]
    }
   ],
   "source": [
    "# Create a tensor with specific values\n",
    "x = torch.tensor([4.0,5.0],dtype=torch.float32)\n",
    "y = torch.tensor([2.0,3.0],dtype=torch.float32)\n",
    "\n",
    "# Tensor multiplication (point-wise multiplication)\n",
    "print(x*y)"
   ]
  },
  {
   "cell_type": "markdown",
   "metadata": {},
   "source": [
    "### Initialise a tensor with torch.zeros or torch.ones "
   ]
  },
  {
   "cell_type": "code",
   "execution_count": 3,
   "metadata": {},
   "outputs": [
    {
     "name": "stdout",
     "output_type": "stream",
     "text": [
      "x_zeros: tensor([[0., 0., 0., 0.],\n",
      "        [0., 0., 0., 0.],\n",
      "        [0., 0., 0., 0.]]) with shape torch.Size([3, 4]) \n",
      "\n",
      "x_ones: tensor([[1., 1., 1., 1., 1., 1.],\n",
      "        [1., 1., 1., 1., 1., 1.]]) with shape torch.Size([2, 6])\n"
     ]
    }
   ],
   "source": [
    "x_zeros = torch.zeros([3,4])\n",
    "print('x_zeros:',x_zeros,'with shape',x_zeros.shape,'\\n')\n",
    "x_ones = torch.ones([2,6])\n",
    "print('x_ones:',x_ones,'with shape',x_ones.shape)"
   ]
  },
  {
   "cell_type": "markdown",
   "metadata": {},
   "source": [
    "### Reshape a tensor using .view"
   ]
  },
  {
   "cell_type": "code",
   "execution_count": 4,
   "metadata": {},
   "outputs": [
    {
     "name": "stdout",
     "output_type": "stream",
     "text": [
      "tensor([[1.],\n",
      "        [1.],\n",
      "        [1.],\n",
      "        [1.],\n",
      "        [1.],\n",
      "        [1.]])\n"
     ]
    }
   ],
   "source": [
    "y = torch.ones([3,2])\n",
    "y_reshaped = y.view(6,1)  # in contrast to the common numpy library, we use .view instead of .reshape\n",
    "print(y_reshaped)"
   ]
  },
  {
   "cell_type": "markdown",
   "metadata": {},
   "source": [
    "### Numpy interoperability \n",
    "\n",
    "PyTorch tensors can be converted efficiently to NumPy arrays and vice versa. By doing so, you can leverage the huge swath of functionality in the wider Python ecosystem that has built up around the NumPy array type."
   ]
  },
  {
   "cell_type": "code",
   "execution_count": 5,
   "metadata": {},
   "outputs": [
    {
     "name": "stdout",
     "output_type": "stream",
     "text": [
      "Array in numpy form with shape (3, 4) :\n",
      " [[1. 1. 1. 1.]\n",
      " [1. 1. 1. 1.]\n",
      " [1. 1. 1. 1.]]\n",
      "\n",
      "Array from Numpy to Torch with shape torch.Size([5, 8]) :\n",
      " tensor([[ 1.0159, -0.8714,  1.8020,  0.4635,  1.6781, -0.0297, -0.4661, -1.9653],\n",
      "        [-0.6010,  0.6636,  0.7456,  0.1501,  1.2353, -0.7518,  0.0498, -0.3617],\n",
      "        [ 0.2699, -2.2148, -0.3881,  1.5506, -0.3724,  0.8399, -1.6528,  0.1825],\n",
      "        [ 1.3669, -0.2380, -0.7690,  1.5717,  2.6223,  0.4274, -0.2908, -1.6227],\n",
      "        [-0.4966, -1.2921,  0.9741,  1.0862,  1.6831, -0.3315, -0.1201, -1.4901]],\n",
      "       dtype=torch.float64)\n"
     ]
    }
   ],
   "source": [
    "# Tensor_torch to tensor Numpy\n",
    "Tensor_torch = torch.ones(3,4)\n",
    "Tensor_numpy = Tensor_torch.numpy() #Returns a NumPy multidim. array of the right size, shape and numerical type.\n",
    "print('Array in numpy form with shape', Tensor_numpy.shape,':\\n',Tensor_numpy)\n",
    "\n",
    "# Tensor Numpy to Tensor_torch\n",
    "import numpy as np\n",
    "Tensor_np = np.random.randn(5,8)    \n",
    "Tensor_numpy_to_torch = torch.from_numpy(Tensor_np)\n",
    "print('\\nArray from Numpy to Torch with shape', Tensor_numpy_to_torch.shape,':\\n',Tensor_numpy_to_torch)"
   ]
  },
  {
   "cell_type": "markdown",
   "metadata": {},
   "source": [
    "## Automatic Differentiation\n",
    "\n",
    "PyTorch allows to automatically obtain the gradients of a tensor with respect to a defined function. When creating the tensor, we have to indicate that it requires the gradient computation using the flag `requires_grad`  "
   ]
  },
  {
   "cell_type": "code",
   "execution_count": 6,
   "metadata": {},
   "outputs": [
    {
     "name": "stdout",
     "output_type": "stream",
     "text": [
      "tensor([0.9207, 0.2854, 0.1424], requires_grad=True)\n"
     ]
    }
   ],
   "source": [
    "x = torch.rand(3,requires_grad=True)\n",
    "print(x)"
   ]
  },
  {
   "cell_type": "markdown",
   "metadata": {},
   "source": [
    "Notice that now the Tensor shows the flag `requires_grad` as True. We can also activate such a flag in a Tensor already created as follows:"
   ]
  },
  {
   "cell_type": "code",
   "execution_count": 7,
   "metadata": {},
   "outputs": [
    {
     "name": "stdout",
     "output_type": "stream",
     "text": [
      "tensor([1., 2., 3.], requires_grad=True)\n"
     ]
    }
   ],
   "source": [
    "x = torch.tensor([1.0,2.0,3.0])\n",
    "x.requires_grad_(True)\n",
    "print(x)"
   ]
  },
  {
   "cell_type": "markdown",
   "metadata": {},
   "source": [
    "Let us define a function $y=x^2+5$. The function $y$ will not only carry the result of evaluating $x$, but also the gradient function $\\frac{\\partial y}{\\partial x}$ called `grad_fn` in the new tensor $y$"
   ]
  },
  {
   "cell_type": "code",
   "execution_count": 8,
   "metadata": {},
   "outputs": [
    {
     "name": "stdout",
     "output_type": "stream",
     "text": [
      "tensor([9.], grad_fn=<AddBackward0>)\n"
     ]
    }
   ],
   "source": [
    "x = torch.tensor([2.0])\n",
    "x.requires_grad_(True)  #indicate we will need the gradients with respecto to this variable\n",
    "y = x**2 + 5\n",
    "print(y)"
   ]
  },
  {
   "cell_type": "markdown",
   "metadata": {},
   "source": [
    "To evaluate the partial derivative $\\frac{\\partial y}{\\partial x}$, we use the `.backward()` function and the result of the gradient evaluation is stored in `x.grad` "
   ]
  },
  {
   "cell_type": "code",
   "execution_count": 9,
   "metadata": {},
   "outputs": [
    {
     "name": "stdout",
     "output_type": "stream",
     "text": [
      "PyTorch gradient: tensor([4.])\n",
      "Analitical gradient: tensor([4.])\n"
     ]
    }
   ],
   "source": [
    "y.backward()  #dy/dx\n",
    "print('PyTorch gradient:', x.grad)\n",
    "\n",
    "#L et us compare with the analitical gradient of y = x**2+5\n",
    "with torch.no_grad():    #this is to only use the tensor value without its gradient information\n",
    "    dy_dx = 2*x  #analitical gradient\n",
    "print('Analitical gradient:',dy_dx)"
   ]
  },
  {
   "cell_type": "markdown",
   "metadata": {},
   "source": [
    "If we evaluate a vector $\\mathbf{w}=[w_1, \\ldots, w_D]^{\\top}$, to compute another vector $\\mathbf{g}=[g_1, \\ldots, g_D]^{\\top}$ with elements $g_i=w_i^2+5$, then we obtain a vector $\\mathbf{g}$ that contains each evaluation of the function. If we want to obtain the gradient w.r.t $\\mathbf{w}$ by using \"g.backward()\", we have to bypass a vector of size equal to w.shape to the function, i.e., \"g.backward(vect)\". "
   ]
  },
  {
   "cell_type": "code",
   "execution_count": 10,
   "metadata": {},
   "outputs": [
    {
     "name": "stdout",
     "output_type": "stream",
     "text": [
      "tensor([2., 4., 6.])\n"
     ]
    }
   ],
   "source": [
    "w = torch.tensor([1.0,2.0,3.0])\n",
    "w.requires_grad_(True)\n",
    "\n",
    "g = w**2+5\n",
    "# Below, the values [1.0,1.0,1.0] are multiplied by the gradient g.backward(vect)\n",
    "# of course using the ones does not modify the value of the gradient\n",
    "vect = torch.tensor([1.0,1.0,1.0],dtype=torch.float32) \n",
    "g.backward(vect)\n",
    "print(w.grad)"
   ]
  },
  {
   "cell_type": "markdown",
   "metadata": {},
   "source": [
    "On the other hand, when accessing the gradients in a for loop, PyTorch acummulates the gradients at each\n",
    "iteration. In order to avoid this behaviour, we have to use the function .grad.zero_() also at each iteration. See in the example below what happens when commenting and uncommenting the line \"w.grad.zero_()\":"
   ]
  },
  {
   "cell_type": "code",
   "execution_count": 11,
   "metadata": {},
   "outputs": [
    {
     "name": "stdout",
     "output_type": "stream",
     "text": [
      "tensor([2., 4., 6.])\n",
      "tensor([2., 4., 6.])\n",
      "tensor([2., 4., 6.])\n"
     ]
    }
   ],
   "source": [
    "#Pytorch uses a cumulative process for the gradients\n",
    "w = torch.tensor([1.0,2.0,3.0])\n",
    "w.requires_grad_(True)\n",
    "\n",
    "for i in range(3):\n",
    "    g = w**2+5\n",
    "    g.backward(torch.ones_like(w))\n",
    "    print(w.grad)\n",
    "    w.grad.zero_()    #this line avoids the acummulation of the gradients uncomment it to see its effect"
   ]
  },
  {
   "cell_type": "markdown",
   "metadata": {},
   "source": [
    "###  Question 1\n",
    "\n",
    "Verify that the gradients provided by PyTorch coincide with the analitical gradients of the function $f = \\exp \\big(-x^2-2x- \\sin (x) \\big)$ w.r.t $x$."
   ]
  },
  {
   "cell_type": "code",
   "execution_count": 12,
   "metadata": {},
   "outputs": [],
   "source": [
    "# Provide your answer here"
   ]
  },
  {
   "cell_type": "markdown",
   "metadata": {},
   "source": [
    "## Linear Regression Basic Example\n",
    "\n",
    "We now provide a very simple example of linear regression with one input dimension, $y=wx+b$, and illustrate how we use PyTorch to optimise the parameters of the model"
   ]
  },
  {
   "cell_type": "code",
   "execution_count": 13,
   "metadata": {},
   "outputs": [],
   "source": [
    "Ndata = 100 \n",
    "x = torch.rand(Ndata)\n",
    "true_w = 1.5\n",
    "true_bias = 1.0\n",
    "# We generate the dataset from the actual model but adding some noise\n",
    "y = true_w*x + true_bias + 0.05*torch.randn(Ndata)\n",
    "# We make sure to set the requires_grad flag to True for both paratemers\n",
    "w = torch.tensor(0.0,dtype=torch.float32,requires_grad=True)\n",
    "bias = torch.tensor(0.0,dtype=torch.float32,requires_grad=True)"
   ]
  },
  {
   "cell_type": "markdown",
   "metadata": {},
   "source": [
    "We now define two useful functions, the prediction function and the objective function"
   ]
  },
  {
   "cell_type": "code",
   "execution_count": 14,
   "metadata": {},
   "outputs": [],
   "source": [
    "def model_prediction(x,w,bias):\n",
    "    return w*x + bias\n",
    "\n",
    "def loss_function(y,y_pred):\n",
    "    return ((y_pred-y)**2).mean()  #Mean Squared Error (MSE)"
   ]
  },
  {
   "cell_type": "markdown",
   "metadata": {},
   "source": [
    "And we use coordinate descent to estimate the parameters of the model\n",
    "\n",
    "\\begin{align*}\n",
    "    w_{k+1} = w_k - \\eta \\frac{dE}{dw}\\\\ \n",
    "    b_{k+1} = b_k - \\eta \\frac{dE}{db}\\\\ \n",
    "\\end{align*}\n",
    "\n",
    "We know that there is a closed form solution for $w$ and $b$ through the normal equation. The example is for illustrative purposes."
   ]
  },
  {
   "cell_type": "code",
   "execution_count": 15,
   "metadata": {},
   "outputs": [
    {
     "name": "stdout",
     "output_type": "stream",
     "text": [
      "Iteration = 1, Loss = 3.39980412, w = 0.213, bias = 0.359\n",
      "Iteration = 51, Loss = 0.01383430, w = 1.102, bias = 1.227\n",
      "Iteration = 101, Loss = 0.00587356, w = 1.272, bias = 1.131\n",
      "Iteration = 151, Loss = 0.00341023, w = 1.367, bias = 1.078\n",
      "Iteration = 201, Loss = 0.00264800, w = 1.419, bias = 1.048\n",
      "Iteration = 251, Loss = 0.00241214, w = 1.449, bias = 1.032\n",
      "Iteration = 301, Loss = 0.00233915, w = 1.465, bias = 1.023\n",
      "Iteration = 351, Loss = 0.00231657, w = 1.474, bias = 1.018\n",
      "Iteration = 401, Loss = 0.00230958, w = 1.479, bias = 1.015\n",
      "Iteration = 451, Loss = 0.00230742, w = 1.482, bias = 1.013\n",
      "Iteration = 500, Loss = 0.00230676, w = 1.483, bias = 1.012\n"
     ]
    }
   ],
   "source": [
    "Max_Niter = 500\n",
    "step_size = 0.1\n",
    "for Niter in range(Max_Niter):\n",
    "    # Evaluate the prediction and the loss\n",
    "    y_approx = model_prediction(x,w,bias)\n",
    "    my_loss = loss_function(y,y_approx)\n",
    "    \n",
    "    # The function .backward() has to be called in order to load the grads in w.grad\n",
    "    # Notice that here it is not necessary to bypass a vector since loss_function is a scalar function\n",
    "    my_loss.backward()  \n",
    "        \n",
    "    with torch.no_grad():        # this line avoids the gradient update while allowing to change the value of w\n",
    "        w -= step_size*w.grad    # it is necessary to avoid the grad update while modifying the variable\n",
    "        bias -= step_size*bias.grad\n",
    "    \n",
    "    # Make the zero gradient to avoid acummulation\n",
    "    w.grad.zero_()\n",
    "    bias.grad.zero_()\n",
    "    \n",
    "    # We print the loss, and the parameters values every 50 iterations\n",
    "    if Niter%50==0:\n",
    "        print(f'Iteration = {Niter+1}, Loss = {my_loss:.8f}, w = {w:.3f}, bias = {bias:.3f}')        \n",
    "\n",
    "print(f'Iteration = {Niter+1}, Loss = {my_loss:.8f}, w = {w:.3f}, bias = {bias:.3f}')    \n",
    "    "
   ]
  },
  {
   "cell_type": "markdown",
   "metadata": {},
   "source": [
    "We finally plot the result"
   ]
  },
  {
   "cell_type": "code",
   "execution_count": 16,
   "metadata": {},
   "outputs": [
    {
     "data": {
      "text/plain": [
       "[<matplotlib.lines.Line2D at 0x7ffe3d02a588>]"
      ]
     },
     "execution_count": 16,
     "metadata": {},
     "output_type": "execute_result"
    },
    {
     "data": {
      "image/png": "[encoded data removed]",
      "text/plain": [
       "<Figure size 432x288 with 1 Axes>"
      ]
     },
     "metadata": {
      "needs_background": "light"
     },
     "output_type": "display_data"
    }
   ],
   "source": [
    "import matplotlib.pyplot as plt\n",
    "%matplotlib inline\n",
    "plt.plot(x,y,'x')\n",
    "xtest = torch.linspace(0,1,10)\n",
    "with torch.no_grad():\n",
    "    y_pred = model_prediction(xtest,w,bias)\n",
    "plt.plot(xtest,y_pred)"
   ]
  },
  {
   "cell_type": "markdown",
   "metadata": {},
   "source": [
    "### Loading a .csv dataset\n",
    "\n",
    "We can take advantage of the interoperability between Numpy and PyTorch by loading a .csv data as a numpy array and transforming it to a Torch Tensor using `torch.from_numpy(dataset_np)`. "
   ]
  },
  {
   "cell_type": "code",
   "execution_count": 17,
   "metadata": {},
   "outputs": [
    {
     "data": {
      "text/plain": [
       "('./winequality-red.csv', <http.client.HTTPMessage at 0x7ffe3e9b7278>)"
      ]
     },
     "execution_count": 17,
     "metadata": {},
     "output_type": "execute_result"
    }
   ],
   "source": [
    "# This cell is simply to download the winequality-red.csv dataset from its root url\n",
    "import urllib.request\n",
    "urllib.request.urlretrieve('https://archive.ics.uci.edu/ml/machine-learning-databases/wine-quality/winequality-red.csv', './winequality-red.csv')"
   ]
  },
  {
   "cell_type": "code",
   "execution_count": 18,
   "metadata": {},
   "outputs": [
    {
     "data": {
      "text/plain": [
       "tensor([[ 7.4000,  0.7000,  0.0000,  ...,  0.5600,  9.4000,  5.0000],\n",
       "        [ 7.8000,  0.8800,  0.0000,  ...,  0.6800,  9.8000,  5.0000],\n",
       "        [ 7.8000,  0.7600,  0.0400,  ...,  0.6500,  9.8000,  5.0000],\n",
       "        ...,\n",
       "        [ 6.3000,  0.5100,  0.1300,  ...,  0.7500, 11.0000,  6.0000],\n",
       "        [ 5.9000,  0.6450,  0.1200,  ...,  0.7100, 10.2000,  5.0000],\n",
       "        [ 6.0000,  0.3100,  0.4700,  ...,  0.6600, 11.0000,  6.0000]])"
      ]
     },
     "execution_count": 18,
     "metadata": {},
     "output_type": "execute_result"
    }
   ],
   "source": [
    "import numpy as np\n",
    "#In the line below we avoid the first row (skiprows=1) of .csv file that contains names\n",
    "#the delimeter of data for this dataset is \";\"\n",
    "wine_np = np.loadtxt(\"./winequality-red.csv\",dtype=np.float32,delimiter=\";\",skiprows=1)\n",
    "wine_torch = torch.from_numpy(wine_np)  #We take advantage of the interoperability with numpy\n",
    "wine_torch"
   ]
  },
  {
   "cell_type": "markdown",
   "metadata": {},
   "source": [
    "### Revisiting linear regression for the Rented Bike Dataset of lab notebook 2\n",
    "\n",
    "We will implement a linear regression for the Rented Bike dataset previously used in Lab. 2. We will use the same data preparation through `sklearn.preprocessing`: the OneHotEncoder() that allows to transform a categorical variable to a one-hot encoding representation, and StandardScaler() performs feature scaling by standardisation."
   ]
  },
  {
   "cell_type": "code",
   "execution_count": 19,
   "metadata": {},
   "outputs": [
    {
     "data": {
      "text/plain": [
       "('./SeoulBikeData.csv', <http.client.HTTPMessage at 0x7ffe3fb912b0>)"
      ]
     },
     "execution_count": 19,
     "metadata": {},
     "output_type": "execute_result"
    }
   ],
   "source": [
    "import urllib.request\n",
    "urllib.request.urlretrieve('https://archive.ics.uci.edu/ml/machine-learning-databases/00560/SeoulBikeData.csv', './SeoulBikeData.csv')"
   ]
  },
  {
   "cell_type": "markdown",
   "metadata": {},
   "source": [
    "The following code was borrowed from Lab Notebook 2. You can go back to that Notebook for details."
   ]
  },
  {
   "cell_type": "code",
   "execution_count": 20,
   "metadata": {},
   "outputs": [],
   "source": [
    "import pandas as pd \n",
    "\n",
    "bike_sharing_data = pd.read_csv('SeoulBikeData.csv', encoding= 'unicode_escape')\n",
    "bike_sharing_data = bike_sharing_data.drop('Date', axis=1)\n",
    "\n",
    "for col in ['Rented Bike Count', 'Hour', 'Humidity(%)', 'Visibility (10m)']:\n",
    "    bike_sharing_data[col] = bike_sharing_data[col].astype('float64')\n",
    "\n",
    "attributes_cat = ['Seasons', 'Holiday', 'Functioning Day']\n",
    "attributes_num = ['Hour', 'Temperature(°C)', 'Humidity(%)', 'Wind speed (m/s)', 'Visibility (10m)', \\\n",
    "                  'Dew point temperature(°C)', 'Solar Radiation (MJ/m2)', 'Rainfall(mm)', 'Snowfall (cm)']\n",
    "\n",
    "# We split our dataset for Training and Testing\n",
    "\n",
    "from sklearn.model_selection import train_test_split\n",
    "bs_train_set, bs_test_set = train_test_split(bike_sharing_data, test_size=0.15, random_state=42)\n",
    "from sklearn.preprocessing import OneHotEncoder\n",
    "from sklearn.preprocessing import StandardScaler\n",
    "from sklearn.compose import ColumnTransformer\n",
    "\n",
    "full_transform = ColumnTransformer([\n",
    "    (\"num\", StandardScaler(), attributes_num),\n",
    "    (\"cat\", OneHotEncoder(), attributes_cat),\n",
    "])\n",
    "\n",
    "# We separate the features from the labels\n",
    "\n",
    "bs_train_set_attributes = bs_train_set.drop('Rented Bike Count', axis=1)\n",
    "bs_test_set_attributes = bs_test_set.drop('Rented Bike Count', axis=1)\n",
    "bs_train_set_labels = bs_train_set['Rented Bike Count']\n",
    "bs_test_set_labels = bs_test_set['Rented Bike Count']"
   ]
  },
  {
   "cell_type": "markdown",
   "metadata": {},
   "source": [
    "We now use the function `torch.from_numpy()` to transform the data previously prepared, into a Torch Tensor. We make sure to add a column of ones to the attributes (remember that $x_0=1$) both in the train and test sets."
   ]
  },
  {
   "cell_type": "code",
   "execution_count": 21,
   "metadata": {},
   "outputs": [],
   "source": [
    "# We apply the preprocessing transformation over the features of the training data\n",
    "\n",
    "bs_train_set_attributes_prepared = full_transform.fit_transform(bs_train_set_attributes)\n",
    "bs_test_set_attributes_prepared = full_transform.transform(bs_test_set_attributes)\n",
    "\n",
    "Train_torch = torch.from_numpy(bs_train_set_attributes_prepared)\n",
    "\n",
    "# The line below adds a feature vector of ones in order to allow the bias weight\n",
    "# to be represented in a unique weight vector.\n",
    "\n",
    "Train_torch = torch.cat((torch.ones([Train_torch.shape[0],1],dtype=torch.float64),Train_torch), 1)  \n",
    "Test_torch = torch.from_numpy(bs_test_set_attributes_prepared)\n",
    "\n",
    "# The line below adds a feature vector of ones in order to allow the bias weight\n",
    "# to be represented in a unique weight vector.\n",
    "\n",
    "Test_torch = torch.cat((torch.ones([Test_torch.shape[0],1],dtype=torch.float64),Test_torch), 1)\n",
    "Train_Label_torch = torch.from_numpy(bs_train_set_labels.values)\n",
    "\n",
    "Test_Label_torch = torch.from_numpy(bs_test_set_labels.values)"
   ]
  },
  {
   "cell_type": "markdown",
   "metadata": {},
   "source": [
    "We create a vector of weights $\\mathbf{w}$ with the corresponding flag for the gradient and two functions, one for prediction and one for the loss function."
   ]
  },
  {
   "cell_type": "code",
   "execution_count": 22,
   "metadata": {},
   "outputs": [],
   "source": [
    "# We create the vector of weights to be optimised in the linear regression model\n",
    "dim = Train_torch.shape[1]\n",
    "w = torch.randn([dim,1],dtype=torch.float64)  # vector of weight w is a vector Dim x 1\n",
    "w.requires_grad_(True)\n",
    "\n",
    "# We create the model prediction which consists on an inner product X'w, where X is a design matrix of N x Dim\n",
    "def model_prediction_lr(x,w):\n",
    "    return torch.matmul(x,w)\n",
    "\n",
    "def loss_function_lr(y,y_pred):\n",
    "    return ((y_pred-y)**2).mean()  # Mean Squared Error (MSE)"
   ]
  },
  {
   "cell_type": "markdown",
   "metadata": {},
   "source": [
    "We finally use gradient descent to find the optimal value for $\\mathbf{w}$\n",
    "$$\n",
    "\\mathbf{w}_{k+1} = \\mathbf{w}_k - \\eta \\frac{dE(\\mathbf{w})}{d\\mathbf{w}}\n",
    "$$\n"
   ]
  },
  {
   "cell_type": "code",
   "execution_count": 23,
   "metadata": {
    "scrolled": false
   },
   "outputs": [
    {
     "name": "stdout",
     "output_type": "stream",
     "text": [
      "Iteration = 1, Loss = 915136.17681741\n",
      "Iteration = 21, Loss = 805693.80897282\n",
      "Iteration = 41, Loss = 720443.50625595\n",
      "Iteration = 50, Loss = 688501.84858444\n"
     ]
    }
   ],
   "source": [
    "# Training the model with Gradient Descent\n",
    "\n",
    "Max_Niter = 50 # If you have many iterations, this process can take some time\n",
    "step_size = 0.001\n",
    "for Niter in range(Max_Niter):\n",
    "    y_approx = model_prediction_lr(Train_torch,w)\n",
    "    my_loss = loss_function_lr(Train_Label_torch,y_approx)\n",
    "    \n",
    "    # The function .backward() has to be called in order to load the grads in w.grad\n",
    "    # Notice that here it is not necessary to bypass a vector since loss_function is a scalar function\n",
    "    \n",
    "    my_loss.backward()  \n",
    "        \n",
    "    with torch.no_grad():    # this line avoids the gradient update while allowing to change the value of w\n",
    "        w -= step_size*w.grad    # it is necessary to avoid the grad update while modifying the variable\n",
    "        \n",
    "    # print(w.grad)\n",
    "    # Make the zero gradient to avoid acummulation\n",
    "    w.grad.zero_()\n",
    "    \n",
    "    if Niter%20==0 or Niter == Max_Niter-1:\n",
    "        print(f'Iteration = {Niter+1}, Loss = {my_loss:.8f}')\n",
    "        #print('Weights vector:\\n', w)"
   ]
  },
  {
   "cell_type": "markdown",
   "metadata": {},
   "source": [
    "We finally provide the RMSE for the test set"
   ]
  },
  {
   "cell_type": "code",
   "execution_count": 24,
   "metadata": {},
   "outputs": [
    {
     "name": "stdout",
     "output_type": "stream",
     "text": [
      "The Root Mean Squared Error over the test set is: 820.2252939040247\n"
     ]
    }
   ],
   "source": [
    "# RMSE over the test set\n",
    "\n",
    "y_pred_test = model_prediction_lr(Test_torch,w)\n",
    "MSE_test = loss_function_lr(Test_Label_torch,y_pred_test)\n",
    "print('The Root Mean Squared Error over the test set is:', np.sqrt(MSE_test.detach().numpy()))"
   ]
  },
  {
   "cell_type": "markdown",
   "metadata": {},
   "source": [
    "### Question 2\n",
    "\n",
    "Implement the prediction using an exponential transformation for model_prediction_lr, i.e., $y_{\\text{approx}} = \\exp(\\mathbf{w}^{\\top}\\mathbf{x})$. Since the labels are positive values, this transformation guarrantees that the predictions are always positive. Hint: Be careful initialising w and updating it with big step_sizes."
   ]
  },
  {
   "cell_type": "code",
   "execution_count": 25,
   "metadata": {},
   "outputs": [],
   "source": [
    "# Provide your answer here"
   ]
  }
 ],
 "metadata": {
  "kernelspec": {
   "display_name": "Python 3",
   "language": "python",
   "name": "python3"
  },
  "language_info": {
   "codemirror_mode": {
    "name": "ipython",
    "version": 3
   },
   "file_extension": ".py",
   "mimetype": "text/x-python",
   "name": "python",
   "nbconvert_exporter": "python",
   "pygments_lexer": "ipython3",
   "version": "3.7.1"
  }
 },
 "nbformat": 4,
 "nbformat_minor": 4
}
