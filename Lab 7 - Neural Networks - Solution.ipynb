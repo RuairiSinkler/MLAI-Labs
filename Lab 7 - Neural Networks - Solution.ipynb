{
 "cells": [
  {
   "cell_type": "markdown",
   "metadata": {},
   "source": [
    "# Lab 7: Convolutional Neural Networks for Image Classification\n",
    "[**Haiping Lu**](http://staffwww.dcs.shef.ac.uk/people/H.Lu/) -  [COM4509/6509 MLAI2020](https://github.com/maalvarezl/MLAI) @ The University of Sheffield\n",
    "\n",
    "**Sources**: This notebook is based on [the CIFAR10 Pytorch tutorial](https://pytorch.org/tutorials/beginner/blitz/cifar10_tutorial.html#sphx-glr-beginner-blitz-cifar10-tutorial-py), [the CNN notebook from Lisa Zhang](https://www.cs.toronto.edu/~lczhang/360/lec/w04/convnet.html), and Lab 2 and Lab 3 of my [SimplyDeep](https://github.com/haipinglu/SimplyDeep/) notebooks.\n",
    "\n",
    "There are *six* questions in this notebook.\n",
    "\n",
    "## <span style=\"color:red\">Please answer the six questions BEFORE reading this solution.</span>"
   ]
  },
  {
   "cell_type": "markdown",
   "metadata": {},
   "source": [
    "## Objective\n",
    "\n",
    "* To perform image classification using convolutional neural network in PyTorch.\n",
    "\n",
    "**Suggested reading**: \n",
    "* [Autograd tutorial](https://pytorch.org/tutorials/beginner/blitz/autograd_tutorial.html#sphx-glr-beginner-blitz-autograd-tutorial-py)\n",
    "* [Convolutional neural network - Wikipedia](https://en.wikipedia.org/wiki/Convolutional_neural_network)\n",
    "* [Feature/representation learning - Wikipedia](https://en.wikipedia.org/wiki/Feature_learning)"
   ]
  },
  {
   "cell_type": "markdown",
   "metadata": {},
   "source": [
    "## Why\n",
    "\n",
    "The fast rising of [deep learning](https://en.wikipedia.org/wiki/Deep_learning) starts on 30 September 2012, when a convolutional neural network (CNN) called [AlexNet](https://en.wikipedia.org/wiki/AlexNet) achieved a top-5 error of 15.3% in the ImageNet 2012 Challenge, more than **10.8 percentage** points lower than that of the runner up. This is considered a breakthrough and has grabbed the attention of increasing number of researchers, practioners, and the general public. Since then, deep learning has penetrated to many research and application areas. AlexNet contained **eight layers**. In 2015, it was outperformed by a very deep CNN with **over 100 layers** from Microsoft in the ImageNet 2015 contest. It will be interesting to take a look at the image classification task and a CNN that can do the job well."
   ]
  },
  {
   "cell_type": "markdown",
   "metadata": {},
   "source": [
    "## 1. Review of Autograd: Automatic Differentiation\n",
    "\n",
    "In the previous lab, we briefly covered **Tensor** and **Computational Graph**. We have actually used **Autograd** already. Here, we learn the basics below, a condensed and modified version of the original [PyTorch tutorial on Autograd](https://pytorch.org/tutorials/beginner/blitz/autograd_tutorial.html#sphx-glr-beginner-blitz-autograd-tutorial-py)\n",
    "\n",
    "#### Why differentiation is important? \n",
    "\n",
    "This is because it is a key procedure in **optimisation** to find the optimial solution of a loss function. The process of learning/training aims to minimise a predefined loss.\n",
    "\n",
    "#### How automatic differentiation is done in PyTorch?\n",
    "The PyTorch ``autograd`` package makes differentiation (almost) transparent to you by providing automatic differentiation for all operations on Tensors, unless you do not want it (to save time and space). \n",
    "\n",
    "A ``torch.Tensor`` type variable has an attribute ``.requires_grad``. Setting this attribute ``True`` tracks (but not computes yet) all operations on it. After we define the forward pass, and hence the *computational graph*, we call ``.backward()`` and all the gradients will be computed automatically and accumulated into the ``.grad`` attribute. \n",
    "\n",
    "This is made possible by the [**chain rule of differentiation**](https://en.wikipedia.org/wiki/Chain_rule).\n",
    "\n",
    "#### How to stop automatic differentiation (e.g., because it is not needed)\n",
    "Calling method ``.detach()`` of a tensor will detach it from the computation history. We can also wrap the code block in ``with torch.no_grad():`` so all tensors in the block do not track the gradients, e.g., in the test/evaluation stage. "
   ]
  },
  {
   "cell_type": "markdown",
   "metadata": {},
   "source": [
    "---\n",
    "### Question 1\n",
    "\n",
    "What is the benefit of stopping automatic differentiation when it is not needed?\n",
    "\n",
    "**Answer**: Reduce memory usage. Speed up calculations. \n",
    "\n",
    "---\n"
   ]
  },
  {
   "cell_type": "markdown",
   "metadata": {},
   "source": [
    "#### Function\n",
    "\n",
    "``Tensor``s are connected by ``Function`` to build an acyclic *computational graph* to encode a complete history of computation. The ``.grad_fn`` attribute of a tensor references a ``Function`` created\n",
    "the ``Tensor``, i.e., this ``Tensor`` is the output of its ``.grad_fn`` in the computational graph.\n",
    "\n",
    "Learn more about autograd by referring to the [documentation on autograd](https://pytorch.org/docs/stable/autograd.html)"
   ]
  },
  {
   "cell_type": "markdown",
   "metadata": {},
   "source": [
    "## 2. Load the Image Data - CIFAR10"
   ]
  },
  {
   "cell_type": "markdown",
   "metadata": {},
   "source": [
    "#### Libraries \n",
    "\n",
    "Get ready by importing commonly used APIs"
   ]
  },
  {
   "cell_type": "code",
   "execution_count": 1,
   "metadata": {},
   "outputs": [
    {
     "output_type": "execute_result",
     "data": {
      "text/plain": [
       "<torch._C.Generator at 0x21de61b1450>"
      ]
     },
     "metadata": {},
     "execution_count": 1
    }
   ],
   "source": [
    "%matplotlib inline\n",
    "import matplotlib.pyplot as plt\n",
    "import numpy as np\n",
    "import torch\n",
    "import torch.nn as nn\n",
    "import torch.nn.functional as F\n",
    "import torch.optim as optim\n",
    "import torchvision\n",
    "from torchvision import datasets, transforms\n",
    "\n",
    "torch.manual_seed(4509)"
   ]
  },
  {
   "cell_type": "markdown",
   "metadata": {},
   "source": [
    "#### Data\n",
    "The [CIFAR10 dataset](https://www.cs.toronto.edu/~kriz/cifar.html) has ten classes: ‘airplane’, ‘automobile’, ‘bird’, ‘cat’, ‘deer’, ‘dog’, ‘frog’, ‘horse’, ‘ship’, ‘truck’. The images in CIFAR-10 are of size 3x32x32, i.e. 3-channel color images of 32x32 pixels in size.\n",
    "\n",
    "#### Loading and normalizing CIFAR10\n",
    "\n",
    "The output of torchvision datasets (after loading) are PILImage images of range [0, 1]. \n",
    "\n",
    "Check out the `torchvision.transforms` API for [here](https://pytorch.org/docs/stable/torchvision/transforms.html) (search for `ToTensor` and `Normalize`).\n",
    "\n",
    "`transforms.ToTensor()` Convert a `PIL` Image or `numpy.ndarray` (H x W x C) in the range [0, 255]  to torch.FloatTensor of shape (C x H x W) in the range [0.0, 1.0].\n",
    "\n",
    "`transforms.Normalize` normalizes a tensor image with mean and standard deviation. Given mean: ($M1,...,Mn$) and std: ($S1,..,Sn$) for $n$ channels, this transform will normalize each channel of the input `torch.*Tensor` as $input[channel] = (input[channel] - mean[channel]) / std[channel]$\n",
    "\n",
    "`torch.utils.data.DataLoader` combines a dataset and a sampler, and provides an iterable over the given dataset. See [API here](https://pytorch.org/docs/stable/data.html#torch.utils.data.DataLoader)\n",
    "\n",
    "#### Batching\n",
    "\n",
    "We want to use more than one images at one time. That way, we can compute the *average* loss across a **mini-batch** of $n$ *multiple* images, and take a step to optimize the *average* loss. The average loss across multiple training inputs is going to be **less \"noisy\"** than the loss for a single input, and is less likely to provide \"bad information\" because of a \"bad\" input. The number $n$ is called the **batch size**.\n",
    "\n",
    "The actual batch size that we choose depends on many things. We want our batch\n",
    "size to be large enough to not be too \"noisy\", but not so large as to make each\n",
    "iteration too expensive to run.\n",
    "\n",
    "People often choose batch sizes of the form $n=2^k$ so that it is easy to half\n",
    "or double the batch size. \n",
    "\n",
    "####  Epoch\n",
    "The way `DataLoader` works is that it randomly groups the training data into **mini-batches**\n",
    "with the appropriate batch size. Each data point belongs to only one mini-batch. When there\n",
    "are no more mini-batches left, the loop terminates.\n",
    "\n",
    "In general, we may wish to train the network for longer. We may wish to use each training data\n",
    "point more than once. In other words, we may wish to train a neural network for more than\n",
    "**one epoch**. An **epoch** is a measure of the number of times all training data is used\n",
    "once to update the parameters. "
   ]
  },
  {
   "cell_type": "code",
   "execution_count": 2,
   "metadata": {
    "scrolled": false
   },
   "outputs": [
    {
     "output_type": "stream",
     "name": "stdout",
     "text": [
      "Files already downloaded and verified\n",
      "Files already downloaded and verified\n",
      "Training set size: 50000\n",
      "Test set size: 10000\n"
     ]
    }
   ],
   "source": [
    "batchSize=4\n",
    "transform = transforms.Compose([transforms.ToTensor(),\n",
    "                                transforms.Normalize((0.5, 0.5, 0.5), (0.5, 0.5, 0.5))])\n",
    "#Load the training data\n",
    "trainset = datasets.CIFAR10(root='./data', train=True,\n",
    "                                        download=True, transform=transform)\n",
    "trainloader = torch.utils.data.DataLoader(trainset, batch_size=batchSize,\n",
    "                                          shuffle=True, num_workers=2)\n",
    "#Load the test data\n",
    "testset = datasets.CIFAR10(root='./data', train=False,\n",
    "                                       download=True, transform=transform)\n",
    "testloader = torch.utils.data.DataLoader(testset, batch_size=batchSize, \n",
    "                                         shuffle=False, num_workers=2)\n",
    "\n",
    "classes = ('plane', 'car', 'bird', 'cat', 'deer', 'dog', 'frog', 'horse', 'ship', 'truck')\n",
    "print('Training set size:', len(trainset))\n",
    "print('Test set size:',len(testset))"
   ]
  },
  {
   "cell_type": "markdown",
   "metadata": {},
   "source": [
    "Note that the data has been downloaded at the `data` directory. Because the filesize is large, we do not upload it to GitHub."
   ]
  },
  {
   "cell_type": "code",
   "execution_count": 3,
   "metadata": {},
   "outputs": [
    {
     "output_type": "execute_result",
     "data": {
      "text/plain": [
       "Dataset CIFAR10\n",
       "    Number of datapoints: 50000\n",
       "    Root location: ./data\n",
       "    Split: Train\n",
       "    StandardTransform\n",
       "Transform: Compose(\n",
       "               ToTensor()\n",
       "               Normalize(mean=(0.5, 0.5, 0.5), std=(0.5, 0.5, 0.5))\n",
       "           )"
      ]
     },
     "metadata": {},
     "execution_count": 3
    }
   ],
   "source": [
    "trainset"
   ]
  },
  {
   "cell_type": "code",
   "execution_count": 4,
   "metadata": {},
   "outputs": [
    {
     "output_type": "execute_result",
     "data": {
      "text/plain": [
       "Dataset CIFAR10\n",
       "    Number of datapoints: 10000\n",
       "    Root location: ./data\n",
       "    Split: Test\n",
       "    StandardTransform\n",
       "Transform: Compose(\n",
       "               ToTensor()\n",
       "               Normalize(mean=(0.5, 0.5, 0.5), std=(0.5, 0.5, 0.5))\n",
       "           )"
      ]
     },
     "metadata": {},
     "execution_count": 4
    }
   ],
   "source": [
    "testset"
   ]
  },
  {
   "cell_type": "markdown",
   "metadata": {},
   "source": [
    "#### View the images"
   ]
  },
  {
   "cell_type": "code",
   "execution_count": 5,
   "metadata": {},
   "outputs": [
    {
     "output_type": "display_data",
     "data": {
      "text/plain": "<Figure size 432x288 with 1 Axes>",
      "image/svg+xml": "<?xml version=\"1.0\" encoding=\"utf-8\" standalone=\"no\"?>\r\n<!DOCTYPE svg PUBLIC \"-//W3C//DTD SVG 1.1//EN\"\r\n  \"http://www.w3.org/Graphics/SVG/1.1/DTD/svg11.dtd\">\r\n<!-- Created with matplotlib (https://matplotlib.org/) -->\r\n<svg height=\"121.003431pt\" version=\"1.1\" viewBox=\"0 0 368.925 121.003431\" width=\"368.925pt\" xmlns=\"http://www.w3.org/2000/svg\" xmlns:xlink=\"http://www.w3.org/1999/xlink\">\r\n <metadata>\r\n  <rdf:RDF xmlns:cc=\"http://creativecommons.org/ns#\" xmlns:dc=\"http://purl.org/dc/elements/1.1/\" xmlns:rdf=\"http://www.w3.org/1999/02/22-rdf-syntax-ns#\">\r\n   <cc:Work>\r\n    <dc:type rdf:resource=\"http://purl.org/dc/dcmitype/StillImage\"/>\r\n    <dc:date>2020-11-13T12:39:47.112805</dc:date>\r\n    <dc:format>image/svg+xml</dc:format>\r\n    <dc:creator>\r\n     <cc:Agent>\r\n      <dc:title>Matplotlib v3.3.1, https://matplotlib.org/</dc:title>\r\n     </cc:Agent>\r\n    </dc:creator>\r\n   </cc:Work>\r\n  </rdf:RDF>\r\n </metadata>\r\n <defs>\r\n  <style type=\"text/css\">*{stroke-linecap:butt;stroke-linejoin:round;}</style>\r\n </defs>\r\n <g id=\"figure_1\">\r\n  <g id=\"patch_1\">\r\n   <path d=\"M -0 121.003431 \r\nL 368.925 121.003431 \r\nL 368.925 0 \r\nL -0 0 \r\nz\r\n\" style=\"fill:none;\"/>\r\n  </g>\r\n  <g id=\"axes_1\">\r\n   <g id=\"patch_2\">\r\n    <path d=\"M 26.925 97.125306 \r\nL 361.725 97.125306 \r\nL 361.725 9.786175 \r\nL 26.925 9.786175 \r\nz\r\n\" style=\"fill:#ffffff;\"/>\r\n   </g>\r\n   <g clip-path=\"url(#p49d5eb3284)\">\r\n    <image height=\"88\" id=\"imagedfc7c2949b\" transform=\"scale(1 -1)translate(0 -88)\" width=\"335\" x=\"26.925\" xlink:href=\"data:image/png;base64,\r\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\" y=\"-9.125306\"/>\r\n   </g>\r\n   <g id=\"matplotlib.axis_1\">\r\n    <g id=\"xtick_1\">\r\n     <g id=\"line2d_1\">\r\n      <defs>\r\n       <path d=\"M 0 0 \r\nL 0 3.5 \r\n\" id=\"m3f9f11173d\" style=\"stroke:#000000;stroke-width:0.8;\"/>\r\n      </defs>\r\n      <g>\r\n       <use style=\"stroke:#000000;stroke-width:0.8;\" x=\"28.138043\" xlink:href=\"#m3f9f11173d\" y=\"97.125306\"/>\r\n      </g>\r\n     </g>\r\n     <g id=\"text_1\">\r\n      <!-- 0 -->\r\n      <g transform=\"translate(24.956793 111.723743)scale(0.1 -0.1)\">\r\n       <defs>\r\n        <path d=\"M 31.78125 66.40625 \r\nQ 24.171875 66.40625 20.328125 58.90625 \r\nQ 16.5 51.421875 16.5 36.375 \r\nQ 16.5 21.390625 20.328125 13.890625 \r\nQ 24.171875 6.390625 31.78125 6.390625 \r\nQ 39.453125 6.390625 43.28125 13.890625 \r\nQ 47.125 21.390625 47.125 36.375 \r\nQ 47.125 51.421875 43.28125 58.90625 \r\nQ 39.453125 66.40625 31.78125 66.40625 \r\nz\r\nM 31.78125 74.21875 \r\nQ 44.046875 74.21875 50.515625 64.515625 \r\nQ 56.984375 54.828125 56.984375 36.375 \r\nQ 56.984375 17.96875 50.515625 8.265625 \r\nQ 44.046875 -1.421875 31.78125 -1.421875 \r\nQ 19.53125 -1.421875 13.0625 8.265625 \r\nQ 6.59375 17.96875 6.59375 36.375 \r\nQ 6.59375 54.828125 13.0625 64.515625 \r\nQ 19.53125 74.21875 31.78125 74.21875 \r\nz\r\n\" id=\"DejaVuSans-48\"/>\r\n       </defs>\r\n       <use xlink:href=\"#DejaVuSans-48\"/>\r\n      </g>\r\n     </g>\r\n    </g>\r\n    <g id=\"xtick_2\">\r\n     <g id=\"line2d_2\">\r\n      <g>\r\n       <use style=\"stroke:#000000;stroke-width:0.8;\" x=\"76.659783\" xlink:href=\"#m3f9f11173d\" y=\"97.125306\"/>\r\n      </g>\r\n     </g>\r\n     <g id=\"text_2\">\r\n      <!-- 20 -->\r\n      <g transform=\"translate(70.297283 111.723743)scale(0.1 -0.1)\">\r\n       <defs>\r\n        <path d=\"M 19.1875 8.296875 \r\nL 53.609375 8.296875 \r\nL 53.609375 0 \r\nL 7.328125 0 \r\nL 7.328125 8.296875 \r\nQ 12.9375 14.109375 22.625 23.890625 \r\nQ 32.328125 33.6875 34.8125 36.53125 \r\nQ 39.546875 41.84375 41.421875 45.53125 \r\nQ 43.3125 49.21875 43.3125 52.78125 \r\nQ 43.3125 58.59375 39.234375 62.25 \r\nQ 35.15625 65.921875 28.609375 65.921875 \r\nQ 23.96875 65.921875 18.8125 64.3125 \r\nQ 13.671875 62.703125 7.8125 59.421875 \r\nL 7.8125 69.390625 \r\nQ 13.765625 71.78125 18.9375 73 \r\nQ 24.125 74.21875 28.421875 74.21875 \r\nQ 39.75 74.21875 46.484375 68.546875 \r\nQ 53.21875 62.890625 53.21875 53.421875 \r\nQ 53.21875 48.921875 51.53125 44.890625 \r\nQ 49.859375 40.875 45.40625 35.40625 \r\nQ 44.1875 33.984375 37.640625 27.21875 \r\nQ 31.109375 20.453125 19.1875 8.296875 \r\nz\r\n\" id=\"DejaVuSans-50\"/>\r\n       </defs>\r\n       <use xlink:href=\"#DejaVuSans-50\"/>\r\n       <use x=\"63.623047\" xlink:href=\"#DejaVuSans-48\"/>\r\n      </g>\r\n     </g>\r\n    </g>\r\n    <g id=\"xtick_3\">\r\n     <g id=\"line2d_3\">\r\n      <g>\r\n       <use style=\"stroke:#000000;stroke-width:0.8;\" x=\"125.181522\" xlink:href=\"#m3f9f11173d\" y=\"97.125306\"/>\r\n      </g>\r\n     </g>\r\n     <g id=\"text_3\">\r\n      <!-- 40 -->\r\n      <g transform=\"translate(118.819022 111.723743)scale(0.1 -0.1)\">\r\n       <defs>\r\n        <path d=\"M 37.796875 64.3125 \r\nL 12.890625 25.390625 \r\nL 37.796875 25.390625 \r\nz\r\nM 35.203125 72.90625 \r\nL 47.609375 72.90625 \r\nL 47.609375 25.390625 \r\nL 58.015625 25.390625 \r\nL 58.015625 17.1875 \r\nL 47.609375 17.1875 \r\nL 47.609375 0 \r\nL 37.796875 0 \r\nL 37.796875 17.1875 \r\nL 4.890625 17.1875 \r\nL 4.890625 26.703125 \r\nz\r\n\" id=\"DejaVuSans-52\"/>\r\n       </defs>\r\n       <use xlink:href=\"#DejaVuSans-52\"/>\r\n       <use x=\"63.623047\" xlink:href=\"#DejaVuSans-48\"/>\r\n      </g>\r\n     </g>\r\n    </g>\r\n    <g id=\"xtick_4\">\r\n     <g id=\"line2d_4\">\r\n      <g>\r\n       <use style=\"stroke:#000000;stroke-width:0.8;\" x=\"173.703261\" xlink:href=\"#m3f9f11173d\" y=\"97.125306\"/>\r\n      </g>\r\n     </g>\r\n     <g id=\"text_4\">\r\n      <!-- 60 -->\r\n      <g transform=\"translate(167.340761 111.723743)scale(0.1 -0.1)\">\r\n       <defs>\r\n        <path d=\"M 33.015625 40.375 \r\nQ 26.375 40.375 22.484375 35.828125 \r\nQ 18.609375 31.296875 18.609375 23.390625 \r\nQ 18.609375 15.53125 22.484375 10.953125 \r\nQ 26.375 6.390625 33.015625 6.390625 \r\nQ 39.65625 6.390625 43.53125 10.953125 \r\nQ 47.40625 15.53125 47.40625 23.390625 \r\nQ 47.40625 31.296875 43.53125 35.828125 \r\nQ 39.65625 40.375 33.015625 40.375 \r\nz\r\nM 52.59375 71.296875 \r\nL 52.59375 62.3125 \r\nQ 48.875 64.0625 45.09375 64.984375 \r\nQ 41.3125 65.921875 37.59375 65.921875 \r\nQ 27.828125 65.921875 22.671875 59.328125 \r\nQ 17.53125 52.734375 16.796875 39.40625 \r\nQ 19.671875 43.65625 24.015625 45.921875 \r\nQ 28.375 48.1875 33.59375 48.1875 \r\nQ 44.578125 48.1875 50.953125 41.515625 \r\nQ 57.328125 34.859375 57.328125 23.390625 \r\nQ 57.328125 12.15625 50.6875 5.359375 \r\nQ 44.046875 -1.421875 33.015625 -1.421875 \r\nQ 20.359375 -1.421875 13.671875 8.265625 \r\nQ 6.984375 17.96875 6.984375 36.375 \r\nQ 6.984375 53.65625 15.1875 63.9375 \r\nQ 23.390625 74.21875 37.203125 74.21875 \r\nQ 40.921875 74.21875 44.703125 73.484375 \r\nQ 48.484375 72.75 52.59375 71.296875 \r\nz\r\n\" id=\"DejaVuSans-54\"/>\r\n       </defs>\r\n       <use xlink:href=\"#DejaVuSans-54\"/>\r\n       <use x=\"63.623047\" xlink:href=\"#DejaVuSans-48\"/>\r\n      </g>\r\n     </g>\r\n    </g>\r\n    <g id=\"xtick_5\">\r\n     <g id=\"line2d_5\">\r\n      <g>\r\n       <use style=\"stroke:#000000;stroke-width:0.8;\" x=\"222.225\" xlink:href=\"#m3f9f11173d\" y=\"97.125306\"/>\r\n      </g>\r\n     </g>\r\n     <g id=\"text_5\">\r\n      <!-- 80 -->\r\n      <g transform=\"translate(215.8625 111.723743)scale(0.1 -0.1)\">\r\n       <defs>\r\n        <path d=\"M 31.78125 34.625 \r\nQ 24.75 34.625 20.71875 30.859375 \r\nQ 16.703125 27.09375 16.703125 20.515625 \r\nQ 16.703125 13.921875 20.71875 10.15625 \r\nQ 24.75 6.390625 31.78125 6.390625 \r\nQ 38.8125 6.390625 42.859375 10.171875 \r\nQ 46.921875 13.96875 46.921875 20.515625 \r\nQ 46.921875 27.09375 42.890625 30.859375 \r\nQ 38.875 34.625 31.78125 34.625 \r\nz\r\nM 21.921875 38.8125 \r\nQ 15.578125 40.375 12.03125 44.71875 \r\nQ 8.5 49.078125 8.5 55.328125 \r\nQ 8.5 64.0625 14.71875 69.140625 \r\nQ 20.953125 74.21875 31.78125 74.21875 \r\nQ 42.671875 74.21875 48.875 69.140625 \r\nQ 55.078125 64.0625 55.078125 55.328125 \r\nQ 55.078125 49.078125 51.53125 44.71875 \r\nQ 48 40.375 41.703125 38.8125 \r\nQ 48.828125 37.15625 52.796875 32.3125 \r\nQ 56.78125 27.484375 56.78125 20.515625 \r\nQ 56.78125 9.90625 50.3125 4.234375 \r\nQ 43.84375 -1.421875 31.78125 -1.421875 \r\nQ 19.734375 -1.421875 13.25 4.234375 \r\nQ 6.78125 9.90625 6.78125 20.515625 \r\nQ 6.78125 27.484375 10.78125 32.3125 \r\nQ 14.796875 37.15625 21.921875 38.8125 \r\nz\r\nM 18.3125 54.390625 \r\nQ 18.3125 48.734375 21.84375 45.5625 \r\nQ 25.390625 42.390625 31.78125 42.390625 \r\nQ 38.140625 42.390625 41.71875 45.5625 \r\nQ 45.3125 48.734375 45.3125 54.390625 \r\nQ 45.3125 60.0625 41.71875 63.234375 \r\nQ 38.140625 66.40625 31.78125 66.40625 \r\nQ 25.390625 66.40625 21.84375 63.234375 \r\nQ 18.3125 60.0625 18.3125 54.390625 \r\nz\r\n\" id=\"DejaVuSans-56\"/>\r\n       </defs>\r\n       <use xlink:href=\"#DejaVuSans-56\"/>\r\n       <use x=\"63.623047\" xlink:href=\"#DejaVuSans-48\"/>\r\n      </g>\r\n     </g>\r\n    </g>\r\n    <g id=\"xtick_6\">\r\n     <g id=\"line2d_6\">\r\n      <g>\r\n       <use style=\"stroke:#000000;stroke-width:0.8;\" x=\"270.746739\" xlink:href=\"#m3f9f11173d\" y=\"97.125306\"/>\r\n      </g>\r\n     </g>\r\n     <g id=\"text_6\">\r\n      <!-- 100 -->\r\n      <g transform=\"translate(261.202989 111.723743)scale(0.1 -0.1)\">\r\n       <defs>\r\n        <path d=\"M 12.40625 8.296875 \r\nL 28.515625 8.296875 \r\nL 28.515625 63.921875 \r\nL 10.984375 60.40625 \r\nL 10.984375 69.390625 \r\nL 28.421875 72.90625 \r\nL 38.28125 72.90625 \r\nL 38.28125 8.296875 \r\nL 54.390625 8.296875 \r\nL 54.390625 0 \r\nL 12.40625 0 \r\nz\r\n\" id=\"DejaVuSans-49\"/>\r\n       </defs>\r\n       <use xlink:href=\"#DejaVuSans-49\"/>\r\n       <use x=\"63.623047\" xlink:href=\"#DejaVuSans-48\"/>\r\n       <use x=\"127.246094\" xlink:href=\"#DejaVuSans-48\"/>\r\n      </g>\r\n     </g>\r\n    </g>\r\n    <g id=\"xtick_7\">\r\n     <g id=\"line2d_7\">\r\n      <g>\r\n       <use style=\"stroke:#000000;stroke-width:0.8;\" x=\"319.268478\" xlink:href=\"#m3f9f11173d\" y=\"97.125306\"/>\r\n      </g>\r\n     </g>\r\n     <g id=\"text_7\">\r\n      <!-- 120 -->\r\n      <g transform=\"translate(309.724728 111.723743)scale(0.1 -0.1)\">\r\n       <use xlink:href=\"#DejaVuSans-49\"/>\r\n       <use x=\"63.623047\" xlink:href=\"#DejaVuSans-50\"/>\r\n       <use x=\"127.246094\" xlink:href=\"#DejaVuSans-48\"/>\r\n      </g>\r\n     </g>\r\n    </g>\r\n   </g>\r\n   <g id=\"matplotlib.axis_2\">\r\n    <g id=\"ytick_1\">\r\n     <g id=\"line2d_8\">\r\n      <defs>\r\n       <path d=\"M 0 0 \r\nL -3.5 0 \r\n\" id=\"mc06e0ae962\" style=\"stroke:#000000;stroke-width:0.8;\"/>\r\n      </defs>\r\n      <g>\r\n       <use style=\"stroke:#000000;stroke-width:0.8;\" x=\"26.925\" xlink:href=\"#mc06e0ae962\" y=\"10.999219\"/>\r\n      </g>\r\n     </g>\r\n     <g id=\"text_8\">\r\n      <!-- 0 -->\r\n      <g transform=\"translate(13.5625 14.798437)scale(0.1 -0.1)\">\r\n       <use xlink:href=\"#DejaVuSans-48\"/>\r\n      </g>\r\n     </g>\r\n    </g>\r\n    <g id=\"ytick_2\">\r\n     <g id=\"line2d_9\">\r\n      <g>\r\n       <use style=\"stroke:#000000;stroke-width:0.8;\" x=\"26.925\" xlink:href=\"#mc06e0ae962\" y=\"35.260088\"/>\r\n      </g>\r\n     </g>\r\n     <g id=\"text_9\">\r\n      <!-- 10 -->\r\n      <g transform=\"translate(7.2 39.059307)scale(0.1 -0.1)\">\r\n       <use xlink:href=\"#DejaVuSans-49\"/>\r\n       <use x=\"63.623047\" xlink:href=\"#DejaVuSans-48\"/>\r\n      </g>\r\n     </g>\r\n    </g>\r\n    <g id=\"ytick_3\">\r\n     <g id=\"line2d_10\">\r\n      <g>\r\n       <use style=\"stroke:#000000;stroke-width:0.8;\" x=\"26.925\" xlink:href=\"#mc06e0ae962\" y=\"59.520958\"/>\r\n      </g>\r\n     </g>\r\n     <g id=\"text_10\">\r\n      <!-- 20 -->\r\n      <g transform=\"translate(7.2 63.320177)scale(0.1 -0.1)\">\r\n       <use xlink:href=\"#DejaVuSans-50\"/>\r\n       <use x=\"63.623047\" xlink:href=\"#DejaVuSans-48\"/>\r\n      </g>\r\n     </g>\r\n    </g>\r\n    <g id=\"ytick_4\">\r\n     <g id=\"line2d_11\">\r\n      <g>\r\n       <use style=\"stroke:#000000;stroke-width:0.8;\" x=\"26.925\" xlink:href=\"#mc06e0ae962\" y=\"83.781827\"/>\r\n      </g>\r\n     </g>\r\n     <g id=\"text_11\">\r\n      <!-- 30 -->\r\n      <g transform=\"translate(7.2 87.581046)scale(0.1 -0.1)\">\r\n       <defs>\r\n        <path d=\"M 40.578125 39.3125 \r\nQ 47.65625 37.796875 51.625 33 \r\nQ 55.609375 28.21875 55.609375 21.1875 \r\nQ 55.609375 10.40625 48.1875 4.484375 \r\nQ 40.765625 -1.421875 27.09375 -1.421875 \r\nQ 22.515625 -1.421875 17.65625 -0.515625 \r\nQ 12.796875 0.390625 7.625 2.203125 \r\nL 7.625 11.71875 \r\nQ 11.71875 9.328125 16.59375 8.109375 \r\nQ 21.484375 6.890625 26.8125 6.890625 \r\nQ 36.078125 6.890625 40.9375 10.546875 \r\nQ 45.796875 14.203125 45.796875 21.1875 \r\nQ 45.796875 27.640625 41.28125 31.265625 \r\nQ 36.765625 34.90625 28.71875 34.90625 \r\nL 20.21875 34.90625 \r\nL 20.21875 43.015625 \r\nL 29.109375 43.015625 \r\nQ 36.375 43.015625 40.234375 45.921875 \r\nQ 44.09375 48.828125 44.09375 54.296875 \r\nQ 44.09375 59.90625 40.109375 62.90625 \r\nQ 36.140625 65.921875 28.71875 65.921875 \r\nQ 24.65625 65.921875 20.015625 65.03125 \r\nQ 15.375 64.15625 9.8125 62.3125 \r\nL 9.8125 71.09375 \r\nQ 15.4375 72.65625 20.34375 73.4375 \r\nQ 25.25 74.21875 29.59375 74.21875 \r\nQ 40.828125 74.21875 47.359375 69.109375 \r\nQ 53.90625 64.015625 53.90625 55.328125 \r\nQ 53.90625 49.265625 50.4375 45.09375 \r\nQ 46.96875 40.921875 40.578125 39.3125 \r\nz\r\n\" id=\"DejaVuSans-51\"/>\r\n       </defs>\r\n       <use xlink:href=\"#DejaVuSans-51\"/>\r\n       <use x=\"63.623047\" xlink:href=\"#DejaVuSans-48\"/>\r\n      </g>\r\n     </g>\r\n    </g>\r\n   </g>\r\n   <g id=\"patch_3\">\r\n    <path d=\"M 26.925 97.125306 \r\nL 26.925 9.786175 \r\n\" style=\"fill:none;stroke:#000000;stroke-linecap:square;stroke-linejoin:miter;stroke-width:0.8;\"/>\r\n   </g>\r\n   <g id=\"patch_4\">\r\n    <path d=\"M 361.725 97.125306 \r\nL 361.725 9.786175 \r\n\" style=\"fill:none;stroke:#000000;stroke-linecap:square;stroke-linejoin:miter;stroke-width:0.8;\"/>\r\n   </g>\r\n   <g id=\"patch_5\">\r\n    <path d=\"M 26.925 97.125306 \r\nL 361.725 97.125306 \r\n\" style=\"fill:none;stroke:#000000;stroke-linecap:square;stroke-linejoin:miter;stroke-width:0.8;\"/>\r\n   </g>\r\n   <g id=\"patch_6\">\r\n    <path d=\"M 26.925 9.786175 \r\nL 361.725 9.786175 \r\n\" style=\"fill:none;stroke:#000000;stroke-linecap:square;stroke-linejoin:miter;stroke-width:0.8;\"/>\r\n   </g>\r\n  </g>\r\n </g>\r\n <defs>\r\n  <clipPath id=\"p49d5eb3284\">\r\n   <rect height=\"87.33913\" width=\"334.8\" x=\"26.925\" y=\"9.786175\"/>\r\n  </clipPath>\r\n </defs>\r\n</svg>\r\n",
      "image/png": "[encoded data removed]"
     },
     "metadata": {
      "needs_background": "light"
     }
    },
    {
     "output_type": "stream",
     "name": "stdout",
     "text": [
      " bird  ship truck   dog\n"
     ]
    }
   ],
   "source": [
    "# functions to show an image\n",
    "def imshow(img):\n",
    "    img = img / 2 + 0.5     # unnormalize back to range [0, 1]\n",
    "    npimg = img.numpy()\n",
    "    plt.imshow(np.transpose(npimg, (1, 2, 0))) #rearrange dimensions to numpy format for disply\n",
    "    plt.show()\n",
    "\n",
    "# get some random training images\n",
    "dataiter = iter(trainloader)\n",
    "images, labels = dataiter.next() #Get one batch (4 here)\n",
    "\n",
    "# show images\n",
    "imshow(torchvision.utils.make_grid(images))\n",
    "# print labels\n",
    "print(' '.join('%5s' % classes[labels[j]] for j in range(batchSize)))"
   ]
  },
  {
   "cell_type": "markdown",
   "metadata": {},
   "source": [
    "## 3. Define the Architecture of a Convolutional Neural Network"
   ]
  },
  {
   "cell_type": "markdown",
   "metadata": {},
   "source": [
    "A typical CNN architecture:\n",
    "\n",
    "![Typical CNN architecture](https://upload.wikimedia.org/wikipedia/commons/6/63/Typical_cnn.png)\n",
    "\n",
    "Let us look at the CNN in detail."
   ]
  },
  {
   "cell_type": "markdown",
   "metadata": {},
   "source": [
    "### Convolution layer - with a shared kernel/filter\n",
    "<center>\n",
    "<img src=\"https://www.cs.toronto.edu/~lczhang/360/lec/w04/imgs/math_kernel.png\" width=\"100px\" style=\"margin:0; display:inline\">\n",
    "<img src=\"https://www.cs.toronto.edu/~lczhang/360/lec/w04/imgs/math_conv.png\" width=\"300px\" style=\"margin:0; display:inline\">\n",
    "</center>\n",
    "\n",
    "The light blue grid (middle) is the *input* that we are given, e.g., a 5 pixel by 5 pixel greyscale image. The grey grid (left) is a **convolutional kernel/filter** of size $3 \\times 3$, containing the *parameters* of this neural network layer.\n",
    "\n",
    "To compute the output, we superimpose the kernel on a region of the image. \n",
    "Let's start at the top left, in the dark blue region. The small numbers in the\n",
    "bottom right corner of each grid element corresponds to the number in the kernel.\n",
    "To compute the output at the corresponding location (top left), we \"dot\" the\n",
    "pixel intensities in the square region with the kernel. That is, we perform\n",
    "the computation:"
   ]
  },
  {
   "cell_type": "code",
   "execution_count": 6,
   "metadata": {},
   "outputs": [
    {
     "output_type": "execute_result",
     "data": {
      "text/plain": [
       "12"
      ]
     },
     "metadata": {},
     "execution_count": 6
    }
   ],
   "source": [
    "(3 * 0 + 3 * 1 + 2 * 2) + (0 * 2 + 0 * 2 + 1 * 0) + (3 * 0 + 1 * 1 + 2 * 2)"
   ]
  },
  {
   "cell_type": "markdown",
   "metadata": {},
   "source": [
    "The green grid (right) contains the *output* of this convolution layer.\n",
    "This output is also called an **output feature map**. The terms **feature**,\n",
    "and **activation** are interchangable. The output value on the top left\n",
    "of the green grid is consistent with the value we obtained by hand in Python.\n",
    "\n",
    "To compute the next activation value (say, one to the right of the previous output),\n",
    "we will shfit the superimposed kernel over by one pixel:\n",
    "\n",
    "<img src=\"https://www.cs.toronto.edu/~lczhang/360/lec/w04/imgs/math_conv2.png\" width=\"300px\">\n",
    "\n",
    "The dark blue region is moved to the right by one pixel. We again dot\n",
    "the pixel intensities in this region with the kernel to get another 12, and continues to get 17, ..."
   ]
  },
  {
   "cell_type": "markdown",
   "metadata": {},
   "source": [
    "---\n",
    "### Question 2\n",
    "\n",
    "Show how we get the value 19 in the output above (in cyan on the right of the figure in this section).\n",
    "\n",
    "**Answer**: \n",
    "\n",
    "\n",
    "$ \\left( \\begin{array}{ccc}\n",
    "1 & 3 & 1 \\\\\n",
    "2 & 2 & 3 \\\\\n",
    "0 & 2 & 2\n",
    "\\end{array} \\right)\n",
    "*\n",
    "\\left( \\begin{array}{ccc}\n",
    "0 & 1 & 2 \\\\\n",
    "2 & 2 & 0 \\\\\n",
    "0 & 1 & 2\n",
    "\\end{array} \\right)\n",
    "= 19\n",
    "$\n",
    "\n",
    "\n",
    "---"
   ]
  },
  {
   "cell_type": "code",
   "execution_count": 7,
   "metadata": {},
   "outputs": [
    {
     "output_type": "stream",
     "name": "stdout",
     "text": [
      "Input Grid:\n[[3 3 2 1 0]\n [0 0 1 3 1]\n [3 1 2 2 3]\n [2 0 0 2 2]\n [2 0 0 0 1]]\n\nPortion of Input grid corresponding to right middle output feature map:\n[[1 3 1]\n [2 2 3]\n [0 2 2]]\n\nKernel:\n[[0 1 2]\n [2 2 0]\n [0 1 2]]\n\nOutput of sum of element wise multiplication of input portion and kernel:\n19\n"
     ]
    }
   ],
   "source": [
    "input_grid = np.array([[3,3,2,1,0],[0,0,1,3,1],[3,1,2,2,3],[2,0,0,2,2],[2,0,0,0,1]])\n",
    "print('Input Grid:')\n",
    "print(input_grid)\n",
    "\n",
    "print('\\nPortion of Input grid corresponding to right middle output feature map:')\n",
    "print(input_grid[1:-1,2:])\n",
    "\n",
    "kernel_grid = np.array([[0,1,2],[2,2,0],[0,1,2]])\n",
    "print('\\nKernel:')\n",
    "print(kernel_grid)\n",
    "\n",
    "output_rm = np.sum(np.multiply(input_grid[1:-1,2:], kernel_grid))\n",
    "print('\\nOutput of sum of element wise multiplication of input portion and kernel:')\n",
    "print(output_rm)\n"
   ]
  },
  {
   "cell_type": "markdown",
   "metadata": {},
   "source": [
    "**Note the shrinked output**: Here, we did not use **zero padding** (at the edges) so the output of this layers is shrinked by 1 on all sides. If the kernel size is $k=2m+1$, the output will be shrinked by $m$ on all sides so the width and height will be both reduced by $2m$.\n",
    "\n",
    "#### Convolutions with Multiple Input/Output Channels\n",
    "\n",
    "For a colour image, the kernel will be a **3-dimensional tensor**. This kernel will move through the input features just like before, and we \"dot\" the pixel intensities with the kernel at each region, exactly like before. This \"size of the 3rd (colour) dimension\" is called the **number of input channels** or **number of input feature maps**.\n",
    "\n",
    "We also want to detect multiple features, e.g., both horizontal edges and vertical edges. We would want to learn **many** convolutional filters on the same input. That is,\n",
    "we would want to make the same computation above using different kernels, like this:\n",
    "\n",
    "<img src=\"https://upload.wikimedia.org/wikipedia/commons/6/68/Conv_layer.png\" width=\"200px\">\n",
    "\n",
    "Each circle on the right of the image represents the output of a different kernel dotted\n",
    "with the highlighted region on the right. So, the output feature is also a 3-dimensional tensor.\n",
    "The size of the new dimension\n",
    "is called the **number of output channels** or **number of output feature maps**.\n",
    "In the picture above, there are 5 output channels.\n",
    "\n",
    "The `conv2D` layer expects as input a tensor in the format \"NCHW\", meaning that the dimensions of the tensor should follow the order:\n",
    "\n",
    "* batch size\n",
    "* channel\n",
    "* height\n",
    "* width\n",
    "\n",
    "Let us create a convolutional layer using `nn.Conv2d`:"
   ]
  },
  {
   "cell_type": "code",
   "execution_count": 8,
   "metadata": {},
   "outputs": [],
   "source": [
    "myconv1 = nn.Conv2d(in_channels=3,  # number of input channels\n",
    "                 out_channels=7, # number of output channels\n",
    "                 kernel_size=5)  # size of the kernel, "
   ]
  },
  {
   "cell_type": "code",
   "execution_count": 9,
   "metadata": {},
   "outputs": [
    {
     "output_type": "execute_result",
     "data": {
      "text/plain": [
       "torch.Size([32, 7, 124, 124])"
      ]
     },
     "metadata": {},
     "execution_count": 9
    }
   ],
   "source": [
    "#Emulate a batch of 32 colour images, each of size 128x128, like this:\n",
    "x = torch.randn(32, 3, 128, 128)\n",
    "y = myconv1(x)\n",
    "y.shape"
   ]
  },
  {
   "cell_type": "markdown",
   "metadata": {},
   "source": [
    "The output tensor is also in the \"NCHW\" format. We still have 32 images, and 7 channels\n",
    "(consistent with `out_channels` of `conv`), and of size 124x124. If we added the appropriate\n",
    "padding to `conv`, namely `padding` = $m$ (the kernel_size: $2m+1$), then our output width and height should be consistent with the input width and height:"
   ]
  },
  {
   "cell_type": "code",
   "execution_count": 10,
   "metadata": {},
   "outputs": [
    {
     "output_type": "execute_result",
     "data": {
      "text/plain": [
       "torch.Size([32, 7, 128, 128])"
      ]
     },
     "metadata": {},
     "execution_count": 10
    }
   ],
   "source": [
    "myconv2 = nn.Conv2d(in_channels=3,\n",
    "                  out_channels=7,\n",
    "                  kernel_size=5,\n",
    "                  padding=2)\n",
    "\n",
    "x = torch.randn(32, 3, 128, 128)\n",
    "y = myconv2(x)\n",
    "y.shape"
   ]
  },
  {
   "cell_type": "markdown",
   "metadata": {},
   "source": [
    "#### The parameters of `Conv2d`"
   ]
  },
  {
   "cell_type": "code",
   "execution_count": 11,
   "metadata": {
    "scrolled": true
   },
   "outputs": [
    {
     "output_type": "stream",
     "name": "stdout",
     "text": [
      "len(conv_params): 2\nFilters: torch.Size([7, 3, 5, 5])\nBiases: torch.Size([7])\n"
     ]
    }
   ],
   "source": [
    "conv_params = list(myconv2.parameters())\n",
    "print(\"len(conv_params):\", len(conv_params))\n",
    "print(\"Filters:\", conv_params[0].shape)  #7 filters, each of size 3 x 5 x 5\n",
    "print(\"Biases:\", conv_params[1].shape)"
   ]
  },
  {
   "cell_type": "markdown",
   "metadata": {},
   "source": [
    "### Pooling Layers - Subsampling\n",
    "\n",
    "A pooling layer can be created like this: \n",
    "<img src=\"https://upload.wikimedia.org/wikipedia/commons/e/e9/Max_pooling.png\" width=\"300px\">"
   ]
  },
  {
   "cell_type": "code",
   "execution_count": 12,
   "metadata": {},
   "outputs": [
    {
     "output_type": "execute_result",
     "data": {
      "text/plain": [
       "torch.Size([32, 7, 64, 64])"
      ]
     },
     "metadata": {},
     "execution_count": 12
    }
   ],
   "source": [
    "mypool = nn.MaxPool2d(kernel_size=2, stride=2)\n",
    "y = myconv2(x)\n",
    "z = mypool(y)\n",
    "z.shape"
   ]
  },
  {
   "cell_type": "markdown",
   "metadata": {},
   "source": [
    "Usually, the kernel size and the stride length will be equal so each pixel is pooled only once. \n",
    "The pooling layer has **no trainable parameters**:"
   ]
  },
  {
   "cell_type": "code",
   "execution_count": 13,
   "metadata": {},
   "outputs": [
    {
     "output_type": "execute_result",
     "data": {
      "text/plain": [
       "[]"
      ]
     },
     "metadata": {},
     "execution_count": 13
    }
   ],
   "source": [
    "list(mypool.parameters())"
   ]
  },
  {
   "cell_type": "markdown",
   "metadata": {},
   "source": [
    "In Lab 6, we did not define a class for our linear regression NN. Here we do so and define a CNN class consisting of several layers as defined below (from the official the Pytorch tutorial)."
   ]
  },
  {
   "cell_type": "code",
   "execution_count": 14,
   "metadata": {},
   "outputs": [],
   "source": [
    "class CNN(nn.Module):\n",
    "    def __init__(self):\n",
    "        super(CNN, self).__init__()\n",
    "        self.conv1 = nn.Conv2d(3, 8, 5) #3: #input channels; 6: #output channels; 5: kernel size\n",
    "        self.pool = nn.MaxPool2d(2, 2)\n",
    "        self.conv2 = nn.Conv2d(8, 16, 5)\n",
    "        self.fc1 = nn.Linear(16 * 5 * 5, 120)\n",
    "        self.fc2 = nn.Linear(120, 84)\n",
    "        self.fc3 = nn.Linear(84, 10)\n",
    "\n",
    "    def forward(self, x):\n",
    "        x = self.pool(F.tanh(self.conv1(x)))\n",
    "        x = self.pool(F.tanh(self.conv2(x)))\n",
    "        x = x.view(-1, 16 * 5 * 5)\n",
    "        x = F.tanh(self.fc1(x))\n",
    "        x = F.tanh(self.fc2(x))\n",
    "        x = self.fc3(x)\n",
    "        return x\n",
    "\n",
    "myCNN = CNN()"
   ]
  },
  {
   "cell_type": "code",
   "execution_count": 15,
   "metadata": {},
   "outputs": [
    {
     "output_type": "stream",
     "name": "stdout",
     "text": [
      "loss: 2.331056594848633\nFinished Training!\n"
     ]
    }
   ],
   "source": [
    "criterion = nn.CrossEntropyLoss()\n",
    "for i, data in enumerate(trainloader, 0):\n",
    "    # get the inputs; data is a list of [inputs, labels]\n",
    "    inputs, labels = data\n",
    "\n",
    "    # forward\n",
    "    outputs = myCNN(inputs)\n",
    "    loss = criterion(outputs, labels)\n",
    "    print(\"loss: {}\".format(loss.item()))\n",
    "    break\n",
    "\n",
    "print('Finished Training!')"
   ]
  },
  {
   "cell_type": "code",
   "execution_count": null,
   "metadata": {},
   "outputs": [],
   "source": []
  },
  {
   "cell_type": "markdown",
   "metadata": {},
   "source": [
    "`__init__()` defines the layers.  `forward()` defines the *forward pass* that transform the input to the output. `backward()` is automatically defined using `autograd`. `ReLu()` is the [rectified linear unit](https://en.wikipedia.org/wiki/Rectifier_(neural_networks)), a popular **activation function** that performs a *nonlinear* transformation/mapping of an input variable (element-wise operation). `Conv2d()` defines a convolution layer, as shown below where blue maps indicate inputs, and cyan maps indicate outputs.\n",
    "\n",
    "<table>\n",
    "    <tr>\n",
    "    <td  style=\"text-align: left\"> Convolution with no padding, no strides.      <img src=\"https://raw.githubusercontent.com/vdumoulin/conv_arithmetic/master/gif/no_padding_no_strides.gif\" alt=\"Drawing\" style=\"width: 250px;\"/> </td>\n",
    "</tr>\n",
    "</table>\n",
    "\n",
    "More convolution layers are illustrated nicely at [Convolution arithmetic](https://github.com/vdumoulin/conv_arithmetic). \n",
    "\n",
    "\n",
    "This network `CNN()` defined above has **two** convolutional layers: `conv1` and `conv2`.\n",
    "\n",
    "- The first convolutional layer `conv1` requires an input with 3 channels,\n",
    "  outputs **6 channels**, and has a kernel size of `5x5`. We are not adding any zero-padding.\n",
    "- The second convolutional layer `conv2` requires an input with **6 channels** (note this **MUST match the output channel number of the previous layer**),  outputs 16 channels, and has a kernel size of (again) `5x5`. We are not adding any zero-padding.\n",
    "\n",
    "In the `forward` function we see that the convolution operations are always \n",
    "followed by the usual ReLU activation function, and a pooling operation.\n",
    "The pooling operation used is max pooling, so each pooling operation\n",
    "**reduces the width and height of the neurons in the layer by half**.\n",
    "\n",
    "\n",
    "\n",
    "Because we are not adding any zero padding, we end up with `16 * 5 * 5` hidden units\n",
    "after the second convolutional layer (`16` matches the output channel number of `conv2`, `5 * 5` is based on the input dimension `32x32`, see below). These units are then passed to two fully-connected\n",
    "layers, with the usual ReLU activation in between.\n",
    "\n",
    "Notice that the number of channels **grew** in later convolutional layers! However,\n",
    "the number of hidden units in each layer is still reduced because of the convolution and pooling operation:\n",
    "\n",
    "* Initial Image Size: $3 \\times 32 \\times 32 $\n",
    "* After `conv1`: $6 \\times 28 \\times 28$ ($32 \\times 32$ is reduced by `2` on each side)\n",
    "* After Pooling: $6 \\times 14 \\times 14 $ (image size halved)\n",
    "* After `conv2`: $16 \\times 10 \\times 10$ ($14 \\times 14$ is reduced by `2` on each side)\n",
    "* After Pooling: $16 \\times 5 \\times 5 $ (halved)\n",
    "* After `fc1`: $120$\n",
    "* After `fc2`: $84$\n",
    "* After `fc3`: $10$ (**= number of classes**)\n",
    "\n",
    "This pattern of **doubling the number of channels with every pooling / strided convolution**\n",
    "is common in modern convolutional architectures. It is used to avoid loss of too much information within\n",
    "a single reduction in resolution.\n"
   ]
  },
  {
   "cell_type": "markdown",
   "metadata": {},
   "source": [
    "---\n",
    "### Question 3\n",
    "\n",
    "If the input image size is $3 \\times 64 \\times 64 $, can we use the same CNN defined above? If yes, show the feature sizes after each operation as above. If no, how shall we modify the network architecture to process such $3 \\times 64 \\times 64 $ images?\n",
    "\n",
    "**Answer**: \n",
    "\n",
    "* Initial Image Size: $3 \\times 64 \\times 64 $\n",
    "* After `conv1`: $6 \\times 60 \\times 60$ ($64 \\times 64$ is reduced by `2` on each side)\n",
    "* After Pooling: $6 \\times 30 \\times 30 $ (image size halved)\n",
    "* After `conv2`: $16 \\times 26 \\times 26$ ($30 \\times 30$ is reduced by `2` on each side)\n",
    "* After Pooling: $16 \\times 13 \\times 13 $ (halved) \\\\\n",
    "\n",
    "Over here, the input to the next linear layer, fc1, needs to be of size $16 \\times 13 \\times 13$, i.e. `self.fc1 = nn.Linear(16 * 13 * 13, 120)`. After making the change we get\n",
    "* After `fc1`: $120$\n",
    "* After `fc2`: $84$\n",
    "* After `fc3`: $10$ (**= number of classes**)\n",
    "\n",
    "---"
   ]
  },
  {
   "cell_type": "markdown",
   "metadata": {},
   "source": [
    "#### Inspect the NN architecture\n",
    "\n",
    "Now let's take a look at the CNN built. Let us check the (randomly initialised) parameters of this NN. Below, we check the first 2D convolution. "
   ]
  },
  {
   "cell_type": "code",
   "execution_count": null,
   "metadata": {},
   "outputs": [],
   "source": [
    "params = list(myCNN.parameters())\n",
    "print(len(params))\n",
    "print(params[0].size())  # First Conv2d's .weight\n",
    "print(params[1].size())  # First Conv2d's .bias\n",
    "print(params[1])"
   ]
  },
  {
   "cell_type": "markdown",
   "metadata": {},
   "source": [
    "---\n",
    "### Question 4\n",
    "\n",
    "From the above, we can see the length of `params` is 10, i.e. there are 10 sets of parameters. Set 0 is for the weights of `conv1`. Set 1 is the bias of `conv1`. What are the remaining 8 sets for?\n",
    "\n",
    "**Answer**: \n",
    "\n",
    "0. weights of `conv1`\n",
    "1. bias of `conv1`\n",
    "2. weights of `conv2`\n",
    "3. bias of `conv2`\n",
    "4. weights of `fc1`\n",
    "5. bias of `f1c`\n",
    "6. weights of `fc2`\n",
    "7. bias of `f2`\n",
    "8. weights of `fc3`\n",
    "9. bias of `fc3`\n",
    "\n",
    "---"
   ]
  },
  {
   "cell_type": "code",
   "execution_count": null,
   "metadata": {},
   "outputs": [],
   "source": [
    "for i in params:\n",
    "    print(i.size())"
   ]
  },
  {
   "cell_type": "markdown",
   "metadata": {},
   "source": [
    "To learn more about these functions, refer to the [`torch.nn` documentation](https://pytorch.org/docs/stable/nn.html) (search for the function, e.g., search for `torch.nn.ReLu(` and you will find its documentation [here](https://pytorch.org/docs/stable/nn.html?highlight=relu#torch.nn.ReLU)."
   ]
  },
  {
   "cell_type": "markdown",
   "metadata": {},
   "source": [
    "## 4. Optimisation, Training and Testing\n",
    "\n",
    "### Choose a criterion (cross-entropy loss) and an optimizer (SGD with momentum)"
   ]
  },
  {
   "cell_type": "code",
   "execution_count": null,
   "metadata": {},
   "outputs": [],
   "source": [
    "criterion = nn.CrossEntropyLoss()\n",
    "optimizer = optim.SGD(myCNN.parameters(), lr=0.001, momentum=0.9)"
   ]
  },
  {
   "cell_type": "markdown",
   "metadata": {},
   "source": [
    "### Train the network\n",
    "\n",
    "Next, we will feed data to this CNN to train it, i.e., learn its parameters so that the criterion above (cross-entropy loss) is minimised, using the SGD optimiser. The dataset is loaded in batches to train the model. One `epoch` means one cycle through the full training dataset.  The steps are \n",
    "* Define the optimisation criterion and optimisation method.\n",
    "* Iterate through the whole dataset in batches, for a number of `epochs` till a maximum specified or a convergence criteria (e.g., successive change of loss < 0.000001)\n",
    "* In each batch processing, we \n",
    "    * do a forward pass\n",
    "    * compute the loss\n",
    "    * backpropagate the loss via `autograd`\n",
    "    * update the parameters\n",
    "\n",
    "Now, we loop over our data iterator, and feed the inputs to the network and optimize. Here, I set `max_epochs` to 2 for quick testing. In practice, more epochs typically lead to better performance. "
   ]
  },
  {
   "cell_type": "code",
   "execution_count": null,
   "metadata": {},
   "outputs": [],
   "source": [
    "max_epochs=2\n",
    "for epoch in range(max_epochs):  # loop over the dataset multiple times\n",
    "\n",
    "    running_loss = 0.0\n",
    "    for i, data in enumerate(trainloader, 0):\n",
    "        # get the inputs; data is a list of [inputs, labels]\n",
    "        inputs, labels = data\n",
    "\n",
    "        # zero the parameter gradients\n",
    "        optimizer.zero_grad()\n",
    "\n",
    "        # forward + backward + optimize\n",
    "        outputs = myCNN(inputs)\n",
    "        loss = criterion(outputs, labels)\n",
    "        loss.backward()\n",
    "        optimizer.step()\n",
    "\n",
    "        # print statistics\n",
    "        running_loss += loss.item()\n",
    "        if i % 2000 == 1999:    # print every 2000 mini-batches\n",
    "            print('[%d, %5d] loss: %.3f' % (epoch + 1, i + 1, running_loss / 2000))\n",
    "            running_loss = 0.0\n",
    "\n",
    "print('Finished Training!')"
   ]
  },
  {
   "cell_type": "markdown",
   "metadata": {},
   "source": [
    "Take a look at how `autograd` keeps track of the gradients for back propagation."
   ]
  },
  {
   "cell_type": "code",
   "execution_count": null,
   "metadata": {},
   "outputs": [],
   "source": [
    "print(loss.grad_fn)\n",
    "print(loss.grad_fn.next_functions[0][0])"
   ]
  },
  {
   "cell_type": "markdown",
   "metadata": {},
   "source": [
    "### Save our trained model:"
   ]
  },
  {
   "cell_type": "code",
   "execution_count": null,
   "metadata": {},
   "outputs": [],
   "source": [
    "PATH = 'data/cifar_net.pth'\n",
    "torch.save(myCNN.state_dict(), PATH)"
   ]
  },
  {
   "cell_type": "markdown",
   "metadata": {},
   "source": [
    "See [here](https://pytorch.org/docs/stable/notes/serialization.html)\n",
    "for more details on saving PyTorch models.\n",
    "\n",
    "### Test the network on the test data\n",
    "\n",
    "We will test the trained network by predicting the class label that the neural network outputs, and checking it against the ground-truth. Okay, first step. Let us display an image from the test set to get familiar."
   ]
  },
  {
   "cell_type": "code",
   "execution_count": null,
   "metadata": {},
   "outputs": [],
   "source": [
    "dataiter = iter(testloader)\n",
    "images, labels = dataiter.next()\n",
    "\n",
    "# print images\n",
    "imshow(torchvision.utils.make_grid(images))\n",
    "print('GroundTruth: ', ' '.join('%5s' % classes[labels[j]] for j in range(batchSize)))"
   ]
  },
  {
   "cell_type": "markdown",
   "metadata": {},
   "source": [
    "Next, let's load back in our saved model (note: saving and re-loading wasn't necessary here, we only did it for illustration):\n",
    "\n"
   ]
  },
  {
   "cell_type": "code",
   "execution_count": null,
   "metadata": {},
   "outputs": [],
   "source": [
    "loadCNN = CNN()\n",
    "loadCNN.load_state_dict(torch.load(PATH))"
   ]
  },
  {
   "cell_type": "markdown",
   "metadata": {},
   "source": [
    "Okay, now let us see what the neural network thinks these examples above are:\n",
    "\n"
   ]
  },
  {
   "cell_type": "code",
   "execution_count": null,
   "metadata": {},
   "outputs": [],
   "source": [
    "outputs = loadCNN(images)"
   ]
  },
  {
   "cell_type": "markdown",
   "metadata": {},
   "source": [
    "The outputs are energies for the 10 classes.\n",
    "The higher the energy for a class, the more the network\n",
    "thinks that the image is of the particular class.\n",
    "So, let's get the index of the highest energy:\n",
    "\n"
   ]
  },
  {
   "cell_type": "code",
   "execution_count": null,
   "metadata": {},
   "outputs": [],
   "source": [
    "_, predicted = torch.max(outputs, 1)\n",
    "\n",
    "print('Predicted: ', ' '.join('%5s' % classes[predicted[j]] for j in range(batchSize)))"
   ]
  },
  {
   "cell_type": "markdown",
   "metadata": {},
   "source": [
    "How accurate do you get? "
   ]
  },
  {
   "cell_type": "markdown",
   "metadata": {},
   "source": [
    "---\n",
    "\n",
    "### Question 5\n",
    "\n",
    "Note that the results are *random* because the batches are randomly formed. How to fix the randomness so that you can get the same results if you run your code multiple times? \n",
    "\n",
    "**Answer**: \n",
    "\n",
    "Before forming the batches, i.e. before `trainloader = torch.utils.data.DataLoader ...`, we can call torch.manual_seed(0)<br />\n",
    "If you are not sure, it is the safest to set the seeds once you have imported the libraries (in cell [1]).\n",
    "\n",
    "Most libraries will 'generate' random numbers from predefined lists of random numbers. By setting the seed, we ensure that Pytorch uses the same random numbers each time for reproducibility.\n",
    "\n",
    "---\n"
   ]
  },
  {
   "cell_type": "markdown",
   "metadata": {},
   "source": [
    "Let us look at how the network performs on the whole dataset."
   ]
  },
  {
   "cell_type": "code",
   "execution_count": null,
   "metadata": {},
   "outputs": [],
   "source": [
    "correct = 0\n",
    "total = 0\n",
    "with torch.no_grad():  #testing phase, no need to compute the gradients to save time\n",
    "    for data in testloader:\n",
    "        images, labels = data\n",
    "        outputs = loadCNN(images)\n",
    "        _, predicted = torch.max(outputs.data, 1)\n",
    "        total += labels.size(0)\n",
    "        correct += (predicted == labels).sum().item()\n",
    "\n",
    "print('Accuracy of the network on the 10000 test images: %d %%' % (100 * correct / total))"
   ]
  },
  {
   "cell_type": "markdown",
   "metadata": {},
   "source": [
    "You should get something around 50%. "
   ]
  },
  {
   "cell_type": "markdown",
   "metadata": {},
   "source": [
    "---\n",
    "### Question 6\n",
    "\n",
    "What is the **chance level** accuracy (i.e. random classification)? How good is your CNN accuracy compared to the chance level?\n",
    "\n",
    "**Answer**: \n",
    "\n",
    "Short answer: there are 10 classes so the chance level accuracy is $\\frac{1}{10}=10\\%$, like throwing a die of 10 faces. The CNN accuracy is far better than a random guess of chance level accuracy.\n",
    "\n",
    "*(You are not expected to do the following in answering this question.)*\n",
    "\n",
    "Alternative investigation: We have 1000 samples of each of the classes in the 10,000 samples. If we randomly guess each sample, we get an expected value of $10\\% \\times 10000 = 1000$ correct guesses out of $10000$. Giving us a chance level accuracy of $1000/10000 = 10\\%$. <br />\n",
    "Let us empirically test this using a dummy classifier from sci-kit learn"
   ]
  },
  {
   "cell_type": "code",
   "execution_count": null,
   "metadata": {},
   "outputs": [],
   "source": [
    "#obtain all the test labels\n",
    "all_labels = np.array([])\n",
    "\n",
    "for data in testloader:\n",
    "    _ , labels = data\n",
    "    all_labels = np.append(all_labels, labels.numpy())\n",
    "    \n",
    "#Print number of each class\n",
    "for i in np.unique(all_labels):\n",
    "    print('Class {} has {} samples'.format(i,sum(i==all_labels)))"
   ]
  },
  {
   "cell_type": "code",
   "execution_count": null,
   "metadata": {},
   "outputs": [],
   "source": [
    "from sklearn.dummy import DummyClassifier\n",
    "dummy_clf = DummyClassifier(strategy=\"stratified\")\n",
    "#fit the dummy classifer to the data. The 'X' here doesn't matter. DummyClassifer predicts purely based on the label distribution\n",
    "dummy_clf.fit(np.zeros(all_labels.size), all_labels)\n",
    "dummy_clf.score(np.zeros(all_labels.size), all_labels)"
   ]
  },
  {
   "cell_type": "markdown",
   "metadata": {},
   "source": [
    "---"
   ]
  },
  {
   "cell_type": "markdown",
   "metadata": {},
   "source": [
    "If your network works better than chance, it seems like to have learnt something.\n",
    "\n",
    "Hmmm, what are the classes that performed well, and the classes that did not perform well:"
   ]
  },
  {
   "cell_type": "code",
   "execution_count": null,
   "metadata": {},
   "outputs": [],
   "source": [
    "class_correct = list(0. for i in range(10))\n",
    "class_total = list(0. for i in range(10))\n",
    "with torch.no_grad():\n",
    "    for data in testloader:\n",
    "        images, labels = data\n",
    "        outputs = loadCNN(images)\n",
    "        _, predicted = torch.max(outputs, 1)\n",
    "        c = (predicted == labels).squeeze()\n",
    "        for i in range(4):\n",
    "            label = labels[i]\n",
    "            class_correct[label] += c[i].item()\n",
    "            class_total[label] += 1\n",
    "\n",
    "\n",
    "for i in range(10):\n",
    "    print('Accuracy of %5s : %2d %%' % (classes[i], 100 * class_correct[i] / class_total[i]))"
   ]
  },
  {
   "cell_type": "markdown",
   "metadata": {},
   "source": [
    "\n",
    "## Additional ideas to explore\n",
    "\n",
    "* Change the [loss function](https://pytorch.org/docs/stable/nn.html#loss-functions) to different choices and compare the results.\n",
    "* Train the network for more passes (epochs) and/or other training settings (e.g., other patch sizes) to study performance variations.\n",
    "* Practice change the CNN architecture (pay attention to the size matching between different layers).\n",
    "* Try on GPU if you have one by following the end of the [the CIFAR10 Pytorch tutorial](https://pytorch.org/tutorials/beginner/blitz/cifar10_tutorial.html#sphx-glr-beginner-blitz-cifar10-tutorial-py).\n",
    "* Try out the AlexNet `torchvision.models.alexnet` and other architectures from `torchvision.models` for image classification\n",
    "* Try out other pytorch computer vision datasets `torchvision.datasets` for image classification. "
   ]
  }
 ],
 "metadata": {
  "kernelspec": {
   "display_name": "Python 3",
   "language": "python",
   "name": "python3"
  },
  "language_info": {
   "codemirror_mode": {
    "name": "ipython",
    "version": 3
   },
   "file_extension": ".py",
   "mimetype": "text/x-python",
   "name": "python",
   "nbconvert_exporter": "python",
   "pygments_lexer": "ipython3",
   "version": "3.8.5-final"
  },
  "toc": {
   "base_numbering": 1,
   "nav_menu": {},
   "number_sections": true,
   "sideBar": true,
   "skip_h1_title": false,
   "title_cell": "Table of Contents",
   "title_sidebar": "Contents",
   "toc_cell": false,
   "toc_position": {},
   "toc_section_display": true,
   "toc_window_display": false
  }
 },
 "nbformat": 4,
 "nbformat_minor": 1
}